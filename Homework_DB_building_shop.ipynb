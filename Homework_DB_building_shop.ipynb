{
 "cells": [
  {
   "cell_type": "code",
   "execution_count": 63,
   "id": "d4c86021",
   "metadata": {},
   "outputs": [],
   "source": [
    "import sqlite3 #create db\n",
    "\n",
    "conn = sqlite3.connect('db_building_shop.sqlite3')\n",
    "cursor = conn.cursor()"
   ]
  },
  {
   "cell_type": "code",
   "execution_count": 62,
   "id": "b14bcb65",
   "metadata": {},
   "outputs": [],
   "source": [
    "sql = (\"\"\"CREATE TABLE IF NOT EXISTS products (\n",
    "Id integer PRIMARY KEY AUTOINCREMENT,\n",
    "Name text NOT NULL,\n",
    "Unit text NOT NULL,\n",
    "Type text NOT NULL\n",
    ");\n",
    "\n",
    "CREATE TABLE IF NOT EXISTS price (\n",
    "Id integer PRIMARY KEY AUTOINCREMENT,\n",
    "Period datetime NOT NULL,\n",
    "Price number NOT NULL,\n",
    "ProductId integer,\n",
    "\n",
    "FOREIGN KEY (ProductId)\n",
    "    REFERENCES products (Id)\n",
    ");\n",
    "\n",
    "CREATE TABLE IF NOT EXISTS stock (\n",
    "Id integer PRIMARY KEY AUTOINCREMENT,\n",
    "Period datetime NOT NULL,\n",
    "Qty number NOT NULL,\n",
    "ProductId integer NOT NULL,\n",
    "\n",
    "FOREIGN KEY (ProductId)\n",
    "    REFERENCES products (Id)\n",
    "\n",
    ");\n",
    "\n",
    "CREATE TABLE IF NOT EXISTS customers (\n",
    "Id integer PRIMARY KEY AUTOINCREMENT,\n",
    "FirstName text NOT NULL,\n",
    "LastName text NOT NULL,\n",
    "phone text NOT NULL,\n",
    "email text NOT NULL,\n",
    "address text NOT NULL\n",
    ");\n",
    "\"\"\")"
   ]
  },
  {
   "cell_type": "code",
   "execution_count": 64,
   "id": "a6db5cf5",
   "metadata": {},
   "outputs": [
    {
     "data": {
      "text/plain": [
       "[]"
      ]
     },
     "execution_count": 64,
     "metadata": {},
     "output_type": "execute_result"
    }
   ],
   "source": [
    "cursor.executescript(sql)\n",
    "cursor.fetchall()"
   ]
  },
  {
   "cell_type": "code",
   "execution_count": 65,
   "id": "4e17a90e",
   "metadata": {},
   "outputs": [
    {
     "data": {
      "text/plain": [
       "<sqlite3.Cursor at 0x18dee0a3260>"
      ]
     },
     "execution_count": 65,
     "metadata": {},
     "output_type": "execute_result"
    }
   ],
   "source": [
    "cursor.execute(\"\"\"INSERT INTO products (name, unit, type) values (\"шпатлівка\", \"мішки\", \"буд.матеріали\")\"\"\")"
   ]
  },
  {
   "cell_type": "code",
   "execution_count": 66,
   "id": "6b819e93",
   "metadata": {},
   "outputs": [
    {
     "data": {
      "text/plain": [
       "[(1, 'шпатлівка', 'мішки', 'буд.матеріали'),\n",
       " (2, 'пісок', 'мішки', 'буд.матеріали'),\n",
       " (3, 'шпатлівка', 'мішки', 'буд.матеріали')]"
      ]
     },
     "execution_count": 66,
     "metadata": {},
     "output_type": "execute_result"
    }
   ],
   "source": [
    "# conn.commit() \n",
    "\n",
    "cursor.execute('SELECT * FROM products')\n",
    "cursor.fetchall()"
   ]
  },
  {
   "cell_type": "code",
   "execution_count": 71,
   "id": "6e0e1f82",
   "metadata": {},
   "outputs": [
    {
     "name": "stdout",
     "output_type": "stream",
     "text": [
      "Введіть назву товару: лак\n",
      "Введіть одиниці виміру товару: банки\n",
      "Введіть вид товару: декоратор\n"
     ]
    }
   ],
   "source": [
    "#def function to insert data into 'products' table \n",
    "def insert_into_products(name, unit, type_):\n",
    "    sql_from_input = \"\"\"INSERT INTO products (name, unit, type) VALUES (?, ?, ?)\"\"\"\n",
    "\n",
    "    sqlite3.connect('db_building_shop.sqlite3')\n",
    "    curs = conn.cursor()\n",
    "    curs.execute(sql_from_input, (name, unit, type_))\n",
    "    conn.commit()\n",
    "#     conn.close()\n",
    "\n",
    "name = input(\"Введіть назву товару: \")\n",
    "unit = input(\"Введіть одиниці виміру товару: \")\n",
    "type_ = input(\"Введіть вид товару: \")\n",
    "insert_into_products(name, unit, type_)\n"
   ]
  },
  {
   "cell_type": "code",
   "execution_count": 72,
   "id": "39bc4782",
   "metadata": {},
   "outputs": [
    {
     "data": {
      "text/plain": [
       "[(1, 'шпатлівка', 'мішки', 'буд.матеріали'),\n",
       " (2, 'пісок', 'мішки', 'буд.матеріали'),\n",
       " (3, 'шпатлівка', 'мішки', 'буд.матеріали'),\n",
       " (4, 'пісок', 'мішки', 'буд.матеріали'),\n",
       " (5, 'фарба', 'банки', 'декоратори'),\n",
       " (6, 'лак', 'банки', 'декоратор')]"
      ]
     },
     "execution_count": 72,
     "metadata": {},
     "output_type": "execute_result"
    }
   ],
   "source": [
    "cursor.execute('SELECT * FROM products')\n",
    "cursor.fetchall()"
   ]
  },
  {
   "cell_type": "code",
   "execution_count": 75,
   "id": "33a94281",
   "metadata": {},
   "outputs": [
    {
     "name": "stdout",
     "output_type": "stream",
     "text": [
      "Введіть прізвище: Галкіна\n",
      "Введіть імя: Марина\n",
      "Введіть номер телефону: 387689809809\n",
      "Введіть електронну пошту: galk@ukr.net\n",
      "Введіть адресу: Одеса\n"
     ]
    }
   ],
   "source": [
    "#def function to insert data into 'products' table \n",
    "def insert_into_customers(firstname, lastname, phone, email, address):\n",
    "    sql_from_input = \"\"\"INSERT INTO customers (firstname, lastname, phone, email, address) VALUES (?, ?, ?, ?, ?)\"\"\"\n",
    "\n",
    "    sqlite3.connect('db_building_shop.sqlite3')\n",
    "    curs = conn.cursor()\n",
    "    curs.execute(sql_from_input, (firstname, lastname, phone, email, address))\n",
    "    conn.commit()\n",
    "#     conn.close()\n",
    "\n",
    "firstname = input(\"Введіть прізвище: \")\n",
    "lastname = input(\"Введіть імя: \")\n",
    "phone = input(\"Введіть номер телефону: \")\n",
    "email = input(\"Введіть електронну пошту: \")\n",
    "address = input(\"Введіть адресу: \")\n",
    "insert_into_customers(firstname, lastname, phone, email, address)"
   ]
  },
  {
   "cell_type": "code",
   "execution_count": 76,
   "id": "20ba9ce5",
   "metadata": {},
   "outputs": [
    {
     "data": {
      "text/plain": [
       "[(1, 'Галкіна', 'Таїсія', '0674892491', 'tasiagalkina@gmail.com', 'Одеса'),\n",
       " (2, 'Галкіна', 'Марина', '387689809809', 'galk@ukr.net', 'Одеса')]"
      ]
     },
     "execution_count": 76,
     "metadata": {},
     "output_type": "execute_result"
    }
   ],
   "source": [
    "cursor.execute('SELECT * FROM customers')\n",
    "cursor.fetchall()"
   ]
  },
  {
   "cell_type": "code",
   "execution_count": null,
   "id": "75d77231",
   "metadata": {},
   "outputs": [],
   "source": []
  }
 ],
 "metadata": {
  "kernelspec": {
   "display_name": "Python 3 (ipykernel)",
   "language": "python",
   "name": "python3"
  },
  "language_info": {
   "codemirror_mode": {
    "name": "ipython",
    "version": 3
   },
   "file_extension": ".py",
   "mimetype": "text/x-python",
   "name": "python",
   "nbconvert_exporter": "python",
   "pygments_lexer": "ipython3",
   "version": "3.9.13"
  }
 },
 "nbformat": 4,
 "nbformat_minor": 5
}
