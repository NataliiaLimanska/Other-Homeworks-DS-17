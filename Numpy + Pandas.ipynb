{
 "cells":[
  {
   "cell_type":"markdown",
   "source":[
    
   ],
   "attachments":{
    
   },
   "metadata":{
    "datalore":{
     "node_id":"d43ohT7HMFYaXZTxv5SEfb",
     "type":"MD",
     "hide_input_from_viewers":false,
     "hide_output_from_viewers":false,
     "report_properties":{
      "rowId":"g90zkAfYDknId5ReQZRjma"
     }
    }
   }
  },
  {
   "cell_type":"markdown",
   "source":[
    "# Задание 3: Numpy + Pandas"
   ],
   "attachments":{
    
   },
   "metadata":{
    "datalore":{
     "node_id":"6U7bYbK8JgJNNSr4lf4F7I",
     "type":"MD",
     "hide_input_from_viewers":false,
     "hide_output_from_viewers":false,
     "report_properties":{
      "rowId":"U8pr4GkWtIlHJzn9bsGCBp"
     }
    }
   }
  },
  {
   "cell_type":"markdown",
   "source":[
    "Создайте в переменной Z Numpy вектор из нулей длины n."
   ],
   "attachments":{
    
   },
   "metadata":{
    "datalore":{
     "node_id":"gTw9785yFiMaxF4uSQ29Cp",
     "type":"MD",
     "hide_input_from_viewers":false,
     "hide_output_from_viewers":false,
     "report_properties":{
      "rowId":"Iu7TvtZPYnx0BrSIqXeElp"
     }
    }
   }
  },
  {
   "cell_type":"code",
   "source":[
    "import numpy as np"
   ],
   "execution_count":2,
   "outputs":[
    
   ],
   "metadata":{
    "datalore":{
     "node_id":"zvUrNVlODgUmqsZHouSXIg",
     "type":"CODE",
     "hide_input_from_viewers":false,
     "hide_output_from_viewers":false,
     "report_properties":{
      "rowId":"ZyY3KY6AM7Eq2rOch8NRsP"
     }
    }
   }
  },
  {
   "cell_type":"code",
   "source":[
    "z = np.zeros(10)\n",
    "z"
   ],
   "execution_count":null,
   "outputs":[
    {
     "data":{
      "text\/plain":[
       "array([0., 0., 0., 0., 0., 0., 0., 0., 0., 0.])"
      ]
     },
     "metadata":{
      
     },
     "output_type":"display_data"
    }
   ],
   "metadata":{
    "datalore":{
     "node_id":"PbICbdTDZ5hTpYk3yhsQRO",
     "type":"CODE",
     "hide_input_from_viewers":false,
     "hide_output_from_viewers":false,
     "report_properties":{
      "rowId":"rXPvgwOAP5nwtDyf0FvqFU"
     }
    }
   }
  },
  {
   "cell_type":"markdown",
   "source":[
    "Посчитайте размер матрицы Z в байтах и выведите его на печать"
   ],
   "attachments":{
    
   },
   "metadata":{
    "datalore":{
     "node_id":"KGTqyIGLTl4amvOBAih0Ed",
     "type":"MD",
     "hide_input_from_viewers":false,
     "hide_output_from_viewers":false,
     "report_properties":{
      "rowId":"0665nghD0b78fqG6ujfh5W"
     }
    }
   }
  },
  {
   "cell_type":"code",
   "source":[
    "z.nbytes\n",
    "zz = z.size * z.itemsize\n",
    "zz"
   ],
   "execution_count":null,
   "outputs":[
    {
     "data":{
      "text\/plain":[
       "80"
      ]
     },
     "metadata":{
      
     },
     "output_type":"display_data"
    }
   ],
   "metadata":{
    "datalore":{
     "node_id":"gPijpWjElzWKIBe3EawWdW",
     "type":"CODE",
     "hide_input_from_viewers":false,
     "hide_output_from_viewers":false,
     "report_properties":{
      "rowId":"VBD0fGjsPOzp3NobuzBS46"
     }
    }
   }
  },
  {
   "cell_type":"markdown",
   "source":[
    "Считайте 2 числа:\n",
    "\n",
    "- n - размер Numpy вектора\n",
    "- x - координата элемента вектора, который должен быть равен 1. Остальные элементы вектора должны быть равны 0.\n",
    "\n",
    "Сохраните вектор в переменную Z."
   ],
   "attachments":{
    
   },
   "metadata":{
    "datalore":{
     "node_id":"xORtV2mUQPI0Z5smY0JXkN",
     "type":"MD",
     "hide_input_from_viewers":false,
     "hide_output_from_viewers":false,
     "report_properties":{
      "rowId":"aMKVgRjmrrAOm6ohyekZuj"
     }
    }
   }
  },
  {
   "cell_type":"code",
   "source":[
    "n = 10\n",
    "x=4\n",
    "v = np.full(n, 0)\n",
    "v[x] = 1\n",
    "print(v)"
   ],
   "execution_count":null,
   "outputs":[
    {
     "name":"stdout",
     "text":[
      "[0 0 0 0 1 0 0 0 0 0]\n"
     ],
     "output_type":"stream"
    }
   ],
   "metadata":{
    "datalore":{
     "node_id":"2Cg9d5Ebk2XhuaqVwOwK7i",
     "type":"CODE",
     "hide_input_from_viewers":false,
     "hide_output_from_viewers":false,
     "report_properties":{
      "rowId":"iXev0DaAooGqFhe7bbNVZy"
     }
    }
   }
  },
  {
   "cell_type":"code",
   "source":[
    "Z = np.arange(10,50)\n",
    "print(Z)"
   ],
   "execution_count":null,
   "outputs":[
    {
     "name":"stdout",
     "text":[
      "[10 11 12 13 14 15 16 17 18 19 20 21 22 23 24 25 26 27 28 29 30 31 32 33\n",
      " 34 35 36 37 38 39 40 41 42 43 44 45 46 47 48 49]\n"
     ],
     "output_type":"stream"
    }
   ],
   "metadata":{
    "datalore":{
     "node_id":"tU7DgiyMPM1kSDkXqeTaBh",
     "type":"CODE",
     "hide_input_from_viewers":false,
     "hide_output_from_viewers":false,
     "report_properties":{
      "rowId":"j4SLLDNjazyxNXtOkHb0TR"
     }
    }
   }
  },
  {
   "cell_type":"code",
   "source":[
    "z[3] = 1\n",
    "z"
   ],
   "execution_count":null,
   "outputs":[
    {
     "data":{
      "text\/plain":[
       "array([0., 0., 0., 1., 0., 0., 0., 0., 0., 0.])"
      ]
     },
     "metadata":{
      
     },
     "output_type":"display_data"
    }
   ],
   "metadata":{
    "datalore":{
     "node_id":"t6SBmrVYBxe36PhKxtV6cI",
     "type":"CODE",
     "hide_input_from_viewers":false,
     "hide_output_from_viewers":false,
     "report_properties":{
      "rowId":"RDZcm7VQDTpvbCGzg1WY3o"
     }
    }
   }
  },
  {
   "cell_type":"markdown",
   "source":[
    "Считайте 2 числа n, m.\n",
    "\n",
    "Создайте вектор Z состоящий из чисел от n до m с шагом 1."
   ],
   "attachments":{
    
   },
   "metadata":{
    "datalore":{
     "node_id":"VGpcHgpcn392gei3iWFJeJ",
     "type":"MD",
     "hide_input_from_viewers":false,
     "hide_output_from_viewers":false,
     "report_properties":{
      "rowId":"pBElv3maAnZt2QDTTSqmxq"
     }
    }
   }
  },
  {
   "cell_type":"code",
   "source":[
    "n = 1\n",
    "m = 11\n",
    "v = np.arange(n, m, 2)\n",
    "v"
   ],
   "execution_count":null,
   "outputs":[
    {
     "data":{
      "text\/plain":[
       "array([1, 3, 5, 7, 9])"
      ]
     },
     "metadata":{
      
     },
     "output_type":"display_data"
    }
   ],
   "metadata":{
    "datalore":{
     "node_id":"L81ctROGkpQ7JbLT1g2R1y",
     "type":"CODE",
     "hide_input_from_viewers":false,
     "hide_output_from_viewers":false,
     "report_properties":{
      "rowId":"lKkW0jMelL7lsVzRVKL3NF"
     }
    }
   }
  },
  {
   "cell_type":"code",
   "source":[
    "z = np.arange(3, 10)\n",
    "z"
   ],
   "execution_count":null,
   "outputs":[
    {
     "data":{
      "text\/plain":[
       "array([3, 4, 5, 6, 7, 8, 9])"
      ]
     },
     "metadata":{
      
     },
     "output_type":"display_data"
    }
   ],
   "metadata":{
    "datalore":{
     "node_id":"0IhKZ5MUGiBYhwZ1KLiLF3",
     "type":"CODE",
     "hide_input_from_viewers":false,
     "hide_output_from_viewers":false,
     "report_properties":{
      "rowId":"bMP1vGtwJqLzlKqLf8W9KQ"
     }
    }
   }
  },
  {
   "cell_type":"markdown",
   "source":[
    "Дан вектор Z\n",
    "\n",
    "\"Разверните\" его."
   ],
   "attachments":{
    
   },
   "metadata":{
    "datalore":{
     "node_id":"wXtQT2KaGks5fzeze9ab4D",
     "type":"MD",
     "hide_input_from_viewers":false,
     "hide_output_from_viewers":false,
     "report_properties":{
      "rowId":"ZYZXpd5X80jStoNgf8X2xF"
     }
    }
   }
  },
  {
   "cell_type":"code",
   "source":[
    "z[::-1]"
   ],
   "execution_count":null,
   "outputs":[
    {
     "data":{
      "text\/plain":[
       "array([9, 8, 7, 6, 5, 4, 3])"
      ]
     },
     "metadata":{
      
     },
     "output_type":"display_data"
    }
   ],
   "metadata":{
    "datalore":{
     "node_id":"XL4bhQ7QLGRD6AFpxQH5FF",
     "type":"CODE",
     "hide_input_from_viewers":false,
     "hide_output_from_viewers":false,
     "report_properties":{
      "rowId":"ZzCik15i4D8rrZarUGmZtG"
     }
    }
   }
  },
  {
   "cell_type":"markdown",
   "source":[
    "Считайте 3 числа:\n",
    "\n",
    "- n - количество элементов матрицы\n",
    "- m и k - размеры матрицы (число строк и столбцов соответственно)\n",
    "Заполните матрицу Z числами от 0 до n-1 по порядку (сперва строки, потом столбцы).\n",
    "\n",
    "Гарантируется, что m*k = n, т.е. все элементы \"влезут\" в матрицу и не останется пустых мест."
   ],
   "attachments":{
    
   },
   "metadata":{
    "datalore":{
     "node_id":"dJIdcojQhg7iHQZmt0XWrn",
     "type":"MD",
     "hide_input_from_viewers":false,
     "hide_output_from_viewers":false,
     "report_properties":{
      "rowId":"slDnLiWJ8C8FqSpGJd4zNM"
     }
    }
   }
  },
  {
   "cell_type":"code",
   "source":[
    "z = np.arange(6).reshape((2, 3))\n",
    "z"
   ],
   "execution_count":null,
   "outputs":[
    {
     "data":{
      "text\/plain":[
       "array([[0, 1, 2],\n",
       "       [3, 4, 5]])"
      ]
     },
     "metadata":{
      
     },
     "output_type":"display_data"
    }
   ],
   "metadata":{
    "datalore":{
     "node_id":"rf5gUV1hj63ycfYGSrQL3n",
     "type":"CODE",
     "hide_input_from_viewers":false,
     "hide_output_from_viewers":false,
     "report_properties":{
      "rowId":"oUjC1QyhJ5v3ZzcWsKYqnK"
     }
    }
   }
  },
  {
   "cell_type":"markdown",
   "source":[
    "Дан вектор Z\n",
    "\n",
    "Запишите в переменную NonZerros индексы ненулевых элементов.\n",
    "\n",
    "Используйте функцию https:\/\/docs.scipy.org\/doc\/numpy-1.15.0\/reference\/generated\/numpy.nonzero.html"
   ],
   "attachments":{
    
   },
   "metadata":{
    "datalore":{
     "node_id":"oK4rOysQKOyj9JckJZ5be9",
     "type":"MD",
     "hide_input_from_viewers":false,
     "hide_output_from_viewers":false,
     "report_properties":{
      "rowId":"eWbnjOoZhzvbYkfURsBhpa"
     }
    }
   }
  },
  {
   "cell_type":"code",
   "source":[
    "nz = np.nonzero([1,2,0,0,4,0]) #indices\n",
    "print(nz)"
   ],
   "execution_count":3,
   "outputs":[
    {
     "name":"stdout",
     "text":[
      "(array([0, 1, 4]),)\n"
     ],
     "output_type":"stream"
    }
   ],
   "metadata":{
    "datalore":{
     "node_id":"VZK5DYbp4Pd6QmQnxWE4Bg",
     "type":"CODE",
     "hide_input_from_viewers":true,
     "hide_output_from_viewers":true
    }
   }
  },
  {
   "cell_type":"code",
   "source":[
    "x = np.array([[1,0,0], [0,2,0], [1,1,0]]) #by dimension\n",
    "x"
   ],
   "execution_count":3,
   "outputs":[
    {
     "data":{
      "text\/html":[
       "<pre>array([[1, 0, 0],\n",
       "       [0, 2, 0],\n",
       "       [1, 1, 0]])<\/pre>"
      ]
     },
     "metadata":{
      
     },
     "output_type":"display_data"
    }
   ],
   "metadata":{
    "datalore":{
     "node_id":"VUwBjPEG0Ph28vDJ3RvZVv",
     "type":"CODE",
     "hide_input_from_viewers":false,
     "hide_output_from_viewers":false,
     "report_properties":{
      "rowId":"ewr9m31H4cMVBbUdDj0AZr"
     }
    }
   }
  },
  {
   "cell_type":"code",
   "source":[
    "np.nonzero(x)"
   ],
   "execution_count":4,
   "outputs":[
    {
     "data":{
      "text\/plain":[
       "(array([0, 1, 2, 2]), array([0, 1, 0, 1]))"
      ]
     },
     "metadata":{
      
     },
     "output_type":"display_data"
    }
   ],
   "metadata":{
    "datalore":{
     "node_id":"9jNrfD2lKWAEvtDmAgumms",
     "type":"CODE",
     "hide_input_from_viewers":true,
     "hide_output_from_viewers":true
    }
   }
  },
  {
   "cell_type":"code",
   "source":[
    "x = np.array([[1,0,0], [0,2,0], [1,1,0]]) #the same but by indices\n",
    "np.transpose(np.nonzero(x))"
   ],
   "execution_count":10,
   "outputs":[
    {
     "data":{
      "text\/html":[
       "<pre>array([[0, 0],\n",
       "       [1, 1],\n",
       "       [2, 0],\n",
       "       [2, 1]])<\/pre>"
      ]
     },
     "metadata":{
      
     },
     "output_type":"display_data"
    }
   ],
   "metadata":{
    "datalore":{
     "node_id":"1evmzGR7inWjRS9h5QKT6w",
     "type":"CODE",
     "hide_input_from_viewers":true,
     "hide_output_from_viewers":true
    }
   }
  },
  {
   "cell_type":"markdown",
   "source":[
    "Дана матрица чисел Z (Z может быть 1, 2 или даже 3 мерной).\n",
    "\n",
    "Выведите на печать список чисел из этой матрицы, которые больше 3."
   ],
   "attachments":{
    
   },
   "metadata":{
    "datalore":{
     "node_id":"pkzgJke5wnRxRCjLcnIqWq",
     "type":"MD",
     "hide_input_from_viewers":false,
     "hide_output_from_viewers":false,
     "report_properties":{
      "rowId":"plLWUTf9hq5d99XMvxdUak"
     }
    }
   }
  },
  {
   "cell_type":"code",
   "source":[
    "import numpy as np\n",
    "matrixe = np.array([[[1, 2],\n",
    "           [4, 5]],\n",
    "          [[7, 8],\n",
    "           [0, 0]]])\n",
    "matrixe"
   ],
   "execution_count":15,
   "outputs":[
    {
     "data":{
      "text\/plain":[
       "array([[[1, 2],\n",
       "        [4, 5]],\n",
       "\n",
       "       [[7, 8],\n",
       "        [0, 0]]])"
      ]
     },
     "metadata":{
      
     },
     "output_type":"display_data"
    }
   ],
   "metadata":{
    "datalore":{
     "node_id":"zArs6G1HsYEPbEen33ZuTi",
     "type":"CODE",
     "hide_input_from_viewers":true,
     "hide_output_from_viewers":true
    }
   }
  },
  {
   "cell_type":"code",
   "source":[
    "matrixe[matrixe > 3]"
   ],
   "execution_count":13,
   "outputs":[
    {
     "data":{
      "text\/html":[
       "<pre>array([4, 5, 7, 8])<\/pre>"
      ]
     },
     "metadata":{
      
     },
     "output_type":"display_data"
    }
   ],
   "metadata":{
    "datalore":{
     "node_id":"4fGowwrewbrEANBpwBgzHx",
     "type":"CODE",
     "hide_input_from_viewers":false,
     "hide_output_from_viewers":false,
     "report_properties":{
      "rowId":"ffLnghVU9wdrQRK7IY9OgY"
     }
    }
   }
  },
  {
   "cell_type":"markdown",
   "source":[
    "Считайте число n\n",
    "\n",
    "Создайте единичную матрицу размера n, сохраните результат в переменную Z."
   ],
   "attachments":{
    
   },
   "metadata":{
    "datalore":{
     "node_id":"3YIFPf8xAWl4Kd2sWEfSYm",
     "type":"MD",
     "hide_input_from_viewers":false,
     "hide_output_from_viewers":false,
     "report_properties":{
      "rowId":"3cO5axk4T6lKgPOHdA2c3r"
     }
    }
   }
  },
  {
   "cell_type":"code",
   "source":[
    "v = np.eye(3)\n",
    "print(v)"
   ],
   "execution_count":18,
   "outputs":[
    {
     "name":"stdout",
     "text":[
      "[[1. 0. 0.]\n",
      " [0. 1. 0.]\n",
      " [0. 0. 1.]]\n"
     ],
     "output_type":"stream"
    }
   ],
   "metadata":{
    "datalore":{
     "node_id":"gBU3j36VYAnpFIr8o9WXQA",
     "type":"CODE",
     "hide_input_from_viewers":false,
     "hide_output_from_viewers":false,
     "report_properties":{
      "rowId":"If25i3IoiL5rNy4J2PDZWl"
     }
    }
   }
  },
  {
   "cell_type":"code",
   "source":[
    "np.random.seed(10)\n",
    "w = np.random.random((3,3,3))\n",
    "print(w)"
   ],
   "execution_count":26,
   "outputs":[
    {
     "name":"stdout",
     "text":[
      "[[[0.77132064 0.02075195 0.63364823]\n",
      "  [0.74880388 0.49850701 0.22479665]\n",
      "  [0.19806286 0.76053071 0.16911084]]\n",
      "\n",
      " [[0.08833981 0.68535982 0.95339335]\n",
      "  [0.00394827 0.51219226 0.81262096]\n",
      "  [0.61252607 0.72175532 0.29187607]]\n",
      "\n",
      " [[0.91777412 0.71457578 0.54254437]\n",
      "  [0.14217005 0.37334076 0.67413362]\n",
      "  [0.44183317 0.43401399 0.61776698]]]\n"
     ],
     "output_type":"stream"
    }
   ],
   "metadata":{
    "datalore":{
     "node_id":"9it1OGcC7QTB3ENzngOQAr",
     "type":"CODE",
     "hide_input_from_viewers":true,
     "hide_output_from_viewers":true
    }
   }
  },
  {
   "cell_type":"code",
   "source":[
    "w.ndim"
   ],
   "execution_count":27,
   "outputs":[
    {
     "data":{
      "text\/plain":[
       "3"
      ]
     },
     "metadata":{
      
     },
     "output_type":"display_data"
    }
   ],
   "metadata":{
    "datalore":{
     "node_id":"jrkfF4myBG1DV0z32RC85q",
     "type":"CODE",
     "hide_input_from_viewers":true,
     "hide_output_from_viewers":true
    }
   }
  },
  {
   "cell_type":"code",
   "source":[
    "w.shape"
   ],
   "execution_count":28,
   "outputs":[
    {
     "data":{
      "text\/plain":[
       "(3, 3, 3)"
      ]
     },
     "metadata":{
      
     },
     "output_type":"display_data"
    }
   ],
   "metadata":{
    "datalore":{
     "node_id":"rBZBVA9xA4c1aYoPQdf6St",
     "type":"CODE",
     "hide_input_from_viewers":true,
     "hide_output_from_viewers":true
    }
   }
  },
  {
   "cell_type":"code",
   "source":[
    "size_=w.size\n",
    "size_"
   ],
   "execution_count":38,
   "outputs":[
    {
     "data":{
      "text\/plain":[
       "27"
      ]
     },
     "metadata":{
      
     },
     "output_type":"display_data"
    }
   ],
   "metadata":{
    "datalore":{
     "node_id":"I0zoWDzUhsD57pbTzdwpQQ",
     "type":"CODE",
     "hide_input_from_viewers":true,
     "hide_output_from_viewers":true
    }
   }
  },
  {
   "cell_type":"code",
   "source":[
    "w.dtype"
   ],
   "execution_count":30,
   "outputs":[
    {
     "data":{
      "text\/plain":[
       "dtype('float64')"
      ]
     },
     "metadata":{
      
     },
     "output_type":"display_data"
    }
   ],
   "metadata":{
    "datalore":{
     "node_id":"GoIvneeUP4YjQPJ49PbiTl",
     "type":"CODE",
     "hide_input_from_viewers":true,
     "hide_output_from_viewers":true
    }
   }
  },
  {
   "cell_type":"code",
   "source":[
    "itemsize_=w.itemsize\n",
    "itemsize_"
   ],
   "execution_count":37,
   "outputs":[
    {
     "data":{
      "text\/plain":[
       "8"
      ]
     },
     "metadata":{
      
     },
     "output_type":"display_data"
    }
   ],
   "metadata":{
    "datalore":{
     "node_id":"5GAtXNE0Iu8Nqp1t7RlLjI",
     "type":"CODE",
     "hide_input_from_viewers":true,
     "hide_output_from_viewers":true
    }
   }
  },
  {
   "cell_type":"code",
   "source":[
    "w.nbytes"
   ],
   "execution_count":32,
   "outputs":[
    {
     "data":{
      "text\/plain":[
       "216"
      ]
     },
     "metadata":{
      
     },
     "output_type":"display_data"
    }
   ],
   "metadata":{
    "datalore":{
     "node_id":"07433ySQ8HwjyJpv6vDy0s",
     "type":"CODE",
     "hide_input_from_viewers":true,
     "hide_output_from_viewers":true
    }
   }
  },
  {
   "cell_type":"code",
   "source":[
    "nbytes=itemsize_ * size_\n",
    "nbytes"
   ],
   "execution_count":39,
   "outputs":[
    {
     "data":{
      "text\/plain":[
       "216"
      ]
     },
     "metadata":{
      
     },
     "output_type":"display_data"
    }
   ],
   "metadata":{
    "datalore":{
     "node_id":"T8ECQcEyxTZcl4snCllS0n",
     "type":"CODE",
     "hide_input_from_viewers":true,
     "hide_output_from_viewers":true
    }
   }
  },
  {
   "cell_type":"code",
   "source":[
    "arr=np.random.randint(3, size=(8, 10))\n",
    "arr"
   ],
   "execution_count":51,
   "outputs":[
    {
     "data":{
      "text\/html":[
       "<pre>array([[0, 2, 0, 1, 0, 2, 2, 1, 0, 2],\n",
       "       [1, 2, 2, 0, 2, 0, 2, 1, 2, 0],\n",
       "       [0, 1, 2, 2, 1, 2, 2, 0, 2, 2],\n",
       "       [1, 1, 0, 2, 2, 2, 0, 0, 1, 0],\n",
       "       [2, 2, 0, 2, 2, 0, 0, 2, 2, 2],\n",
       "       [1, 1, 1, 0, 1, 0, 0, 1, 1, 1],\n",
       "       [2, 1, 2, 0, 2, 1, 0, 0, 0, 2],\n",
       "       [1, 0, 0, 0, 2, 2, 1, 2, 0, 1]])<\/pre>"
      ]
     },
     "metadata":{
      
     },
     "output_type":"display_data"
    }
   ],
   "metadata":{
    "datalore":{
     "node_id":"dMNpDJhyM0vH6o8JL9M5Xp",
     "type":"CODE",
     "hide_input_from_viewers":true,
     "hide_output_from_viewers":true
    }
   }
  },
  {
   "cell_type":"code",
   "source":[
    "arr=np.random.rand(3, 4)\n",
    "arr"
   ],
   "execution_count":54,
   "outputs":[
    {
     "data":{
      "text\/html":[
       "<pre>array([[0.24687606, 0.69630427, 0.71227059, 0.14808693],\n",
       "       [0.99774049, 0.26678101, 0.97661496, 0.41103701],\n",
       "       [0.03305073, 0.34507125, 0.63435134, 0.68070545]])<\/pre>"
      ]
     },
     "metadata":{
      
     },
     "output_type":"display_data"
    }
   ],
   "metadata":{
    "datalore":{
     "node_id":"G08Pb6QpaIqhPLWQ9nUNyx",
     "type":"CODE",
     "hide_input_from_viewers":true,
     "hide_output_from_viewers":true
    }
   }
  },
  {
   "cell_type":"code",
   "source":[
    
   ],
   "execution_count":null,
   "outputs":[
    
   ],
   "metadata":{
    "datalore":{
     "node_id":"YoWyC1w72F6nn7J7tVrDmA",
     "type":"CODE",
     "hide_input_from_viewers":true,
     "hide_output_from_viewers":true
    }
   }
  },
  {
   "cell_type":"markdown",
   "source":[
    "Считайте 3 числа: n, m, l.\n",
    "\n",
    "Зафиксируйте значение генератора случайных чисел Numpy с помощью\n",
    "\n",
    "numpy.random.seed(42)\n",
    "Создайте матрицу n*m*l из случайных чисел (от 0 до 1) и сохраните результат в переменную Z."
   ],
   "attachments":{
    
   },
   "metadata":{
    "datalore":{
     "node_id":"zpV5PgvaCeQwmA6g7Q0z2I",
     "type":"MD",
     "hide_input_from_viewers":false,
     "hide_output_from_viewers":false,
     "report_properties":{
      "rowId":"ghWEhQCNMxCUQlcKO6bTGk"
     }
    }
   }
  },
  {
   "cell_type":"code",
   "source":[
    "np.random.seed(42)\n",
    "nml = np.random.random((2, 4, 3))\n",
    "nml"
   ],
   "execution_count":49,
   "outputs":[
    {
     "data":{
      "text\/plain":[
       "array([[[0.37454012, 0.95071431, 0.73199394],\n",
       "        [0.59865848, 0.15601864, 0.15599452],\n",
       "        [0.05808361, 0.86617615, 0.60111501],\n",
       "        [0.70807258, 0.02058449, 0.96990985]],\n",
       "\n",
       "       [[0.83244264, 0.21233911, 0.18182497],\n",
       "        [0.18340451, 0.30424224, 0.52475643],\n",
       "        [0.43194502, 0.29122914, 0.61185289],\n",
       "        [0.13949386, 0.29214465, 0.36636184]]])"
      ]
     },
     "metadata":{
      
     },
     "output_type":"display_data"
    }
   ],
   "metadata":{
    "datalore":{
     "node_id":"JnTRqH5UhSKCf0X5sQof8w",
     "type":"CODE",
     "hide_input_from_viewers":false,
     "hide_output_from_viewers":false,
     "report_properties":{
      "rowId":"dRMZCmlwX8HKCgQn7uYHUH"
     }
    }
   }
  },
  {
   "cell_type":"markdown",
   "source":[
    "Считайте 2 числа: n, m.\n",
    "\n",
    "Зафиксируйте значение генератора случайных чисел Numpy с помощью\n",
    "\n",
    "- numpy.random.seed(42)\n",
    "  \n",
    "Создайте матрицу n*m из случайных чисел (от 0 до 1).\n",
    "Выведите на печать значение минимального и максимального чисел в получившейся матрице (каждое с новой строки)."
   ],
   "attachments":{
    
   },
   "metadata":{
    "datalore":{
     "node_id":"TW4MO351uOiPwRa9jDfPZV",
     "type":"MD",
     "hide_input_from_viewers":false,
     "hide_output_from_viewers":false,
     "report_properties":{
      "rowId":"RSFmq5hzl0WVpzWzVkdXTR"
     }
    }
   }
  },
  {
   "cell_type":"code",
   "source":[
    "np.random.seed(42)\n",
    "matrixe = np.random.rand(3, 4)\n",
    "matrixe"
   ],
   "execution_count":6,
   "outputs":[
    {
     "data":{
      "text\/html":[
       "<pre>array([[0.37454012, 0.95071431, 0.73199394, 0.59865848],\n",
       "       [0.15601864, 0.15599452, 0.05808361, 0.86617615],\n",
       "       [0.60111501, 0.70807258, 0.02058449, 0.96990985]])<\/pre>"
      ]
     },
     "metadata":{
      
     },
     "output_type":"display_data"
    }
   ],
   "metadata":{
    "datalore":{
     "node_id":"fFYeYxdzoIpGDtsPuzrFju",
     "type":"CODE",
     "hide_input_from_viewers":false,
     "hide_output_from_viewers":false,
     "report_properties":{
      "rowId":"4rBeYkycsfVGOO6dsDl2ml"
     }
    }
   }
  },
  {
   "cell_type":"code",
   "source":[
    "matrixe_min = matrixe.min()\n",
    "matrixe_max = matrixe.max()\n",
    "print(matrixe_min, matrixe_max)"
   ],
   "execution_count":7,
   "outputs":[
    {
     "name":"stdout",
     "text":[
      "0.020584494295802447 0.9699098521619943\n"
     ],
     "output_type":"stream"
    }
   ],
   "metadata":{
    "datalore":{
     "node_id":"3Q5gWPf4bgndc51nemjq1O",
     "type":"CODE",
     "hide_input_from_viewers":true,
     "hide_output_from_viewers":true
    }
   }
  },
  {
   "cell_type":"markdown",
   "source":[
    "Считайте 2 числа: n, m.\n",
    "\n",
    "Зафиксируйте значение генератора случайных чисел Numpy с помощью\n",
    "\n",
    "- numpy.random.seed(42)\n",
    "  \n",
    "Создайте матрицу n*m из случайных чисел (от 0 до 1).\n",
    "Выведите на печать значение среднего для всей матрицы."
   ],
   "attachments":{
    
   },
   "metadata":{
    "datalore":{
     "node_id":"oJOxkVVCQaSZM5aHk6Ghhq",
     "type":"MD",
     "hide_input_from_viewers":false,
     "hide_output_from_viewers":false,
     "report_properties":{
      "rowId":"djcLIjYXFJ6B3scS1H00Qj"
     }
    }
   }
  },
  {
   "cell_type":"code",
   "source":[
    "np.random.seed(42)\n",
    "v = np.random.rand(2, 6)\n",
    "v"
   ],
   "execution_count":9,
   "outputs":[
    {
     "data":{
      "text\/html":[
       "<pre>array([[0.37454012, 0.95071431, 0.73199394, 0.59865848, 0.15601864,\n",
       "        0.15599452],\n",
       "       [0.05808361, 0.86617615, 0.60111501, 0.70807258, 0.02058449,\n",
       "        0.96990985]])<\/pre>"
      ]
     },
     "metadata":{
      
     },
     "output_type":"display_data"
    }
   ],
   "metadata":{
    "datalore":{
     "node_id":"e3uE7Ddk4AbOnB7SHo2mMb",
     "type":"CODE",
     "hide_input_from_viewers":true,
     "hide_output_from_viewers":true
    }
   }
  },
  {
   "cell_type":"code",
   "source":[
    "v.mean(axis = 0)"
   ],
   "execution_count":10,
   "outputs":[
    {
     "data":{
      "text\/html":[
       "<pre>array([0.21631187, 0.90844523, 0.66655448, 0.65336553, 0.08830157,\n",
       "       0.56295219])<\/pre>"
      ]
     },
     "metadata":{
      
     },
     "output_type":"display_data"
    }
   ],
   "metadata":{
    "datalore":{
     "node_id":"GnH7ObIUTY0zIJ4RfxUpxD",
     "type":"CODE",
     "hide_input_from_viewers":true,
     "hide_output_from_viewers":true
    }
   }
  },
  {
   "cell_type":"code",
   "source":[
    "v.mean(axis=1)"
   ],
   "execution_count":11,
   "outputs":[
    {
     "data":{
      "text\/html":[
       "<pre>array([0.49465334, 0.53732362])<\/pre>"
      ]
     },
     "metadata":{
      
     },
     "output_type":"display_data"
    }
   ],
   "metadata":{
    "datalore":{
     "node_id":"1QkEVNYOVK6SyrkgxmtigM",
     "type":"CODE",
     "hide_input_from_viewers":true,
     "hide_output_from_viewers":true
    }
   }
  },
  {
   "cell_type":"code",
   "source":[
    "v.mean()"
   ],
   "execution_count":12,
   "outputs":[
    {
     "data":{
      "text\/plain":[
       "0.5159884754987122"
      ]
     },
     "metadata":{
      
     },
     "output_type":"display_data"
    }
   ],
   "metadata":{
    "datalore":{
     "node_id":"0fAy5gRz9gJk9vGnwoznQU",
     "type":"CODE",
     "hide_input_from_viewers":true,
     "hide_output_from_viewers":true
    }
   }
  },
  {
   "cell_type":"code",
   "source":[
    "z = np.random.random((2, 3))\n",
    "z"
   ],
   "execution_count":null,
   "outputs":[
    {
     "data":{
      "text\/plain":[
       "array([[0.06246188, 0.79471162, 0.99647445],\n",
       "       [0.16882846, 0.53010937, 0.60352099]])"
      ]
     },
     "metadata":{
      
     },
     "output_type":"display_data"
    }
   ],
   "metadata":{
    "datalore":{
     "node_id":"aUydQ9nlWbXMhxiYMNzgEB",
     "type":"CODE",
     "hide_input_from_viewers":false,
     "hide_output_from_viewers":false,
     "report_properties":{
      "rowId":"KUrocO13xTfo9Wp4FdfnuR"
     }
    }
   }
  },
  {
   "cell_type":"code",
   "source":[
    "z.mean(axis=0)"
   ],
   "execution_count":null,
   "outputs":[
    {
     "data":{
      "text\/plain":[
       "array([0.11564517, 0.66241049, 0.79999772])"
      ]
     },
     "metadata":{
      
     },
     "output_type":"display_data"
    }
   ],
   "metadata":{
    "datalore":{
     "node_id":"WKTe1P9SkrIOHlG7odrhXe",
     "type":"CODE",
     "hide_input_from_viewers":false,
     "hide_output_from_viewers":false,
     "report_properties":{
      "rowId":"8tKy73RQRGFvTDx3XHgu9T"
     }
    }
   }
  },
  {
   "cell_type":"code",
   "source":[
    "z.mean(axis=1)"
   ],
   "execution_count":null,
   "outputs":[
    {
     "data":{
      "text\/plain":[
       "array([0.61788265, 0.43415294])"
      ]
     },
     "metadata":{
      
     },
     "output_type":"display_data"
    }
   ],
   "metadata":{
    "datalore":{
     "node_id":"QWtnlbltjmD93RSiS1BNCH",
     "type":"CODE",
     "hide_input_from_viewers":false,
     "hide_output_from_viewers":false,
     "report_properties":{
      "rowId":"CPa5k1DlhOVGeFZA1rO6gP"
     }
    }
   }
  },
  {
   "cell_type":"markdown",
   "source":[
    "Считайте 2 числа: n, m.\n",
    "\n",
    "Зафиксируйте значение генератора случайных чисел Numpy с помощью\n",
    "\n",
    "- numpy.random.seed(42)\n",
    "        \n",
    "Создайте матрицу n*m из случайных чисел (от 0 до 1).\n",
    "Найдите среднее значение для каждого из столбцов.\n",
    "Выведите на печать значение минимального и максимального среднего по столбцам (каждое с новой строки)."
   ],
   "attachments":{
    
   },
   "metadata":{
    "datalore":{
     "node_id":"rFqLe6QxlfjqgtBY3Xri5d",
     "type":"MD",
     "hide_input_from_viewers":false,
     "hide_output_from_viewers":false,
     "report_properties":{
      "rowId":"CdW9fkOKeosyoABnzpuWIJ"
     }
    }
   }
  },
  {
   "cell_type":"code",
   "source":[
    "np.random.seed(42)\n",
    "mm = np.random.rand(5, 8)\n",
    "mm"
   ],
   "execution_count":15,
   "outputs":[
    {
     "data":{
      "text\/html":[
       "<pre>array([[0.37454012, 0.95071431, 0.73199394, 0.59865848, 0.15601864,\n",
       "        0.15599452, 0.05808361, 0.86617615],\n",
       "       [0.60111501, 0.70807258, 0.02058449, 0.96990985, 0.83244264,\n",
       "        0.21233911, 0.18182497, 0.18340451],\n",
       "       [0.30424224, 0.52475643, 0.43194502, 0.29122914, 0.61185289,\n",
       "        0.13949386, 0.29214465, 0.36636184],\n",
       "       [0.45606998, 0.78517596, 0.19967378, 0.51423444, 0.59241457,\n",
       "        0.04645041, 0.60754485, 0.17052412],\n",
       "       [0.06505159, 0.94888554, 0.96563203, 0.80839735, 0.30461377,\n",
       "        0.09767211, 0.68423303, 0.44015249]])<\/pre>"
      ]
     },
     "metadata":{
      
     },
     "output_type":"display_data"
    }
   ],
   "metadata":{
    "datalore":{
     "node_id":"xPRYpGzMB8gHSBgDorOCwG",
     "type":"CODE",
     "hide_input_from_viewers":false,
     "hide_output_from_viewers":false,
     "report_properties":{
      "rowId":"dq2UTDfLlZkSdGIDrSx8S3"
     }
    }
   }
  },
  {
   "cell_type":"code",
   "source":[
    "mm.mean(axis = 0)"
   ],
   "execution_count":16,
   "outputs":[
    {
     "data":{
      "text\/html":[
       "<pre>array([0.36020379, 0.78352096, 0.46996585, 0.63648585, 0.4994685 ,\n",
       "       0.13039   , 0.36476622, 0.40532382])<\/pre>"
      ]
     },
     "metadata":{
      
     },
     "output_type":"display_data"
    }
   ],
   "metadata":{
    "datalore":{
     "node_id":"F9FqbQ9sTuqYcP5BoZD3dX",
     "type":"CODE",
     "hide_input_from_viewers":true,
     "hide_output_from_viewers":true
    }
   }
  },
  {
   "cell_type":"code",
   "source":[
    "min_=mm.mean(axis = 0).min()\n",
    "min_"
   ],
   "execution_count":21,
   "outputs":[
    {
     "data":{
      "text\/plain":[
       "0.13039000367858045"
      ]
     },
     "metadata":{
      
     },
     "output_type":"display_data"
    }
   ],
   "metadata":{
    "datalore":{
     "node_id":"ybPZrPxjLbIQMf9uN50pmS",
     "type":"CODE",
     "hide_input_from_viewers":true,
     "hide_output_from_viewers":true
    }
   }
  },
  {
   "cell_type":"code",
   "source":[
    "max_=mm.mean(axis=0).max()\n",
    "max_"
   ],
   "execution_count":22,
   "outputs":[
    {
     "data":{
      "text\/plain":[
       "0.7835209628969093"
      ]
     },
     "metadata":{
      
     },
     "output_type":"display_data"
    }
   ],
   "metadata":{
    "datalore":{
     "node_id":"vrEvcN8MayPMYLDfnyd9Zu",
     "type":"CODE",
     "hide_input_from_viewers":true,
     "hide_output_from_viewers":true
    }
   }
  },
  {
   "cell_type":"markdown",
   "source":[
    "Считайте число n.\n",
    "\n",
    "Создайте диагональную матрицу размера n*n. На главной диагонали должны быть числа от 1 до n.\n",
    "Сохраните матрицу в переменную Z."
   ],
   "attachments":{
    
   },
   "metadata":{
    "datalore":{
     "node_id":"qBsotIS88vKBKvZIRK8AkN",
     "type":"MD",
     "hide_input_from_viewers":false,
     "hide_output_from_viewers":false,
     "report_properties":{
      "rowId":"pj6Ea7s4dCLAGryRy56U2a"
     }
    }
   }
  },
  {
   "cell_type":"code",
   "source":[
    "v = np.diag(np.arange(1, 5))\n",
    "print(v)"
   ],
   "execution_count":27,
   "outputs":[
    {
     "name":"stdout",
     "text":[
      "[[1 0 0 0]\n",
      " [0 2 0 0]\n",
      " [0 0 3 0]\n",
      " [0 0 0 4]]\n"
     ],
     "output_type":"stream"
    }
   ],
   "metadata":{
    "datalore":{
     "node_id":"vV4pCJB4YkgJ4ulyQDYgJr",
     "type":"CODE",
     "hide_input_from_viewers":false,
     "hide_output_from_viewers":false,
     "report_properties":{
      "rowId":"14YFQCL9FQL3hnmjE2D7IB"
     }
    }
   }
  },
  {
   "cell_type":"code",
   "source":[
    "v = np.diag(np.arange(1, 5), k = 1)\n",
    "print(v)"
   ],
   "execution_count":28,
   "outputs":[
    {
     "name":"stdout",
     "text":[
      "[[0 1 0 0 0]\n",
      " [0 0 2 0 0]\n",
      " [0 0 0 3 0]\n",
      " [0 0 0 0 4]\n",
      " [0 0 0 0 0]]\n"
     ],
     "output_type":"stream"
    }
   ],
   "metadata":{
    "datalore":{
     "node_id":"walFUEwTN8Bhes2ci2cMgy",
     "type":"CODE",
     "hide_input_from_viewers":true,
     "hide_output_from_viewers":true
    }
   }
  },
  {
   "cell_type":"code",
   "source":[
    "v = np.diag(np.arange(1, 5), k = -1)\n",
    "print(v)"
   ],
   "execution_count":29,
   "outputs":[
    {
     "name":"stdout",
     "text":[
      "[[0 0 0 0 0]\n",
      " [1 0 0 0 0]\n",
      " [0 2 0 0 0]\n",
      " [0 0 3 0 0]\n",
      " [0 0 0 4 0]]\n"
     ],
     "output_type":"stream"
    }
   ],
   "metadata":{
    "datalore":{
     "node_id":"lxNgMkKnId3vJKslHbWS5g",
     "type":"CODE",
     "hide_input_from_viewers":true,
     "hide_output_from_viewers":true
    }
   }
  },
  {
   "cell_type":"markdown",
   "source":[
    "Считайте 2 числа: n, m.\n",
    "Создайте матрицу размера n*m и \"раскрасьте\" её в шахматную раскраску.\n",
    "- 0 - \"чёрное\"\n",
    "- 1 - \"белое\"\n",
    "\n",
    "Ячейка с координатами (0, 0) всегда \"чёрная\" (т.е. элемент (0, 0) равен 0).\n",
    "Матрицу сохраните в переменную Z."
   ],
   "attachments":{
    
   },
   "metadata":{
    "datalore":{
     "node_id":"tn41ZzZimBFwYDy5FxPcgJ",
     "type":"MD",
     "hide_input_from_viewers":false,
     "hide_output_from_viewers":false,
     "report_properties":{
      "rowId":"Wc5Uj2M4ps7rsY3nhjx3D9"
     }
    }
   }
  },
  {
   "cell_type":"code",
   "source":[
    "sh = np.zeros((8,6), dtype=int)\n",
    "sh[1::2,::2] = 1\n",
    "sh[::2,1::2] = 1\n",
    "print(sh)"
   ],
   "execution_count":32,
   "outputs":[
    {
     "name":"stdout",
     "text":[
      "[[0 1 0 1 0 1]\n",
      " [1 0 1 0 1 0]\n",
      " [0 1 0 1 0 1]\n",
      " [1 0 1 0 1 0]\n",
      " [0 1 0 1 0 1]\n",
      " [1 0 1 0 1 0]\n",
      " [0 1 0 1 0 1]\n",
      " [1 0 1 0 1 0]]\n"
     ],
     "output_type":"stream"
    }
   ],
   "metadata":{
    "datalore":{
     "node_id":"KbgrSjEVxUWyibmUz9SiWk",
     "type":"CODE",
     "hide_input_from_viewers":false,
     "hide_output_from_viewers":false,
     "report_properties":{
      "rowId":"VKVT0gQu2iRRD7h1rWyJch"
     }
    }
   }
  },
  {
   "cell_type":"markdown",
   "source":[
    "Переменные A и B содержат по numpy вектору. Найдите их скалярное произведение и сохраните в переменную Z.\n",
    "\n",
    "A и B могут содержать как int, так и float."
   ],
   "attachments":{
    
   },
   "metadata":{
    "datalore":{
     "node_id":"ecthY84IUklOcnyHZvPrMT",
     "type":"MD",
     "hide_input_from_viewers":false,
     "hide_output_from_viewers":false,
     "report_properties":{
      "rowId":"LStwAXDFp1JROSc35ydNVb"
     }
    }
   }
  },
  {
   "cell_type":"code",
   "source":[
    "A = np.arange(1, 11, 1)\n",
    "A"
   ],
   "execution_count":7,
   "outputs":[
    {
     "data":{
      "text\/html":[
       "<pre>array([ 1,  2,  3,  4,  5,  6,  7,  8,  9, 10])<\/pre>"
      ]
     },
     "metadata":{
      
     },
     "output_type":"display_data"
    }
   ],
   "metadata":{
    "datalore":{
     "node_id":"QVGZD2ij95HgAmPGuw7ktj",
     "type":"CODE",
     "hide_input_from_viewers":false,
     "hide_output_from_viewers":false,
     "report_properties":{
      "rowId":"p7ovUTsP7lYVqanYXXCEZJ"
     }
    }
   }
  },
  {
   "cell_type":"code",
   "source":[
    "B = np.full(10, 2)\n",
    "B"
   ],
   "execution_count":8,
   "outputs":[
    {
     "data":{
      "text\/html":[
       "<pre>array([2, 2, 2, 2, 2, 2, 2, 2, 2, 2])<\/pre>"
      ]
     },
     "metadata":{
      
     },
     "output_type":"display_data"
    }
   ],
   "metadata":{
    "datalore":{
     "node_id":"RrBZGZPvxyJDbTRnZBKoHm",
     "type":"CODE",
     "hide_input_from_viewers":true,
     "hide_output_from_viewers":true
    }
   }
  },
  {
   "cell_type":"code",
   "source":[
    "mnozh = A * B\n",
    "mnozh"
   ],
   "execution_count":35,
   "outputs":[
    {
     "data":{
      "text\/html":[
       "<pre>array([ 2,  4,  6,  8, 10, 12, 14, 16, 18, 20])<\/pre>"
      ]
     },
     "metadata":{
      
     },
     "output_type":"display_data"
    }
   ],
   "metadata":{
    "datalore":{
     "node_id":"RqC8nT0XfZ1d3qaFt3934W",
     "type":"CODE",
     "hide_input_from_viewers":true,
     "hide_output_from_viewers":true
    }
   }
  },
  {
   "cell_type":"code",
   "source":[
    "\n",
    "import numpy as np\n",
    "np.vdot(A, B)"
   ],
   "execution_count":11,
   "outputs":[
    {
     "data":{
      "text\/plain":[
       "110"
      ]
     },
     "metadata":{
      
     },
     "output_type":"display_data"
    }
   ],
   "metadata":{
    "datalore":{
     "node_id":"BVB2EFhy4tgPSXi41pbKmU",
     "type":"CODE",
     "hide_input_from_viewers":true,
     "hide_output_from_viewers":true
    }
   }
  },
  {
   "cell_type":"markdown",
   "source":[
    "Даны 2 матрицы: A и B.\n",
    "\n",
    "Найдите произведение матриц и сохраните его в переменную Z.\n",
    "\n",
    "Если найти произведение матриц невозможно, то запишите в Z строку:\n",
    "\n",
    "- Упс! Что-то пошло не так..."
   ],
   "attachments":{
    
   },
   "metadata":{
    "datalore":{
     "node_id":"PmfIBm82dfRl265Rq6Ezy0",
     "type":"MD",
     "hide_input_from_viewers":false,
     "hide_output_from_viewers":false,
     "report_properties":{
      "rowId":"21vTLOcfBZN9qQVBLkrB2E"
     }
    }
   }
  },
  {
   "cell_type":"code",
   "source":[
    "A_m = np.arange(10).reshape((2, -1))\n",
    "A_m"
   ],
   "execution_count":13,
   "outputs":[
    {
     "data":{
      "text\/html":[
       "<pre>array([[0, 1, 2, 3, 4],\n",
       "       [5, 6, 7, 8, 9]])<\/pre>"
      ]
     },
     "metadata":{
      
     },
     "output_type":"display_data"
    }
   ],
   "metadata":{
    "datalore":{
     "node_id":"E9qm9IRW33ZaQKdQw9Kt8g",
     "type":"CODE",
     "hide_input_from_viewers":false,
     "hide_output_from_viewers":false,
     "report_properties":{
      "rowId":"69EZoBtyGKkwIPs7ZxlXpU"
     }
    }
   }
  },
  {
   "cell_type":"code",
   "source":[
    "B_m = np.arange(4).reshape(2, -1)\n",
    "B_m"
   ],
   "execution_count":14,
   "outputs":[
    {
     "data":{
      "text\/html":[
       "<pre>array([[0, 1],\n",
       "       [2, 3]])<\/pre>"
      ]
     },
     "metadata":{
      
     },
     "output_type":"display_data"
    }
   ],
   "metadata":{
    "datalore":{
     "node_id":"3WiBxeP2UV2L77IpifbOEj",
     "type":"CODE",
     "hide_input_from_viewers":true,
     "hide_output_from_viewers":true
    }
   }
  },
  {
   "cell_type":"code",
   "source":[
    "try:\n",
    "    A_m*B_m\n",
    "except ValueError:\n",
    "    print(\"Something is not right...\")"
   ],
   "execution_count":17,
   "outputs":[
    {
     "name":"stdout",
     "text":[
      "Something is not right...\n"
     ],
     "output_type":"stream"
    }
   ],
   "metadata":{
    "datalore":{
     "node_id":"h3MpzLFs0l1OClS2UNDyny",
     "type":"CODE",
     "hide_input_from_viewers":true,
     "hide_output_from_viewers":true
    }
   }
  },
  {
   "cell_type":"code",
   "source":[
    "m1 = np.arange(3, 9).reshape((2, -1))\n",
    "m1"
   ],
   "execution_count":20,
   "outputs":[
    {
     "data":{
      "text\/html":[
       "<pre>array([[3, 4, 5],\n",
       "       [6, 7, 8]])<\/pre>"
      ]
     },
     "metadata":{
      
     },
     "output_type":"display_data"
    }
   ],
   "metadata":{
    "datalore":{
     "node_id":"mEtw0yqx0AVZqEoqDfRhhT",
     "type":"CODE",
     "hide_input_from_viewers":true,
     "hide_output_from_viewers":true
    }
   }
  },
  {
   "cell_type":"code",
   "source":[
    "m2=np.full(6, 2).reshape((3, -1))\n",
    "m2"
   ],
   "execution_count":24,
   "outputs":[
    {
     "data":{
      "text\/html":[
       "<pre>array([[2, 2],\n",
       "       [2, 2],\n",
       "       [2, 2]])<\/pre>"
      ]
     },
     "metadata":{
      
     },
     "output_type":"display_data"
    }
   ],
   "metadata":{
    "datalore":{
     "node_id":"7FkAiMugeSYQLMbNpOrnM0",
     "type":"CODE",
     "hide_input_from_viewers":true,
     "hide_output_from_viewers":true
    }
   }
  },
  {
   "cell_type":"code",
   "source":[
    "np.dot(m1, m2)"
   ],
   "execution_count":25,
   "outputs":[
    {
     "data":{
      "text\/html":[
       "<pre>array([[24, 24],\n",
       "       [42, 42]])<\/pre>"
      ]
     },
     "metadata":{
      
     },
     "output_type":"display_data"
    }
   ],
   "metadata":{
    "datalore":{
     "node_id":"RaCIYshJf0ESKgLPYtYSpn",
     "type":"CODE",
     "hide_input_from_viewers":true,
     "hide_output_from_viewers":true
    }
   }
  },
  {
   "cell_type":"markdown",
   "source":[
    "Вектор A содержит float числа как больше, так и меньше нуля.\n",
    "\n",
    "Округлите их до целых и результат запишите в переменную Z. Округление должно быть \"от нуля\", т.е.:\n",
    "\n",
    "положительные числа округляем всегда вверх до целого\n",
    "отрицательные числа округляем всегда вниз до целого\n",
    "0 остаётся 0"
   ],
   "attachments":{
    
   },
   "metadata":{
    "datalore":{
     "node_id":"kmgyYLiFgbiGjTVm2QW5RD",
     "type":"MD",
     "hide_input_from_viewers":false,
     "hide_output_from_viewers":false,
     "report_properties":{
      "rowId":"KKwwOHBPK6H4rTgp1BD8FS"
     }
    }
   }
  },
  {
   "cell_type":"code",
   "source":[
    "# create a numpy array\n",
    "A = np.array([1.5, -2.7, 0, 3.2, -4.8, 2.1])\n",
    "\n",
    "# round the elements of A to the nearest integer\n",
    "Z = np.where(A > 0, np.ceil(A), np.floor(A)).astype(int)\n",
    "\n",
    "# print the result\n",
    "print(Z)"
   ],
   "execution_count":26,
   "outputs":[
    {
     "name":"stdout",
     "text":[
      "[ 2 -3  0  4 -5  3]\n"
     ],
     "output_type":"stream"
    }
   ],
   "metadata":{
    "datalore":{
     "node_id":"DwRRbpFoxnnl84TPTHMpHk",
     "type":"CODE",
     "hide_input_from_viewers":false,
     "hide_output_from_viewers":false,
     "report_properties":{
      "rowId":"zTVKUiKAqROQDHi7cS3qVH"
     }
    }
   }
  },
  {
   "cell_type":"markdown",
   "source":[
    "Даны 2 вектора целых чисел A и B.\n",
    "\n",
    "Найдите числа, встречающиеся в обоих векторах и составьте их по возрастанию в вектор Z.\n",
    "\n",
    "Если пересечений нет, то вектор Z будет пустым."
   ],
   "attachments":{
    
   },
   "metadata":{
    "datalore":{
     "node_id":"TF1L9hnRaODPhftw314YIq",
     "type":"MD",
     "hide_input_from_viewers":false,
     "hide_output_from_viewers":false,
     "report_properties":{
      "rowId":"H63MjU7lSUqrd69LnRZPyZ"
     }
    }
   }
  },
  {
   "cell_type":"code",
   "source":[
    "# create two numpy arrays\n",
    "A = np.array([1, 2, 5, 8, 9])\n",
    "B = np.array([2, 4, 6, 8, 10])\n",
    "\n",
    "# find common elements between A and B\n",
    "common = np.intersect1d(A, B)\n",
    "\n",
    "# sort the common elements in ascending order and store them in Z\n",
    "Z = np.sort(common)\n",
    "\n",
    "# print the result\n",
    "print(Z)"
   ],
   "execution_count":28,
   "outputs":[
    {
     "name":"stdout",
     "text":[
      "[2 8]\n"
     ],
     "output_type":"stream"
    }
   ],
   "metadata":{
    "datalore":{
     "node_id":"WnW7JuIDP5KuoUqL5xG0tW",
     "type":"CODE",
     "hide_input_from_viewers":false,
     "hide_output_from_viewers":false,
     "report_properties":{
      "rowId":"HouEujr3QfMidfWxYL3FBt"
     }
    }
   }
  },
  {
   "cell_type":"markdown",
   "source":[
    "1-я входная строка - год (опционально месяц и день) в формате ISO начала отсчёта\n",
    "\n",
    "2-я входная строка - год (опционально месяц и день) в формате ISO окончания отсчёта\n",
    "\n",
    "Составьте список (numpy array) дат с шагом в 1 день от начала до окончания отсчёта (последний день не включается).\n",
    "Результат должен представлять из себя список дат в формате ISO.\n",
    "Пример - 2005-02-25, где\n",
    "\n",
    "2005 - год\n",
    "\n",
    "02 - месяц\n",
    "\n",
    "25 - день"
   ],
   "attachments":{
    
   },
   "metadata":{
    "datalore":{
     "node_id":"xjn3KFiLnCFM2otRQv7wUr",
     "type":"MD",
     "hide_input_from_viewers":false,
     "hide_output_from_viewers":false,
     "report_properties":{
      "rowId":"cgpwcC0PGPLMpH1dwii0Dq"
     }
    }
   }
  },
  {
   "cell_type":"code",
   "source":[
    "import numpy as np\n",
    "from datetime import datetime, timedelta\n",
    "\n",
    "# input start date as an ISO format string\n",
    "start_date_str = '2023-03-28'\n",
    "\n",
    "# input end date as an ISO format string\n",
    "end_date_str = '2023-04-04'\n",
    "\n",
    "# convert ISO format strings to datetime objects\n",
    "start_date = datetime.fromisoformat(start_date_str)\n",
    "end_date = datetime.fromisoformat(end_date_str)\n",
    "\n",
    "# generate numpy array of dates with a step of 1 day\n",
    "dates_array = np.array([(start_date + timedelta(days=i)).strftime('%Y-%m-%d') for i in range((end_date - start_date).days)])\n",
    "\n",
    "# print the result\n",
    "print(dates_array)"
   ],
   "execution_count":31,
   "outputs":[
    {
     "name":"stdout",
     "text":[
      "['2023-03-28' '2023-03-29' '2023-03-30' '2023-03-31' '2023-04-01'\n",
      " '2023-04-02' '2023-04-03']\n"
     ],
     "output_type":"stream"
    }
   ],
   "metadata":{
    "datalore":{
     "node_id":"gl1iDxS9NhSK6HYb2WDDEq",
     "type":"CODE",
     "hide_input_from_viewers":true,
     "hide_output_from_viewers":true
    }
   }
  },
  {
   "cell_type":"code",
   "source":[
    "import numpy as np\n",
    "import pandas as pd\n",
    "\n",
    "data = {'animal': ['cat', 'cat', 'snake', 'dog', 'dog', 'cat', 'snake', 'cat', 'dog', 'dog'],\n",
    "        'age': [2.5, 3, 0.5, np.nan, 5, 2, 4.5, np.nan, 7, 3],\n",
    "        'visits': [1, 3, 2, 3, 2, 3, 1, 1, 2, 1],\n",
    "        'priority': ['yes', 'yes', 'no', 'yes', 'no', 'no', 'no', 'yes', 'no', 'no']}\n",
    "\n",
    "labels = ['a', 'b', 'c', 'd', 'e', 'f', 'g', 'h', 'i', 'j']\n",
    "\n",
    "df = pd.DataFrame(data, index = labels)\n",
    "df"
   ],
   "execution_count":36,
   "outputs":[
    {
     "data":{
      "text\/html":[
       "<div>\n",
       "<style scoped>\n",
       "    .dataframe tbody tr th:only-of-type {\n",
       "        vertical-align: middle;\n",
       "    }\n",
       "\n",
       "    .dataframe tbody tr th {\n",
       "        vertical-align: top;\n",
       "    }\n",
       "\n",
       "    .dataframe thead th {\n",
       "        text-align: right;\n",
       "    }\n",
       "<\/style>\n",
       "<table border=\"1\" class=\"dataframe\">\n",
       "  <thead>\n",
       "    <tr style=\"text-align: right;\">\n",
       "      <th><\/th>\n",
       "      <th>animal<\/th>\n",
       "      <th>age<\/th>\n",
       "      <th>visits<\/th>\n",
       "      <th>priority<\/th>\n",
       "    <\/tr>\n",
       "  <\/thead>\n",
       "  <tbody>\n",
       "    <tr>\n",
       "      <th>a<\/th>\n",
       "      <td>cat<\/td>\n",
       "      <td>2.5<\/td>\n",
       "      <td>1<\/td>\n",
       "      <td>yes<\/td>\n",
       "    <\/tr>\n",
       "    <tr>\n",
       "      <th>b<\/th>\n",
       "      <td>cat<\/td>\n",
       "      <td>3.0<\/td>\n",
       "      <td>3<\/td>\n",
       "      <td>yes<\/td>\n",
       "    <\/tr>\n",
       "    <tr>\n",
       "      <th>c<\/th>\n",
       "      <td>snake<\/td>\n",
       "      <td>0.5<\/td>\n",
       "      <td>2<\/td>\n",
       "      <td>no<\/td>\n",
       "    <\/tr>\n",
       "    <tr>\n",
       "      <th>d<\/th>\n",
       "      <td>dog<\/td>\n",
       "      <td>NaN<\/td>\n",
       "      <td>3<\/td>\n",
       "      <td>yes<\/td>\n",
       "    <\/tr>\n",
       "    <tr>\n",
       "      <th>e<\/th>\n",
       "      <td>dog<\/td>\n",
       "      <td>5.0<\/td>\n",
       "      <td>2<\/td>\n",
       "      <td>no<\/td>\n",
       "    <\/tr>\n",
       "    <tr>\n",
       "      <th>f<\/th>\n",
       "      <td>cat<\/td>\n",
       "      <td>2.0<\/td>\n",
       "      <td>3<\/td>\n",
       "      <td>no<\/td>\n",
       "    <\/tr>\n",
       "    <tr>\n",
       "      <th>g<\/th>\n",
       "      <td>snake<\/td>\n",
       "      <td>4.5<\/td>\n",
       "      <td>1<\/td>\n",
       "      <td>no<\/td>\n",
       "    <\/tr>\n",
       "    <tr>\n",
       "      <th>h<\/th>\n",
       "      <td>cat<\/td>\n",
       "      <td>NaN<\/td>\n",
       "      <td>1<\/td>\n",
       "      <td>yes<\/td>\n",
       "    <\/tr>\n",
       "    <tr>\n",
       "      <th>i<\/th>\n",
       "      <td>dog<\/td>\n",
       "      <td>7.0<\/td>\n",
       "      <td>2<\/td>\n",
       "      <td>no<\/td>\n",
       "    <\/tr>\n",
       "    <tr>\n",
       "      <th>j<\/th>\n",
       "      <td>dog<\/td>\n",
       "      <td>3.0<\/td>\n",
       "      <td>1<\/td>\n",
       "      <td>no<\/td>\n",
       "    <\/tr>\n",
       "  <\/tbody>\n",
       "<\/table>\n",
       "<\/div>"
      ]
     },
     "metadata":{
      
     },
     "output_type":"display_data"
    }
   ],
   "metadata":{
    "datalore":{
     "node_id":"RTK3TwWoKG8cKjulbfDuuI",
     "type":"CODE",
     "hide_input_from_viewers":false,
     "hide_output_from_viewers":false,
     "report_properties":{
      "rowId":"NoIRcpeYfrXdMG20zw7nBr"
     }
    }
   }
  },
  {
   "cell_type":"code",
   "source":[
    "df.describe()"
   ],
   "execution_count":37,
   "outputs":[
    {
     "data":{
      "text\/html":[
       "<div>\n",
       "<style scoped>\n",
       "    .dataframe tbody tr th:only-of-type {\n",
       "        vertical-align: middle;\n",
       "    }\n",
       "\n",
       "    .dataframe tbody tr th {\n",
       "        vertical-align: top;\n",
       "    }\n",
       "\n",
       "    .dataframe thead th {\n",
       "        text-align: right;\n",
       "    }\n",
       "<\/style>\n",
       "<table border=\"1\" class=\"dataframe\">\n",
       "  <thead>\n",
       "    <tr style=\"text-align: right;\">\n",
       "      <th><\/th>\n",
       "      <th>age<\/th>\n",
       "      <th>visits<\/th>\n",
       "    <\/tr>\n",
       "  <\/thead>\n",
       "  <tbody>\n",
       "    <tr>\n",
       "      <th>count<\/th>\n",
       "      <td>8.000000<\/td>\n",
       "      <td>10.000000<\/td>\n",
       "    <\/tr>\n",
       "    <tr>\n",
       "      <th>mean<\/th>\n",
       "      <td>3.437500<\/td>\n",
       "      <td>1.900000<\/td>\n",
       "    <\/tr>\n",
       "    <tr>\n",
       "      <th>std<\/th>\n",
       "      <td>2.007797<\/td>\n",
       "      <td>0.875595<\/td>\n",
       "    <\/tr>\n",
       "    <tr>\n",
       "      <th>min<\/th>\n",
       "      <td>0.500000<\/td>\n",
       "      <td>1.000000<\/td>\n",
       "    <\/tr>\n",
       "    <tr>\n",
       "      <th>25%<\/th>\n",
       "      <td>2.375000<\/td>\n",
       "      <td>1.000000<\/td>\n",
       "    <\/tr>\n",
       "    <tr>\n",
       "      <th>50%<\/th>\n",
       "      <td>3.000000<\/td>\n",
       "      <td>2.000000<\/td>\n",
       "    <\/tr>\n",
       "    <tr>\n",
       "      <th>75%<\/th>\n",
       "      <td>4.625000<\/td>\n",
       "      <td>2.750000<\/td>\n",
       "    <\/tr>\n",
       "    <tr>\n",
       "      <th>max<\/th>\n",
       "      <td>7.000000<\/td>\n",
       "      <td>3.000000<\/td>\n",
       "    <\/tr>\n",
       "  <\/tbody>\n",
       "<\/table>\n",
       "<\/div>"
      ]
     },
     "metadata":{
      
     },
     "output_type":"display_data"
    }
   ],
   "metadata":{
    "datalore":{
     "node_id":"keFqMbYFWu5ljBCyJCRan1",
     "type":"CODE",
     "hide_input_from_viewers":false,
     "hide_output_from_viewers":false,
     "report_properties":{
      "rowId":"A6UhaYnjJa5WY2RlrbUxdv"
     }
    }
   }
  },
  {
   "cell_type":"code",
   "source":[
    "type(df.describe())"
   ],
   "execution_count":null,
   "outputs":[
    {
     "data":{
      "text\/plain":[
       "pandas.core.frame.DataFrame"
      ]
     },
     "metadata":{
      
     },
     "output_type":"display_data"
    }
   ],
   "metadata":{
    "datalore":{
     "node_id":"UhhYX5YrSvYMPp94m0UeAb",
     "type":"CODE",
     "hide_input_from_viewers":false,
     "hide_output_from_viewers":false,
     "report_properties":{
      "rowId":"bMSPjkpldMevyw6OYNmJZD"
     }
    }
   }
  },
  {
   "cell_type":"code",
   "source":[
    "df.describe()['age']"
   ],
   "execution_count":38,
   "outputs":[
    {
     "data":{
      "text\/html":[
       "<pre>count    8.000000\n",
       "mean     3.437500\n",
       "std      2.007797\n",
       "min      0.500000\n",
       "25%      2.375000\n",
       "50%      3.000000\n",
       "75%      4.625000\n",
       "max      7.000000\n",
       "Name: age, dtype: float64<\/pre>"
      ]
     },
     "metadata":{
      
     },
     "output_type":"display_data"
    }
   ],
   "metadata":{
    "datalore":{
     "node_id":"VtGpvXG7lyTxaFI1mgNPzf",
     "type":"CODE",
     "hide_input_from_viewers":false,
     "hide_output_from_viewers":false,
     "report_properties":{
      "rowId":"7NPHtChmdrd65aGrkQaLqA"
     }
    }
   }
  },
  {
   "cell_type":"code",
   "source":[
    "df.describe()[['age', 'visits']]"
   ],
   "execution_count":39,
   "outputs":[
    {
     "data":{
      "text\/html":[
       "<div>\n",
       "<style scoped>\n",
       "    .dataframe tbody tr th:only-of-type {\n",
       "        vertical-align: middle;\n",
       "    }\n",
       "\n",
       "    .dataframe tbody tr th {\n",
       "        vertical-align: top;\n",
       "    }\n",
       "\n",
       "    .dataframe thead th {\n",
       "        text-align: right;\n",
       "    }\n",
       "<\/style>\n",
       "<table border=\"1\" class=\"dataframe\">\n",
       "  <thead>\n",
       "    <tr style=\"text-align: right;\">\n",
       "      <th><\/th>\n",
       "      <th>age<\/th>\n",
       "      <th>visits<\/th>\n",
       "    <\/tr>\n",
       "  <\/thead>\n",
       "  <tbody>\n",
       "    <tr>\n",
       "      <th>count<\/th>\n",
       "      <td>8.000000<\/td>\n",
       "      <td>10.000000<\/td>\n",
       "    <\/tr>\n",
       "    <tr>\n",
       "      <th>mean<\/th>\n",
       "      <td>3.437500<\/td>\n",
       "      <td>1.900000<\/td>\n",
       "    <\/tr>\n",
       "    <tr>\n",
       "      <th>std<\/th>\n",
       "      <td>2.007797<\/td>\n",
       "      <td>0.875595<\/td>\n",
       "    <\/tr>\n",
       "    <tr>\n",
       "      <th>min<\/th>\n",
       "      <td>0.500000<\/td>\n",
       "      <td>1.000000<\/td>\n",
       "    <\/tr>\n",
       "    <tr>\n",
       "      <th>25%<\/th>\n",
       "      <td>2.375000<\/td>\n",
       "      <td>1.000000<\/td>\n",
       "    <\/tr>\n",
       "    <tr>\n",
       "      <th>50%<\/th>\n",
       "      <td>3.000000<\/td>\n",
       "      <td>2.000000<\/td>\n",
       "    <\/tr>\n",
       "    <tr>\n",
       "      <th>75%<\/th>\n",
       "      <td>4.625000<\/td>\n",
       "      <td>2.750000<\/td>\n",
       "    <\/tr>\n",
       "    <tr>\n",
       "      <th>max<\/th>\n",
       "      <td>7.000000<\/td>\n",
       "      <td>3.000000<\/td>\n",
       "    <\/tr>\n",
       "  <\/tbody>\n",
       "<\/table>\n",
       "<\/div>"
      ]
     },
     "metadata":{
      
     },
     "output_type":"display_data"
    }
   ],
   "metadata":{
    "datalore":{
     "node_id":"hbXyzwqtftky6uJmIz5pr3",
     "type":"CODE",
     "hide_input_from_viewers":false,
     "hide_output_from_viewers":false,
     "report_properties":{
      "rowId":"QhEwzfwQ4gB2OVUub5zRGM"
     }
    }
   }
  },
  {
   "cell_type":"code",
   "source":[
    "df.info()"
   ],
   "execution_count":null,
   "outputs":[
    {
     "name":"stdout",
     "text":[
      "<class 'pandas.core.frame.DataFrame'>\n",
      "Index: 10 entries, a to j\n",
      "Data columns (total 4 columns):\n",
      " #   Column    Non-Null Count  Dtype  \n",
      "---  ------    --------------  -----  \n",
      " 0   animal    10 non-null     object \n",
      " 1   age       8 non-null      float64\n",
      " 2   visits    10 non-null     int64  \n",
      " 3   priority  10 non-null     object \n",
      "dtypes: float64(1), int64(1), object(2)\n",
      "memory usage: 400.0+ bytes\n"
     ],
     "output_type":"stream"
    }
   ],
   "metadata":{
    "datalore":{
     "node_id":"D11Xlu6y03m0SNlREJl1c9",
     "type":"CODE",
     "hide_input_from_viewers":false,
     "hide_output_from_viewers":false,
     "report_properties":{
      "rowId":"R4eNoGeufADOvpdNEbYILy"
     }
    }
   }
  },
  {
   "cell_type":"markdown",
   "source":[
    "Переменная df содержит DataFrame.\n",
    "\n",
    "Переменная col содержит имя колонки\n",
    "\n",
    "Переменная row содержит имя ИЛИ индекс строки\n",
    "\n",
    "Выведите на печать содержимое ячейки"
   ],
   "attachments":{
    
   },
   "metadata":{
    "datalore":{
     "node_id":"O1gpS9KoLiRGXwzUXIZvzm",
     "type":"MD",
     "hide_input_from_viewers":false,
     "hide_output_from_viewers":false,
     "report_properties":{
      "rowId":"M3eGBzQRg10jfy9OdvuS1g"
     }
    }
   }
  },
  {
   "cell_type":"code",
   "source":[
    "col = 'animal'\n",
    "row='e'"
   ],
   "execution_count":41,
   "outputs":[
    {
     "data":{
      "text\/html":[
       "<pre>a      cat\n",
       "b      cat\n",
       "c    snake\n",
       "d      dog\n",
       "e      dog\n",
       "f      cat\n",
       "g    snake\n",
       "h      cat\n",
       "i      dog\n",
       "j      dog\n",
       "Name: animal, dtype: object<\/pre>"
      ]
     },
     "metadata":{
      
     },
     "output_type":"display_data"
    }
   ],
   "metadata":{
    "datalore":{
     "node_id":"CHpBq7StWd5L6bHJbpVQdz",
     "type":"CODE",
     "hide_input_from_viewers":true,
     "hide_output_from_viewers":true
    }
   }
  },
  {
   "cell_type":"code",
   "source":[
    "df[col]"
   ],
   "execution_count":42,
   "outputs":[
    {
     "data":{
      "text\/html":[
       "<pre>a      cat\n",
       "b      cat\n",
       "c    snake\n",
       "d      dog\n",
       "e      dog\n",
       "f      cat\n",
       "g    snake\n",
       "h      cat\n",
       "i      dog\n",
       "j      dog\n",
       "Name: animal, dtype: object<\/pre>"
      ]
     },
     "metadata":{
      
     },
     "output_type":"display_data"
    }
   ],
   "metadata":{
    "datalore":{
     "node_id":"eucOyNE3yO59G0OTrfFXZN",
     "type":"CODE",
     "hide_input_from_viewers":true,
     "hide_output_from_viewers":true
    }
   }
  },
  {
   "cell_type":"code",
   "source":[
    "df['animal']"
   ],
   "execution_count":49,
   "outputs":[
    {
     "data":{
      "text\/html":[
       "<pre>a      cat\n",
       "b      cat\n",
       "c    snake\n",
       "d      dog\n",
       "e      dog\n",
       "f      cat\n",
       "g    snake\n",
       "h      cat\n",
       "i      dog\n",
       "j      dog\n",
       "Name: animal, dtype: object<\/pre>"
      ]
     },
     "metadata":{
      
     },
     "output_type":"display_data"
    }
   ],
   "metadata":{
    "datalore":{
     "node_id":"6FkC8Dfy5KqYxYHCXN7T0x",
     "type":"CODE",
     "hide_input_from_viewers":true,
     "hide_output_from_viewers":true
    }
   }
  },
  {
   "cell_type":"code",
   "source":[
    "col = \"animal\"\n",
    "row = \"e\"\n",
    "df = pd.DataFrame({'animal': ['cat', 'cat', 'snake', 'dog', 'dog', 'cat', 'snake', 'cat', 'dog', 'dog'],\n",
    "                   'age': [2.5, 3, 0.5, np.nan, 5, 2, 4.5, np.nan, 7, 3],\n",
    "                   'visits': [1, 3, 2, 3, 2, 3, 1, 1, 2, 1],\n",
    "                   'priority': ['yes', 'yes', 'no', 'yes', 'no', 'no', 'no', 'yes', 'no', 'no']}, \n",
    "                    index = ['a', 'b', 'c', 'd', 'e', 'f', 'g', 'h', 'i', 'j'])\n",
    "df"
   ],
   "execution_count":48,
   "outputs":[
    {
     "data":{
      "text\/html":[
       "<div>\n",
       "<style scoped>\n",
       "    .dataframe tbody tr th:only-of-type {\n",
       "        vertical-align: middle;\n",
       "    }\n",
       "\n",
       "    .dataframe tbody tr th {\n",
       "        vertical-align: top;\n",
       "    }\n",
       "\n",
       "    .dataframe thead th {\n",
       "        text-align: right;\n",
       "    }\n",
       "<\/style>\n",
       "<table border=\"1\" class=\"dataframe\">\n",
       "  <thead>\n",
       "    <tr style=\"text-align: right;\">\n",
       "      <th><\/th>\n",
       "      <th>animal<\/th>\n",
       "      <th>age<\/th>\n",
       "      <th>visits<\/th>\n",
       "      <th>priority<\/th>\n",
       "    <\/tr>\n",
       "  <\/thead>\n",
       "  <tbody>\n",
       "    <tr>\n",
       "      <th>a<\/th>\n",
       "      <td>cat<\/td>\n",
       "      <td>2.5<\/td>\n",
       "      <td>1<\/td>\n",
       "      <td>yes<\/td>\n",
       "    <\/tr>\n",
       "    <tr>\n",
       "      <th>b<\/th>\n",
       "      <td>cat<\/td>\n",
       "      <td>3.0<\/td>\n",
       "      <td>3<\/td>\n",
       "      <td>yes<\/td>\n",
       "    <\/tr>\n",
       "    <tr>\n",
       "      <th>c<\/th>\n",
       "      <td>snake<\/td>\n",
       "      <td>0.5<\/td>\n",
       "      <td>2<\/td>\n",
       "      <td>no<\/td>\n",
       "    <\/tr>\n",
       "    <tr>\n",
       "      <th>d<\/th>\n",
       "      <td>dog<\/td>\n",
       "      <td>NaN<\/td>\n",
       "      <td>3<\/td>\n",
       "      <td>yes<\/td>\n",
       "    <\/tr>\n",
       "    <tr>\n",
       "      <th>e<\/th>\n",
       "      <td>dog<\/td>\n",
       "      <td>5.0<\/td>\n",
       "      <td>2<\/td>\n",
       "      <td>no<\/td>\n",
       "    <\/tr>\n",
       "    <tr>\n",
       "      <th>f<\/th>\n",
       "      <td>cat<\/td>\n",
       "      <td>2.0<\/td>\n",
       "      <td>3<\/td>\n",
       "      <td>no<\/td>\n",
       "    <\/tr>\n",
       "    <tr>\n",
       "      <th>g<\/th>\n",
       "      <td>snake<\/td>\n",
       "      <td>4.5<\/td>\n",
       "      <td>1<\/td>\n",
       "      <td>no<\/td>\n",
       "    <\/tr>\n",
       "    <tr>\n",
       "      <th>h<\/th>\n",
       "      <td>cat<\/td>\n",
       "      <td>NaN<\/td>\n",
       "      <td>1<\/td>\n",
       "      <td>yes<\/td>\n",
       "    <\/tr>\n",
       "    <tr>\n",
       "      <th>i<\/th>\n",
       "      <td>dog<\/td>\n",
       "      <td>7.0<\/td>\n",
       "      <td>2<\/td>\n",
       "      <td>no<\/td>\n",
       "    <\/tr>\n",
       "    <tr>\n",
       "      <th>j<\/th>\n",
       "      <td>dog<\/td>\n",
       "      <td>3.0<\/td>\n",
       "      <td>1<\/td>\n",
       "      <td>no<\/td>\n",
       "    <\/tr>\n",
       "  <\/tbody>\n",
       "<\/table>\n",
       "<\/div>"
      ]
     },
     "metadata":{
      
     },
     "output_type":"display_data"
    }
   ],
   "metadata":{
    "datalore":{
     "node_id":"ZQTWOdjWhtydBRuWTqF49F",
     "type":"CODE",
     "hide_input_from_viewers":false,
     "hide_output_from_viewers":false,
     "report_properties":{
      "rowId":"fQQUzrgvxFNxhjvv3ooJxd"
     }
    }
   }
  },
  {
   "cell_type":"code",
   "source":[
    "df.loc['e']"
   ],
   "execution_count":57,
   "outputs":[
    {
     "data":{
      "text\/html":[
       "<pre>animal      dog\n",
       "age         5.0\n",
       "visits        2\n",
       "priority     no\n",
       "Name: e, dtype: object<\/pre>"
      ]
     },
     "metadata":{
      
     },
     "output_type":"display_data"
    }
   ],
   "metadata":{
    "datalore":{
     "node_id":"3d29SxuBiymu5Muiw3rBqA",
     "type":"CODE",
     "hide_input_from_viewers":false,
     "hide_output_from_viewers":false,
     "report_properties":{
      "rowId":"wsCBn26nB3SNS6xUJxQpHB"
     }
    }
   }
  },
  {
   "cell_type":"markdown",
   "source":[
    "Переменная df содержит DataFrame.\n",
    "\n",
    "Выведите на печать:\n",
    "\n",
    "число непустых (не null) значений в колонке 'age'\n",
    "75% квантиль для значений в колонке 'age'"
   ],
   "attachments":{
    
   },
   "metadata":{
    "datalore":{
     "node_id":"NMoUtEQVx5YAr8Wh5TGxRu",
     "type":"MD",
     "hide_input_from_viewers":false,
     "hide_output_from_viewers":false,
     "report_properties":{
      "rowId":"HdhphALIMd5vDOylYsfdcG"
     }
    }
   }
  },
  {
   "cell_type":"code",
   "source":[
    "df = pd.DataFrame({'animal': ['cat', 'cat', 'snake', 'dog', 'dog', 'cat', 'snake', 'cat', 'dog', 'dog'],\n",
    "                   'age': [2.5, 3, 0.5, np.nan, 5, 2, 4.5, np.nan, 7, 3],\n",
    "                   'visits': [1, 3, 2, 3, 2, 3, 1, 1, 2, 1],\n",
    "                   'priority': ['yes', 'yes', 'no', 'yes', 'no', 'no', 'no', 'yes', 'no', 'no']})\n",
    "                 index = ['a', 'b', 'c', 'd', 'e', 'f', 'g', 'h', 'i', 'j'])"
   ],
   "execution_count":null,
   "outputs":[
    
   ],
   "metadata":{
    "datalore":{
     "node_id":"hgjQbn9P5QhtS1GWF90oRY",
     "type":"CODE",
     "hide_input_from_viewers":false,
     "hide_output_from_viewers":false,
     "report_properties":{
      "rowId":"YrNaVDO4Pm7dnb1UmTyvg3"
     }
    }
   }
  },
  {
   "cell_type":"code",
   "source":[
    "df.age.isna().sum()"
   ],
   "execution_count":52,
   "outputs":[
    {
     "data":{
      "text\/plain":[
       "2"
      ]
     },
     "metadata":{
      
     },
     "output_type":"display_data"
    }
   ],
   "metadata":{
    "datalore":{
     "node_id":"zsOKoqkHWmDlNy6Dzl2PHe",
     "type":"CODE",
     "hide_input_from_viewers":true,
     "hide_output_from_viewers":true
    }
   }
  },
  {
   "cell_type":"code",
   "source":[
    "quantile_75 = df['age'].quantile(q=0.75)\n",
    "quantile_75"
   ],
   "execution_count":56,
   "outputs":[
    {
     "data":{
      "text\/plain":[
       "4.625"
      ]
     },
     "metadata":{
      
     },
     "output_type":"display_data"
    }
   ],
   "metadata":{
    "datalore":{
     "node_id":"B4cxebjf43xVaRZbH3EokI",
     "type":"CODE",
     "hide_input_from_viewers":true,
     "hide_output_from_viewers":true
    }
   }
  },
  {
   "cell_type":"markdown",
   "source":[
    "Переменная df содержит DataFrame.\n",
    "\n",
    "Выведите на печать 3 первых строки."
   ],
   "attachments":{
    
   },
   "metadata":{
    "datalore":{
     "node_id":"z7AVg3Ujz7ANAT7XKT9B6A",
     "type":"MD",
     "hide_input_from_viewers":false,
     "hide_output_from_viewers":false,
     "report_properties":{
      "rowId":"HUEKJyxnCDOz8Vg0DrYrYu"
     }
    }
   }
  },
  {
   "cell_type":"code",
   "source":[
    "df[:3]"
   ],
   "execution_count":null,
   "outputs":[
    {
     "data":{
      "text\/html":[
       "<div>\n",
       "<style scoped>\n",
       "    .dataframe tbody tr th:only-of-type {\n",
       "        vertical-align: middle;\n",
       "    }\n",
       "\n",
       "    .dataframe tbody tr th {\n",
       "        vertical-align: top;\n",
       "    }\n",
       "\n",
       "    .dataframe thead th {\n",
       "        text-align: right;\n",
       "    }\n",
       "<\/style>\n",
       "<table border=\"1\" class=\"dataframe\">\n",
       "  <thead>\n",
       "    <tr style=\"text-align: right;\">\n",
       "      <th><\/th>\n",
       "      <th>animal<\/th>\n",
       "      <th>age<\/th>\n",
       "      <th>visits<\/th>\n",
       "      <th>priority<\/th>\n",
       "    <\/tr>\n",
       "  <\/thead>\n",
       "  <tbody>\n",
       "    <tr>\n",
       "      <th>a<\/th>\n",
       "      <td>cat<\/td>\n",
       "      <td>2.5<\/td>\n",
       "      <td>1<\/td>\n",
       "      <td>yes<\/td>\n",
       "    <\/tr>\n",
       "    <tr>\n",
       "      <th>b<\/th>\n",
       "      <td>cat<\/td>\n",
       "      <td>3.0<\/td>\n",
       "      <td>3<\/td>\n",
       "      <td>yes<\/td>\n",
       "    <\/tr>\n",
       "    <tr>\n",
       "      <th>c<\/th>\n",
       "      <td>snake<\/td>\n",
       "      <td>0.5<\/td>\n",
       "      <td>2<\/td>\n",
       "      <td>no<\/td>\n",
       "    <\/tr>\n",
       "  <\/tbody>\n",
       "<\/table>\n",
       "<\/div>"
      ]
     },
     "metadata":{
      
     },
     "output_type":"display_data"
    },
    {
     "data":{
      "text\/plain":[
       "  animal  age  visits priority\n",
       "a    cat  2.5       1      yes\n",
       "b    cat  3.0       3      yes\n",
       "c  snake  0.5       2       no"
      ]
     },
     "metadata":{
      
     },
     "output_type":"display_data"
    }
   ],
   "metadata":{
    "datalore":{
     "node_id":"z31VX1P7ulKf1HWTdSzv7j",
     "type":"CODE",
     "hide_input_from_viewers":false,
     "hide_output_from_viewers":false,
     "report_properties":{
      "rowId":"enB3sfnMfmzKlGIcFG3HN1"
     }
    }
   }
  },
  {
   "cell_type":"code",
   "source":[
    "df.iloc[:3, :2]"
   ],
   "execution_count":null,
   "outputs":[
    {
     "data":{
      "text\/html":[
       "<div>\n",
       "<style scoped>\n",
       "    .dataframe tbody tr th:only-of-type {\n",
       "        vertical-align: middle;\n",
       "    }\n",
       "\n",
       "    .dataframe tbody tr th {\n",
       "        vertical-align: top;\n",
       "    }\n",
       "\n",
       "    .dataframe thead th {\n",
       "        text-align: right;\n",
       "    }\n",
       "<\/style>\n",
       "<table border=\"1\" class=\"dataframe\">\n",
       "  <thead>\n",
       "    <tr style=\"text-align: right;\">\n",
       "      <th><\/th>\n",
       "      <th>animal<\/th>\n",
       "      <th>age<\/th>\n",
       "    <\/tr>\n",
       "  <\/thead>\n",
       "  <tbody>\n",
       "    <tr>\n",
       "      <th>a<\/th>\n",
       "      <td>cat<\/td>\n",
       "      <td>2.5<\/td>\n",
       "    <\/tr>\n",
       "    <tr>\n",
       "      <th>b<\/th>\n",
       "      <td>cat<\/td>\n",
       "      <td>3.0<\/td>\n",
       "    <\/tr>\n",
       "    <tr>\n",
       "      <th>c<\/th>\n",
       "      <td>snake<\/td>\n",
       "      <td>0.5<\/td>\n",
       "    <\/tr>\n",
       "  <\/tbody>\n",
       "<\/table>\n",
       "<\/div>"
      ]
     },
     "metadata":{
      
     },
     "output_type":"display_data"
    },
    {
     "data":{
      "text\/plain":[
       "  animal  age\n",
       "a    cat  2.5\n",
       "b    cat  3.0\n",
       "c  snake  0.5"
      ]
     },
     "metadata":{
      
     },
     "output_type":"display_data"
    }
   ],
   "metadata":{
    "datalore":{
     "node_id":"aFq8jLV51UmEHm9s5A8tiC",
     "type":"CODE",
     "hide_input_from_viewers":false,
     "hide_output_from_viewers":false,
     "report_properties":{
      "rowId":"cEi4LAbugbSXSyuHxg5XbC"
     }
    }
   }
  },
  {
   "cell_type":"markdown",
   "source":[
    "Переменная df содержит DataFrame.\n",
    "\n",
    "Выведите на печать строки с индексами 0, 2, 3.\n",
    "\n",
    "Важно. Обратите внимание, что хотя у 1-ого Dataframe назначены произвольные строки в качестве индексов, к ним тем не менее можно обратиться и по их порядковым значениям!"
   ],
   "attachments":{
    
   },
   "metadata":{
    "datalore":{
     "node_id":"RvFsR8VUNxVvTJF6OaFaod",
     "type":"MD",
     "hide_input_from_viewers":false,
     "hide_output_from_viewers":false,
     "report_properties":{
      "rowId":"GxgQAiv6m07slvxsXJ0kxG"
     }
    }
   }
  },
  {
   "cell_type":"code",
   "source":[
    "df.iloc[[0, 2, 3],]"
   ],
   "execution_count":null,
   "outputs":[
    {
     "data":{
      "text\/html":[
       "<div>\n",
       "<style scoped>\n",
       "    .dataframe tbody tr th:only-of-type {\n",
       "        vertical-align: middle;\n",
       "    }\n",
       "\n",
       "    .dataframe tbody tr th {\n",
       "        vertical-align: top;\n",
       "    }\n",
       "\n",
       "    .dataframe thead th {\n",
       "        text-align: right;\n",
       "    }\n",
       "<\/style>\n",
       "<table border=\"1\" class=\"dataframe\">\n",
       "  <thead>\n",
       "    <tr style=\"text-align: right;\">\n",
       "      <th><\/th>\n",
       "      <th>animal<\/th>\n",
       "      <th>age<\/th>\n",
       "      <th>visits<\/th>\n",
       "      <th>priority<\/th>\n",
       "    <\/tr>\n",
       "  <\/thead>\n",
       "  <tbody>\n",
       "    <tr>\n",
       "      <th>a<\/th>\n",
       "      <td>cat<\/td>\n",
       "      <td>2.5<\/td>\n",
       "      <td>1<\/td>\n",
       "      <td>yes<\/td>\n",
       "    <\/tr>\n",
       "    <tr>\n",
       "      <th>c<\/th>\n",
       "      <td>snake<\/td>\n",
       "      <td>0.5<\/td>\n",
       "      <td>2<\/td>\n",
       "      <td>no<\/td>\n",
       "    <\/tr>\n",
       "    <tr>\n",
       "      <th>d<\/th>\n",
       "      <td>dog<\/td>\n",
       "      <td>NaN<\/td>\n",
       "      <td>3<\/td>\n",
       "      <td>yes<\/td>\n",
       "    <\/tr>\n",
       "  <\/tbody>\n",
       "<\/table>\n",
       "<\/div>"
      ]
     },
     "metadata":{
      
     },
     "output_type":"display_data"
    },
    {
     "data":{
      "text\/plain":[
       "  animal  age  visits priority\n",
       "a    cat  2.5       1      yes\n",
       "c  snake  0.5       2       no\n",
       "d    dog  NaN       3      yes"
      ]
     },
     "metadata":{
      
     },
     "output_type":"display_data"
    }
   ],
   "metadata":{
    "datalore":{
     "node_id":"QKgZsQ3DrQzU6IWNBBSTIy",
     "type":"CODE",
     "hide_input_from_viewers":false,
     "hide_output_from_viewers":false,
     "report_properties":{
      "rowId":"myhrrenCO7ROqnY71opGMx"
     }
    }
   }
  },
  {
   "cell_type":"code",
   "source":[
    "df.loc[['b', 'e', 'f'],]"
   ],
   "execution_count":59,
   "outputs":[
    {
     "data":{
      "text\/html":[
       "<div>\n",
       "<style scoped>\n",
       "    .dataframe tbody tr th:only-of-type {\n",
       "        vertical-align: middle;\n",
       "    }\n",
       "\n",
       "    .dataframe tbody tr th {\n",
       "        vertical-align: top;\n",
       "    }\n",
       "\n",
       "    .dataframe thead th {\n",
       "        text-align: right;\n",
       "    }\n",
       "<\/style>\n",
       "<table border=\"1\" class=\"dataframe\">\n",
       "  <thead>\n",
       "    <tr style=\"text-align: right;\">\n",
       "      <th><\/th>\n",
       "      <th>animal<\/th>\n",
       "      <th>age<\/th>\n",
       "      <th>visits<\/th>\n",
       "      <th>priority<\/th>\n",
       "    <\/tr>\n",
       "  <\/thead>\n",
       "  <tbody>\n",
       "    <tr>\n",
       "      <th>b<\/th>\n",
       "      <td>cat<\/td>\n",
       "      <td>3.0<\/td>\n",
       "      <td>3<\/td>\n",
       "      <td>yes<\/td>\n",
       "    <\/tr>\n",
       "    <tr>\n",
       "      <th>e<\/th>\n",
       "      <td>dog<\/td>\n",
       "      <td>5.0<\/td>\n",
       "      <td>2<\/td>\n",
       "      <td>no<\/td>\n",
       "    <\/tr>\n",
       "    <tr>\n",
       "      <th>f<\/th>\n",
       "      <td>cat<\/td>\n",
       "      <td>2.0<\/td>\n",
       "      <td>3<\/td>\n",
       "      <td>no<\/td>\n",
       "    <\/tr>\n",
       "  <\/tbody>\n",
       "<\/table>\n",
       "<\/div>"
      ]
     },
     "metadata":{
      
     },
     "output_type":"display_data"
    }
   ],
   "metadata":{
    "datalore":{
     "node_id":"Jkb2oIdVJO0CmbwFDGgt6X",
     "type":"CODE",
     "hide_input_from_viewers":false,
     "hide_output_from_viewers":false,
     "report_properties":{
      "rowId":"9JrACe7ENwwTQopLYvEx4D"
     }
    }
   }
  },
  {
   "cell_type":"markdown",
   "source":[
    "Переменная df содержит DataFrame.\n",
    "\n",
    "Выведите на печать только столбцы 'name' и 'age' (гарантируется, что они есть)"
   ],
   "attachments":{
    
   },
   "metadata":{
    "datalore":{
     "node_id":"bhOJcH0ay9pK2S9G2rLkC0",
     "type":"MD",
     "hide_input_from_viewers":false,
     "hide_output_from_viewers":false,
     "report_properties":{
      "rowId":"Is8xf7Aeo9DtDfFhRmHBHt"
     }
    }
   }
  },
  {
   "cell_type":"code",
   "source":[
    "df[['animal', 'age']]"
   ],
   "execution_count":null,
   "outputs":[
    {
     "data":{
      "text\/html":[
       "<div>\n",
       "<style scoped>\n",
       "    .dataframe tbody tr th:only-of-type {\n",
       "        vertical-align: middle;\n",
       "    }\n",
       "\n",
       "    .dataframe tbody tr th {\n",
       "        vertical-align: top;\n",
       "    }\n",
       "\n",
       "    .dataframe thead th {\n",
       "        text-align: right;\n",
       "    }\n",
       "<\/style>\n",
       "<table border=\"1\" class=\"dataframe\">\n",
       "  <thead>\n",
       "    <tr style=\"text-align: right;\">\n",
       "      <th><\/th>\n",
       "      <th>animal<\/th>\n",
       "      <th>age<\/th>\n",
       "    <\/tr>\n",
       "  <\/thead>\n",
       "  <tbody>\n",
       "    <tr>\n",
       "      <th>a<\/th>\n",
       "      <td>cat<\/td>\n",
       "      <td>2.5<\/td>\n",
       "    <\/tr>\n",
       "    <tr>\n",
       "      <th>b<\/th>\n",
       "      <td>cat<\/td>\n",
       "      <td>3.0<\/td>\n",
       "    <\/tr>\n",
       "    <tr>\n",
       "      <th>c<\/th>\n",
       "      <td>snake<\/td>\n",
       "      <td>0.5<\/td>\n",
       "    <\/tr>\n",
       "    <tr>\n",
       "      <th>d<\/th>\n",
       "      <td>dog<\/td>\n",
       "      <td>NaN<\/td>\n",
       "    <\/tr>\n",
       "    <tr>\n",
       "      <th>e<\/th>\n",
       "      <td>dog<\/td>\n",
       "      <td>5.0<\/td>\n",
       "    <\/tr>\n",
       "    <tr>\n",
       "      <th>f<\/th>\n",
       "      <td>cat<\/td>\n",
       "      <td>2.0<\/td>\n",
       "    <\/tr>\n",
       "    <tr>\n",
       "      <th>g<\/th>\n",
       "      <td>snake<\/td>\n",
       "      <td>4.5<\/td>\n",
       "    <\/tr>\n",
       "    <tr>\n",
       "      <th>h<\/th>\n",
       "      <td>cat<\/td>\n",
       "      <td>NaN<\/td>\n",
       "    <\/tr>\n",
       "    <tr>\n",
       "      <th>i<\/th>\n",
       "      <td>dog<\/td>\n",
       "      <td>7.0<\/td>\n",
       "    <\/tr>\n",
       "    <tr>\n",
       "      <th>j<\/th>\n",
       "      <td>dog<\/td>\n",
       "      <td>3.0<\/td>\n",
       "    <\/tr>\n",
       "  <\/tbody>\n",
       "<\/table>\n",
       "<\/div>"
      ]
     },
     "metadata":{
      
     },
     "output_type":"display_data"
    },
    {
     "data":{
      "text\/plain":[
       "  animal  age\n",
       "a    cat  2.5\n",
       "b    cat  3.0\n",
       "c  snake  0.5\n",
       "d    dog  NaN\n",
       "e    dog  5.0\n",
       "f    cat  2.0\n",
       "g  snake  4.5\n",
       "h    cat  NaN\n",
       "i    dog  7.0\n",
       "j    dog  3.0"
      ]
     },
     "metadata":{
      
     },
     "output_type":"display_data"
    }
   ],
   "metadata":{
    "datalore":{
     "node_id":"gK1c59xfQrjYMHngWaRbbW",
     "type":"CODE",
     "hide_input_from_viewers":false,
     "hide_output_from_viewers":false,
     "report_properties":{
      "rowId":"gkJaTaoSQMzNbwEzpO8258"
     }
    }
   }
  },
  {
   "cell_type":"markdown",
   "source":[
    "Переменная df содержит DataFrame.\n",
    "\n",
    "Выведите на печать только столбцы 'name' и 'age' И строки 0, 2, 3 (гарантируется, что они есть)"
   ],
   "attachments":{
    
   },
   "metadata":{
    "datalore":{
     "node_id":"6DC3dUlArFYNirqNZU3a02",
     "type":"MD",
     "hide_input_from_viewers":false,
     "hide_output_from_viewers":false,
     "report_properties":{
      "rowId":"GNlnnyUIFU0iyZg5cb3daS"
     }
    }
   }
  },
  {
   "cell_type":"code",
   "source":[
    "df.iloc[[0, 2, 3], [0, 1]]"
   ],
   "execution_count":68,
   "outputs":[
    {
     "data":{
      "text\/html":[
       "<div>\n",
       "<style scoped>\n",
       "    .dataframe tbody tr th:only-of-type {\n",
       "        vertical-align: middle;\n",
       "    }\n",
       "\n",
       "    .dataframe tbody tr th {\n",
       "        vertical-align: top;\n",
       "    }\n",
       "\n",
       "    .dataframe thead th {\n",
       "        text-align: right;\n",
       "    }\n",
       "<\/style>\n",
       "<table border=\"1\" class=\"dataframe\">\n",
       "  <thead>\n",
       "    <tr style=\"text-align: right;\">\n",
       "      <th><\/th>\n",
       "      <th>animal<\/th>\n",
       "      <th>age<\/th>\n",
       "    <\/tr>\n",
       "  <\/thead>\n",
       "  <tbody>\n",
       "    <tr>\n",
       "      <th>a<\/th>\n",
       "      <td>cat<\/td>\n",
       "      <td>2.5<\/td>\n",
       "    <\/tr>\n",
       "    <tr>\n",
       "      <th>c<\/th>\n",
       "      <td>snake<\/td>\n",
       "      <td>0.5<\/td>\n",
       "    <\/tr>\n",
       "    <tr>\n",
       "      <th>d<\/th>\n",
       "      <td>dog<\/td>\n",
       "      <td>NaN<\/td>\n",
       "    <\/tr>\n",
       "  <\/tbody>\n",
       "<\/table>\n",
       "<\/div>"
      ]
     },
     "metadata":{
      
     },
     "output_type":"display_data"
    }
   ],
   "metadata":{
    "datalore":{
     "node_id":"osOoydbruKFaVa58znK4Jb",
     "type":"CODE",
     "hide_input_from_viewers":false,
     "hide_output_from_viewers":false,
     "report_properties":{
      "rowId":"klqoaBTEbm31Jiayk5p9zb"
     }
    }
   }
  },
  {
   "cell_type":"code",
   "source":[
    "df.loc[['a', 'c', 'd'], ['animal', 'age']]"
   ],
   "execution_count":70,
   "outputs":[
    {
     "data":{
      "text\/html":[
       "<div>\n",
       "<style scoped>\n",
       "    .dataframe tbody tr th:only-of-type {\n",
       "        vertical-align: middle;\n",
       "    }\n",
       "\n",
       "    .dataframe tbody tr th {\n",
       "        vertical-align: top;\n",
       "    }\n",
       "\n",
       "    .dataframe thead th {\n",
       "        text-align: right;\n",
       "    }\n",
       "<\/style>\n",
       "<table border=\"1\" class=\"dataframe\">\n",
       "  <thead>\n",
       "    <tr style=\"text-align: right;\">\n",
       "      <th><\/th>\n",
       "      <th>animal<\/th>\n",
       "      <th>age<\/th>\n",
       "    <\/tr>\n",
       "  <\/thead>\n",
       "  <tbody>\n",
       "    <tr>\n",
       "      <th>a<\/th>\n",
       "      <td>cat<\/td>\n",
       "      <td>2.5<\/td>\n",
       "    <\/tr>\n",
       "    <tr>\n",
       "      <th>c<\/th>\n",
       "      <td>snake<\/td>\n",
       "      <td>0.5<\/td>\n",
       "    <\/tr>\n",
       "    <tr>\n",
       "      <th>d<\/th>\n",
       "      <td>dog<\/td>\n",
       "      <td>NaN<\/td>\n",
       "    <\/tr>\n",
       "  <\/tbody>\n",
       "<\/table>\n",
       "<\/div>"
      ]
     },
     "metadata":{
      
     },
     "output_type":"display_data"
    }
   ],
   "metadata":{
    "datalore":{
     "node_id":"AUwKbvuXr8dyj75H9geUy7",
     "type":"CODE",
     "hide_input_from_viewers":true,
     "hide_output_from_viewers":true
    }
   }
  },
  {
   "cell_type":"markdown",
   "source":[
    "Переменная df содержит DataFrame.\n",
    "\n",
    "Выведите на печать только данные, относящиеся к записям, возраст которых больше, указанного в переменной critical_age."
   ],
   "attachments":{
    
   },
   "metadata":{
    "datalore":{
     "node_id":"nO9nCByhU76D5d2KxVMO5K",
     "type":"MD",
     "hide_input_from_viewers":false,
     "hide_output_from_viewers":false,
     "report_properties":{
      "rowId":"hTjUaSmBbMDE0q4bKhMMpY"
     }
    }
   }
  },
  {
   "cell_type":"code",
   "source":[
    "df = pd.DataFrame({'animal': ['cat', 'cat', 'snake', 'dog', 'dog', 'cat', 'snake', 'cat', 'dog', 'dog'],\n",
    "                   'age': [2.5, 3, 0.5, np.nan, 5, 2, 4.5, np.nan, 7, 3],\n",
    "                   'name': ['Murzik', 'Pushok', 'Kaa', 'Bobik', 'Strelka', 'Vaska', 'Kaa2', 'Murka', 'Graf', 'Muhtar'],\n",
    "                   'visits': [1, 3, 2, 3, 2, 3, 1, 1, 2, 1],\n",
    "                   'priority': ['yes', 'yes', 'no', 'yes', 'no', 'no', 'no', 'yes', 'no', 'no']}, \n",
    "                  index = ['a', 'b', 'c', 'd', 'e', 'f', 'g', 'h', 'i', 'j'])\n",
    "                 \n",
    "print(df)\n",
    "critical_age = 3"
   ],
   "execution_count":73,
   "outputs":[
    {
     "name":"stdout",
     "text":[
      "  animal  age     name  visits priority\n",
      "a    cat  2.5   Murzik       1      yes\n",
      "b    cat  3.0   Pushok       3      yes\n",
      "c  snake  0.5      Kaa       2       no\n",
      "d    dog  NaN    Bobik       3      yes\n",
      "e    dog  5.0  Strelka       2       no\n",
      "f    cat  2.0    Vaska       3       no\n",
      "g  snake  4.5     Kaa2       1       no\n",
      "h    cat  NaN    Murka       1      yes\n",
      "i    dog  7.0     Graf       2       no\n",
      "j    dog  3.0   Muhtar       1       no\n"
     ],
     "output_type":"stream"
    }
   ],
   "metadata":{
    "datalore":{
     "node_id":"FvBfdhoNDtyElq0wuNodtq",
     "type":"CODE",
     "hide_input_from_viewers":false,
     "hide_output_from_viewers":false,
     "report_properties":{
      "rowId":"gqogau9hIKbLlKE8gXfo2j"
     }
    }
   }
  },
  {
   "cell_type":"code",
   "source":[
    "df[df['age'] > 3]"
   ],
   "execution_count":null,
   "outputs":[
    {
     "data":{
      "text\/html":[
       "<div>\n",
       "<style scoped>\n",
       "    .dataframe tbody tr th:only-of-type {\n",
       "        vertical-align: middle;\n",
       "    }\n",
       "\n",
       "    .dataframe tbody tr th {\n",
       "        vertical-align: top;\n",
       "    }\n",
       "\n",
       "    .dataframe thead th {\n",
       "        text-align: right;\n",
       "    }\n",
       "<\/style>\n",
       "<table border=\"1\" class=\"dataframe\">\n",
       "  <thead>\n",
       "    <tr style=\"text-align: right;\">\n",
       "      <th><\/th>\n",
       "      <th>animal<\/th>\n",
       "      <th>age<\/th>\n",
       "      <th>visits<\/th>\n",
       "      <th>priority<\/th>\n",
       "    <\/tr>\n",
       "  <\/thead>\n",
       "  <tbody>\n",
       "    <tr>\n",
       "      <th>e<\/th>\n",
       "      <td>dog<\/td>\n",
       "      <td>5.0<\/td>\n",
       "      <td>2<\/td>\n",
       "      <td>no<\/td>\n",
       "    <\/tr>\n",
       "    <tr>\n",
       "      <th>g<\/th>\n",
       "      <td>snake<\/td>\n",
       "      <td>4.5<\/td>\n",
       "      <td>1<\/td>\n",
       "      <td>no<\/td>\n",
       "    <\/tr>\n",
       "    <tr>\n",
       "      <th>i<\/th>\n",
       "      <td>dog<\/td>\n",
       "      <td>7.0<\/td>\n",
       "      <td>2<\/td>\n",
       "      <td>no<\/td>\n",
       "    <\/tr>\n",
       "  <\/tbody>\n",
       "<\/table>\n",
       "<\/div>"
      ]
     },
     "metadata":{
      
     },
     "output_type":"display_data"
    },
    {
     "data":{
      "text\/plain":[
       "  animal  age  visits priority\n",
       "e    dog  5.0       2       no\n",
       "g  snake  4.5       1       no\n",
       "i    dog  7.0       2       no"
      ]
     },
     "metadata":{
      
     },
     "output_type":"display_data"
    }
   ],
   "metadata":{
    "datalore":{
     "node_id":"79Q6P6FFvMOezYKA4EBhNf",
     "type":"CODE",
     "hide_input_from_viewers":false,
     "hide_output_from_viewers":false,
     "report_properties":{
      "rowId":"RCyiwoxjR6NrggL3HCxWEz"
     }
    }
   }
  },
  {
   "cell_type":"markdown",
   "source":[
    "Переменная df содержит DataFrame.\n",
    "\n",
    "Выведите на печать только данные, в которых не заполнен возраст (в графе 'age' стоит null)"
   ],
   "attachments":{
    
   },
   "metadata":{
    "datalore":{
     "node_id":"i2b67asjDDek0QLqDobFAh",
     "type":"MD",
     "hide_input_from_viewers":true,
     "hide_output_from_viewers":true
    }
   }
  },
  {
   "cell_type":"code",
   "source":[
    "null_age_rows = df[df['age'].isnull()]\n",
    "print(null_age_rows)"
   ],
   "execution_count":85,
   "outputs":[
    {
     "name":"stdout",
     "text":[
      "  animal  age   name  visits priority\n",
      "d    dog  NaN  Bobik       3      yes\n",
      "h    cat  NaN  Murka       1      yes\n"
     ],
     "output_type":"stream"
    }
   ],
   "metadata":{
    "datalore":{
     "node_id":"hDdoEostN2g3JMudQR91xy",
     "type":"CODE",
     "hide_input_from_viewers":false,
     "hide_output_from_viewers":false,
     "report_properties":{
      "rowId":"6BGSLQSIoB7aBNiMzXAO2p"
     }
    }
   }
  },
  {
   "cell_type":"markdown",
   "source":[
    "Переменная df содержит DataFrame.\n",
    "\n",
    "Переменная filter_names содержит список имён столбцов по которым происходит фильтрация\n",
    "\n",
    "Переменная filter_values содержит список из 2 значений по которым происходит фильтрация. 1 значение проверяется на равенство. 2 значение должно быть меньше указанного в фильтре.\n",
    "\n",
    "Выведите только те строки датафрейма, которые удовлетворяют условиям обоих фильтров.\n",
    "\n",
    "В 1 примере мы выводим данные обо всех животных (имя столбца = 'animal'), являющихся кошками (значение = 'cat'), возраст (имя столбца = 'age') которых меньше 3 (значение = 3)."
   ],
   "attachments":{
    
   },
   "metadata":{
    "datalore":{
     "node_id":"Id4vuboSTOpfrhjsZ2LanU",
     "type":"MD",
     "hide_input_from_viewers":false,
     "hide_output_from_viewers":false,
     "report_properties":{
      "rowId":"t0foWVJ9esF8U3IV7z6L8X"
     }
    }
   }
  },
  {
   "cell_type":"code",
   "source":[
    "df = pd.DataFrame({'animal': ['cat', 'cat', 'snake', 'dog', 'dog', 'cat', 'snake', 'cat', 'dog', 'dog'],\n",
    "                   'age': [2.5, 3, 0.5, np.nan, 5, 2, 4.5, np.nan, 7, 3],\n",
    "                   'name': ['Murzik', 'Pushok', 'Kaa', 'Bobik', 'Strelka', 'Vaska', 'Kaa2', 'Murka', 'Graf', 'Muhtar'],\n",
    "                   'visits': [1, 3, 2, 3, 2, 3, 1, 1, 2, 1],\n",
    "                   'priority': ['yes', 'yes', 'no', 'yes', 'no', 'no', 'no', 'yes', 'no', 'no']},\n",
    "                    index = ['a', 'b', 'c', 'd', 'e', 'f', 'g', 'h', 'i', 'j'])\n",
    "\n",
    "print(df)\n",
    "filter_names = [\"animal\", \"age\"]\n",
    "filter_values = [\"cat\", 3]"
   ],
   "execution_count":93,
   "outputs":[
    {
     "name":"stdout",
     "text":[
      "  animal  age     name  visits priority\n",
      "a    cat  2.5   Murzik       1      yes\n",
      "b    cat  3.0   Pushok       3      yes\n",
      "c  snake  0.5      Kaa       2       no\n",
      "d    dog  NaN    Bobik       3      yes\n",
      "e    dog  5.0  Strelka       2       no\n",
      "f    cat  2.0    Vaska       3       no\n",
      "g  snake  4.5     Kaa2       1       no\n",
      "h    cat  NaN    Murka       1      yes\n",
      "i    dog  7.0     Graf       2       no\n",
      "j    dog  3.0   Muhtar       1       no\n"
     ],
     "output_type":"stream"
    }
   ],
   "metadata":{
    "datalore":{
     "node_id":"EPT9Fp0mWIJLAxOpnxbOJe",
     "type":"CODE",
     "hide_input_from_viewers":false,
     "hide_output_from_viewers":false,
     "report_properties":{
      "rowId":"1Ffhzr4BieXwbUhIL8e2Qh"
     }
    }
   }
  },
  {
   "cell_type":"code",
   "source":[
    "df[(df['age'] < 3) & (df['animal'] == 'cat')]"
   ],
   "execution_count":null,
   "outputs":[
    {
     "data":{
      "text\/html":[
       "<div>\n",
       "<style scoped>\n",
       "    .dataframe tbody tr th:only-of-type {\n",
       "        vertical-align: middle;\n",
       "    }\n",
       "\n",
       "    .dataframe tbody tr th {\n",
       "        vertical-align: top;\n",
       "    }\n",
       "\n",
       "    .dataframe thead th {\n",
       "        text-align: right;\n",
       "    }\n",
       "<\/style>\n",
       "<table border=\"1\" class=\"dataframe\">\n",
       "  <thead>\n",
       "    <tr style=\"text-align: right;\">\n",
       "      <th><\/th>\n",
       "      <th>animal<\/th>\n",
       "      <th>age<\/th>\n",
       "      <th>visits<\/th>\n",
       "      <th>priority<\/th>\n",
       "    <\/tr>\n",
       "  <\/thead>\n",
       "  <tbody>\n",
       "    <tr>\n",
       "      <th>a<\/th>\n",
       "      <td>cat<\/td>\n",
       "      <td>2.5<\/td>\n",
       "      <td>1<\/td>\n",
       "      <td>yes<\/td>\n",
       "    <\/tr>\n",
       "    <tr>\n",
       "      <th>f<\/th>\n",
       "      <td>cat<\/td>\n",
       "      <td>2.0<\/td>\n",
       "      <td>3<\/td>\n",
       "      <td>no<\/td>\n",
       "    <\/tr>\n",
       "  <\/tbody>\n",
       "<\/table>\n",
       "<\/div>"
      ]
     },
     "metadata":{
      
     },
     "output_type":"display_data"
    },
    {
     "data":{
      "text\/plain":[
       "  animal  age  visits priority\n",
       "a    cat  2.5       1      yes\n",
       "f    cat  2.0       3       no"
      ]
     },
     "metadata":{
      
     },
     "output_type":"display_data"
    }
   ],
   "metadata":{
    "datalore":{
     "node_id":"c8Us4IsZW9iJ0y2xERzNMB",
     "type":"CODE",
     "hide_input_from_viewers":false,
     "hide_output_from_viewers":false,
     "report_properties":{
      "rowId":"g1FbunjGtGH2sfvxBb92Hl"
     }
    }
   }
  },
  {
   "cell_type":"code",
   "source":[
    "df[(df['age'] < 3) | (df['animal'] == 'cat')]"
   ],
   "execution_count":null,
   "outputs":[
    {
     "data":{
      "text\/html":[
       "<div>\n",
       "<style scoped>\n",
       "    .dataframe tbody tr th:only-of-type {\n",
       "        vertical-align: middle;\n",
       "    }\n",
       "\n",
       "    .dataframe tbody tr th {\n",
       "        vertical-align: top;\n",
       "    }\n",
       "\n",
       "    .dataframe thead th {\n",
       "        text-align: right;\n",
       "    }\n",
       "<\/style>\n",
       "<table border=\"1\" class=\"dataframe\">\n",
       "  <thead>\n",
       "    <tr style=\"text-align: right;\">\n",
       "      <th><\/th>\n",
       "      <th>animal<\/th>\n",
       "      <th>age<\/th>\n",
       "      <th>visits<\/th>\n",
       "      <th>priority<\/th>\n",
       "    <\/tr>\n",
       "  <\/thead>\n",
       "  <tbody>\n",
       "    <tr>\n",
       "      <th>a<\/th>\n",
       "      <td>cat<\/td>\n",
       "      <td>2.5<\/td>\n",
       "      <td>1<\/td>\n",
       "      <td>yes<\/td>\n",
       "    <\/tr>\n",
       "    <tr>\n",
       "      <th>b<\/th>\n",
       "      <td>cat<\/td>\n",
       "      <td>3.0<\/td>\n",
       "      <td>3<\/td>\n",
       "      <td>yes<\/td>\n",
       "    <\/tr>\n",
       "    <tr>\n",
       "      <th>c<\/th>\n",
       "      <td>snake<\/td>\n",
       "      <td>0.5<\/td>\n",
       "      <td>2<\/td>\n",
       "      <td>no<\/td>\n",
       "    <\/tr>\n",
       "    <tr>\n",
       "      <th>f<\/th>\n",
       "      <td>cat<\/td>\n",
       "      <td>2.0<\/td>\n",
       "      <td>3<\/td>\n",
       "      <td>no<\/td>\n",
       "    <\/tr>\n",
       "    <tr>\n",
       "      <th>h<\/th>\n",
       "      <td>cat<\/td>\n",
       "      <td>NaN<\/td>\n",
       "      <td>1<\/td>\n",
       "      <td>yes<\/td>\n",
       "    <\/tr>\n",
       "  <\/tbody>\n",
       "<\/table>\n",
       "<\/div>"
      ]
     },
     "metadata":{
      
     },
     "output_type":"display_data"
    },
    {
     "data":{
      "text\/plain":[
       "  animal  age  visits priority\n",
       "a    cat  2.5       1      yes\n",
       "b    cat  3.0       3      yes\n",
       "c  snake  0.5       2       no\n",
       "f    cat  2.0       3       no\n",
       "h    cat  NaN       1      yes"
      ]
     },
     "metadata":{
      
     },
     "output_type":"display_data"
    }
   ],
   "metadata":{
    "datalore":{
     "node_id":"EOXmpgeWnkdTzFCiBg5ZKz",
     "type":"CODE",
     "hide_input_from_viewers":false,
     "hide_output_from_viewers":false,
     "report_properties":{
      "rowId":"E4S6NTDCU57NpleweTEhs0"
     }
    }
   }
  },
  {
   "cell_type":"markdown",
   "source":[
    "Переменная df содержит DataFrame.\n",
    "\n",
    "Переменная age_between содержит 2 числа\n",
    "\n",
    "Выведите только те строки датафрейма, возраст в которых находится в интервале между числами age_between (включая границы)."
   ],
   "attachments":{
    
   },
   "metadata":{
    "datalore":{
     "node_id":"zkBtieLEsJ0XKCvN5szaD6",
     "type":"MD",
     "hide_input_from_viewers":false,
     "hide_output_from_viewers":false,
     "report_properties":{
      "rowId":"ombRqB7D3jBB29ej34aX75"
     }
    }
   }
  },
  {
   "cell_type":"code",
   "source":[
    "age_between = [2, 4]\n",
    "df[(df['age'] > 2) & (df['age'] < 4)]"
   ],
   "execution_count":90,
   "outputs":[
    {
     "data":{
      "text\/html":[
       "<div>\n",
       "<style scoped>\n",
       "    .dataframe tbody tr th:only-of-type {\n",
       "        vertical-align: middle;\n",
       "    }\n",
       "\n",
       "    .dataframe tbody tr th {\n",
       "        vertical-align: top;\n",
       "    }\n",
       "\n",
       "    .dataframe thead th {\n",
       "        text-align: right;\n",
       "    }\n",
       "<\/style>\n",
       "<table border=\"1\" class=\"dataframe\">\n",
       "  <thead>\n",
       "    <tr style=\"text-align: right;\">\n",
       "      <th><\/th>\n",
       "      <th>animal<\/th>\n",
       "      <th>age<\/th>\n",
       "      <th>name<\/th>\n",
       "      <th>visits<\/th>\n",
       "      <th>priority<\/th>\n",
       "    <\/tr>\n",
       "  <\/thead>\n",
       "  <tbody>\n",
       "    <tr>\n",
       "      <th>a<\/th>\n",
       "      <td>cat<\/td>\n",
       "      <td>2.5<\/td>\n",
       "      <td>Murzik<\/td>\n",
       "      <td>1<\/td>\n",
       "      <td>yes<\/td>\n",
       "    <\/tr>\n",
       "    <tr>\n",
       "      <th>b<\/th>\n",
       "      <td>cat<\/td>\n",
       "      <td>3.0<\/td>\n",
       "      <td>Pushok<\/td>\n",
       "      <td>3<\/td>\n",
       "      <td>yes<\/td>\n",
       "    <\/tr>\n",
       "    <tr>\n",
       "      <th>j<\/th>\n",
       "      <td>dog<\/td>\n",
       "      <td>3.0<\/td>\n",
       "      <td>Muhtar<\/td>\n",
       "      <td>1<\/td>\n",
       "      <td>no<\/td>\n",
       "    <\/tr>\n",
       "  <\/tbody>\n",
       "<\/table>\n",
       "<\/div>"
      ]
     },
     "metadata":{
      
     },
     "output_type":"display_data"
    }
   ],
   "metadata":{
    "datalore":{
     "node_id":"Vup696DwRNEuqsHZLhwBqs",
     "type":"CODE",
     "hide_input_from_viewers":false,
     "hide_output_from_viewers":false,
     "report_properties":{
      "rowId":"UDULXF5DyLVu0wDzTC8KdN"
     }
    }
   }
  },
  {
   "cell_type":"markdown",
   "source":[
    "Переменная df содержит DataFrame.\n",
    "\n",
    "Переменная index содержит строку ИЛИ число (индекс)\n",
    "\n",
    "Увеличьте значение возраста в строке индексом равным index на 1.\n",
    "\n",
    "Выведите df на печать."
   ],
   "attachments":{
    
   },
   "metadata":{
    "datalore":{
     "node_id":"IsPQm1jCp9LPXGDLnDMm84",
     "type":"MD",
     "hide_input_from_viewers":false,
     "hide_output_from_viewers":false,
     "report_properties":{
      "rowId":"5XZF0RoqUpb3YRk76Jc9Nh"
     }
    }
   }
  },
  {
   "cell_type":"code",
   "source":[
    "index = 'f'\n",
    "df.loc['f', 'age'] += 1\n",
    "print(df)"
   ],
   "execution_count":94,
   "outputs":[
    {
     "name":"stdout",
     "text":[
      "  animal  age     name  visits priority\n",
      "a    cat  2.5   Murzik       1      yes\n",
      "b    cat  3.0   Pushok       3      yes\n",
      "c  snake  0.5      Kaa       2       no\n",
      "d    dog  NaN    Bobik       3      yes\n",
      "e    dog  5.0  Strelka       2       no\n",
      "f    cat  3.0    Vaska       3       no\n",
      "g  snake  4.5     Kaa2       1       no\n",
      "h    cat  NaN    Murka       1      yes\n",
      "i    dog  7.0     Graf       2       no\n",
      "j    dog  3.0   Muhtar       1       no\n"
     ],
     "output_type":"stream"
    }
   ],
   "metadata":{
    "datalore":{
     "node_id":"hTmGQDoenKc77sGAtSyLSt",
     "type":"CODE",
     "hide_input_from_viewers":false,
     "hide_output_from_viewers":false,
     "report_properties":{
      "rowId":"8xhARMpY2wwg97mUvIs8DU"
     }
    }
   }
  },
  {
   "cell_type":"markdown",
   "source":[
    "Переменная df содержит DataFrame.\n",
    "\n",
    "Увеличьте значение возраста во всех строках на 1.\n",
    "\n",
    "Выведите df на печать."
   ],
   "attachments":{
    
   },
   "metadata":{
    "datalore":{
     "node_id":"UYEpHs9D2sAZymsG3EqORp",
     "type":"MD",
     "hide_input_from_viewers":false,
     "hide_output_from_viewers":false,
     "report_properties":{
      "rowId":"BEdLLJSeLBLZaOJrkpJiVs"
     }
    }
   }
  },
  {
   "cell_type":"code",
   "source":[
    "df"
   ],
   "execution_count":95,
   "outputs":[
    {
     "data":{
      "text\/html":[
       "<div>\n",
       "<style scoped>\n",
       "    .dataframe tbody tr th:only-of-type {\n",
       "        vertical-align: middle;\n",
       "    }\n",
       "\n",
       "    .dataframe tbody tr th {\n",
       "        vertical-align: top;\n",
       "    }\n",
       "\n",
       "    .dataframe thead th {\n",
       "        text-align: right;\n",
       "    }\n",
       "<\/style>\n",
       "<table border=\"1\" class=\"dataframe\">\n",
       "  <thead>\n",
       "    <tr style=\"text-align: right;\">\n",
       "      <th><\/th>\n",
       "      <th>animal<\/th>\n",
       "      <th>age<\/th>\n",
       "      <th>name<\/th>\n",
       "      <th>visits<\/th>\n",
       "      <th>priority<\/th>\n",
       "    <\/tr>\n",
       "  <\/thead>\n",
       "  <tbody>\n",
       "    <tr>\n",
       "      <th>a<\/th>\n",
       "      <td>cat<\/td>\n",
       "      <td>2.5<\/td>\n",
       "      <td>Murzik<\/td>\n",
       "      <td>1<\/td>\n",
       "      <td>yes<\/td>\n",
       "    <\/tr>\n",
       "    <tr>\n",
       "      <th>b<\/th>\n",
       "      <td>cat<\/td>\n",
       "      <td>3.0<\/td>\n",
       "      <td>Pushok<\/td>\n",
       "      <td>3<\/td>\n",
       "      <td>yes<\/td>\n",
       "    <\/tr>\n",
       "    <tr>\n",
       "      <th>c<\/th>\n",
       "      <td>snake<\/td>\n",
       "      <td>0.5<\/td>\n",
       "      <td>Kaa<\/td>\n",
       "      <td>2<\/td>\n",
       "      <td>no<\/td>\n",
       "    <\/tr>\n",
       "    <tr>\n",
       "      <th>d<\/th>\n",
       "      <td>dog<\/td>\n",
       "      <td>NaN<\/td>\n",
       "      <td>Bobik<\/td>\n",
       "      <td>3<\/td>\n",
       "      <td>yes<\/td>\n",
       "    <\/tr>\n",
       "    <tr>\n",
       "      <th>e<\/th>\n",
       "      <td>dog<\/td>\n",
       "      <td>5.0<\/td>\n",
       "      <td>Strelka<\/td>\n",
       "      <td>2<\/td>\n",
       "      <td>no<\/td>\n",
       "    <\/tr>\n",
       "    <tr>\n",
       "      <th>f<\/th>\n",
       "      <td>cat<\/td>\n",
       "      <td>3.0<\/td>\n",
       "      <td>Vaska<\/td>\n",
       "      <td>3<\/td>\n",
       "      <td>no<\/td>\n",
       "    <\/tr>\n",
       "    <tr>\n",
       "      <th>g<\/th>\n",
       "      <td>snake<\/td>\n",
       "      <td>4.5<\/td>\n",
       "      <td>Kaa2<\/td>\n",
       "      <td>1<\/td>\n",
       "      <td>no<\/td>\n",
       "    <\/tr>\n",
       "    <tr>\n",
       "      <th>h<\/th>\n",
       "      <td>cat<\/td>\n",
       "      <td>NaN<\/td>\n",
       "      <td>Murka<\/td>\n",
       "      <td>1<\/td>\n",
       "      <td>yes<\/td>\n",
       "    <\/tr>\n",
       "    <tr>\n",
       "      <th>i<\/th>\n",
       "      <td>dog<\/td>\n",
       "      <td>7.0<\/td>\n",
       "      <td>Graf<\/td>\n",
       "      <td>2<\/td>\n",
       "      <td>no<\/td>\n",
       "    <\/tr>\n",
       "    <tr>\n",
       "      <th>j<\/th>\n",
       "      <td>dog<\/td>\n",
       "      <td>3.0<\/td>\n",
       "      <td>Muhtar<\/td>\n",
       "      <td>1<\/td>\n",
       "      <td>no<\/td>\n",
       "    <\/tr>\n",
       "  <\/tbody>\n",
       "<\/table>\n",
       "<\/div>"
      ]
     },
     "metadata":{
      
     },
     "output_type":"display_data"
    }
   ],
   "metadata":{
    "datalore":{
     "node_id":"D50M14SgDdMj7kQy7pv9Na",
     "type":"CODE",
     "hide_input_from_viewers":false,
     "hide_output_from_viewers":false,
     "report_properties":{
      "rowId":"BhnoOzGFonEGaJt6tPMYzP"
     }
    }
   }
  },
  {
   "cell_type":"code",
   "source":[
    "df['age'] = df['age'] + 1\n",
    "df"
   ],
   "execution_count":97,
   "outputs":[
    {
     "data":{
      "text\/html":[
       "<div>\n",
       "<style scoped>\n",
       "    .dataframe tbody tr th:only-of-type {\n",
       "        vertical-align: middle;\n",
       "    }\n",
       "\n",
       "    .dataframe tbody tr th {\n",
       "        vertical-align: top;\n",
       "    }\n",
       "\n",
       "    .dataframe thead th {\n",
       "        text-align: right;\n",
       "    }\n",
       "<\/style>\n",
       "<table border=\"1\" class=\"dataframe\">\n",
       "  <thead>\n",
       "    <tr style=\"text-align: right;\">\n",
       "      <th><\/th>\n",
       "      <th>index<\/th>\n",
       "      <th>animal<\/th>\n",
       "      <th>age<\/th>\n",
       "      <th>name<\/th>\n",
       "      <th>visits<\/th>\n",
       "      <th>priority<\/th>\n",
       "    <\/tr>\n",
       "  <\/thead>\n",
       "  <tbody>\n",
       "    <tr>\n",
       "      <th>0<\/th>\n",
       "      <td>a<\/td>\n",
       "      <td>cat<\/td>\n",
       "      <td>3.5<\/td>\n",
       "      <td>Murzik<\/td>\n",
       "      <td>1<\/td>\n",
       "      <td>yes<\/td>\n",
       "    <\/tr>\n",
       "    <tr>\n",
       "      <th>1<\/th>\n",
       "      <td>b<\/td>\n",
       "      <td>cat<\/td>\n",
       "      <td>4.0<\/td>\n",
       "      <td>Pushok<\/td>\n",
       "      <td>3<\/td>\n",
       "      <td>yes<\/td>\n",
       "    <\/tr>\n",
       "    <tr>\n",
       "      <th>2<\/th>\n",
       "      <td>c<\/td>\n",
       "      <td>snake<\/td>\n",
       "      <td>1.5<\/td>\n",
       "      <td>Kaa<\/td>\n",
       "      <td>2<\/td>\n",
       "      <td>no<\/td>\n",
       "    <\/tr>\n",
       "    <tr>\n",
       "      <th>3<\/th>\n",
       "      <td>d<\/td>\n",
       "      <td>dog<\/td>\n",
       "      <td>NaN<\/td>\n",
       "      <td>Bobik<\/td>\n",
       "      <td>3<\/td>\n",
       "      <td>yes<\/td>\n",
       "    <\/tr>\n",
       "    <tr>\n",
       "      <th>4<\/th>\n",
       "      <td>e<\/td>\n",
       "      <td>dog<\/td>\n",
       "      <td>6.0<\/td>\n",
       "      <td>Strelka<\/td>\n",
       "      <td>2<\/td>\n",
       "      <td>no<\/td>\n",
       "    <\/tr>\n",
       "    <tr>\n",
       "      <th>5<\/th>\n",
       "      <td>f<\/td>\n",
       "      <td>cat<\/td>\n",
       "      <td>4.0<\/td>\n",
       "      <td>Vaska<\/td>\n",
       "      <td>3<\/td>\n",
       "      <td>no<\/td>\n",
       "    <\/tr>\n",
       "    <tr>\n",
       "      <th>6<\/th>\n",
       "      <td>g<\/td>\n",
       "      <td>snake<\/td>\n",
       "      <td>5.5<\/td>\n",
       "      <td>Kaa2<\/td>\n",
       "      <td>1<\/td>\n",
       "      <td>no<\/td>\n",
       "    <\/tr>\n",
       "    <tr>\n",
       "      <th>7<\/th>\n",
       "      <td>h<\/td>\n",
       "      <td>cat<\/td>\n",
       "      <td>NaN<\/td>\n",
       "      <td>Murka<\/td>\n",
       "      <td>1<\/td>\n",
       "      <td>yes<\/td>\n",
       "    <\/tr>\n",
       "    <tr>\n",
       "      <th>8<\/th>\n",
       "      <td>i<\/td>\n",
       "      <td>dog<\/td>\n",
       "      <td>8.0<\/td>\n",
       "      <td>Graf<\/td>\n",
       "      <td>2<\/td>\n",
       "      <td>no<\/td>\n",
       "    <\/tr>\n",
       "    <tr>\n",
       "      <th>9<\/th>\n",
       "      <td>j<\/td>\n",
       "      <td>dog<\/td>\n",
       "      <td>4.0<\/td>\n",
       "      <td>Muhtar<\/td>\n",
       "      <td>1<\/td>\n",
       "      <td>no<\/td>\n",
       "    <\/tr>\n",
       "  <\/tbody>\n",
       "<\/table>\n",
       "<\/div>"
      ]
     },
     "metadata":{
      
     },
     "output_type":"display_data"
    }
   ],
   "metadata":{
    "datalore":{
     "node_id":"4RpLjeALhMqvYHKo0S4kR2",
     "type":"CODE",
     "hide_input_from_viewers":false,
     "hide_output_from_viewers":false,
     "report_properties":{
      "rowId":"hK9nvNTlGFb7mnqHg0MAq8"
     }
    }
   }
  },
  {
   "cell_type":"code",
   "source":[
    "df.reset_index(inplace = True)\n",
    "df"
   ],
   "execution_count":98,
   "outputs":[
    {
     "data":{
      "text\/html":[
       "<div>\n",
       "<style scoped>\n",
       "    .dataframe tbody tr th:only-of-type {\n",
       "        vertical-align: middle;\n",
       "    }\n",
       "\n",
       "    .dataframe tbody tr th {\n",
       "        vertical-align: top;\n",
       "    }\n",
       "\n",
       "    .dataframe thead th {\n",
       "        text-align: right;\n",
       "    }\n",
       "<\/style>\n",
       "<table border=\"1\" class=\"dataframe\">\n",
       "  <thead>\n",
       "    <tr style=\"text-align: right;\">\n",
       "      <th><\/th>\n",
       "      <th>level_0<\/th>\n",
       "      <th>index<\/th>\n",
       "      <th>animal<\/th>\n",
       "      <th>age<\/th>\n",
       "      <th>name<\/th>\n",
       "      <th>visits<\/th>\n",
       "      <th>priority<\/th>\n",
       "    <\/tr>\n",
       "  <\/thead>\n",
       "  <tbody>\n",
       "    <tr>\n",
       "      <th>0<\/th>\n",
       "      <td>0<\/td>\n",
       "      <td>a<\/td>\n",
       "      <td>cat<\/td>\n",
       "      <td>3.5<\/td>\n",
       "      <td>Murzik<\/td>\n",
       "      <td>1<\/td>\n",
       "      <td>yes<\/td>\n",
       "    <\/tr>\n",
       "    <tr>\n",
       "      <th>1<\/th>\n",
       "      <td>1<\/td>\n",
       "      <td>b<\/td>\n",
       "      <td>cat<\/td>\n",
       "      <td>4.0<\/td>\n",
       "      <td>Pushok<\/td>\n",
       "      <td>3<\/td>\n",
       "      <td>yes<\/td>\n",
       "    <\/tr>\n",
       "    <tr>\n",
       "      <th>2<\/th>\n",
       "      <td>2<\/td>\n",
       "      <td>c<\/td>\n",
       "      <td>snake<\/td>\n",
       "      <td>1.5<\/td>\n",
       "      <td>Kaa<\/td>\n",
       "      <td>2<\/td>\n",
       "      <td>no<\/td>\n",
       "    <\/tr>\n",
       "    <tr>\n",
       "      <th>3<\/th>\n",
       "      <td>3<\/td>\n",
       "      <td>d<\/td>\n",
       "      <td>dog<\/td>\n",
       "      <td>NaN<\/td>\n",
       "      <td>Bobik<\/td>\n",
       "      <td>3<\/td>\n",
       "      <td>yes<\/td>\n",
       "    <\/tr>\n",
       "    <tr>\n",
       "      <th>4<\/th>\n",
       "      <td>4<\/td>\n",
       "      <td>e<\/td>\n",
       "      <td>dog<\/td>\n",
       "      <td>6.0<\/td>\n",
       "      <td>Strelka<\/td>\n",
       "      <td>2<\/td>\n",
       "      <td>no<\/td>\n",
       "    <\/tr>\n",
       "    <tr>\n",
       "      <th>5<\/th>\n",
       "      <td>5<\/td>\n",
       "      <td>f<\/td>\n",
       "      <td>cat<\/td>\n",
       "      <td>4.0<\/td>\n",
       "      <td>Vaska<\/td>\n",
       "      <td>3<\/td>\n",
       "      <td>no<\/td>\n",
       "    <\/tr>\n",
       "    <tr>\n",
       "      <th>6<\/th>\n",
       "      <td>6<\/td>\n",
       "      <td>g<\/td>\n",
       "      <td>snake<\/td>\n",
       "      <td>5.5<\/td>\n",
       "      <td>Kaa2<\/td>\n",
       "      <td>1<\/td>\n",
       "      <td>no<\/td>\n",
       "    <\/tr>\n",
       "    <tr>\n",
       "      <th>7<\/th>\n",
       "      <td>7<\/td>\n",
       "      <td>h<\/td>\n",
       "      <td>cat<\/td>\n",
       "      <td>NaN<\/td>\n",
       "      <td>Murka<\/td>\n",
       "      <td>1<\/td>\n",
       "      <td>yes<\/td>\n",
       "    <\/tr>\n",
       "    <tr>\n",
       "      <th>8<\/th>\n",
       "      <td>8<\/td>\n",
       "      <td>i<\/td>\n",
       "      <td>dog<\/td>\n",
       "      <td>8.0<\/td>\n",
       "      <td>Graf<\/td>\n",
       "      <td>2<\/td>\n",
       "      <td>no<\/td>\n",
       "    <\/tr>\n",
       "    <tr>\n",
       "      <th>9<\/th>\n",
       "      <td>9<\/td>\n",
       "      <td>j<\/td>\n",
       "      <td>dog<\/td>\n",
       "      <td>4.0<\/td>\n",
       "      <td>Muhtar<\/td>\n",
       "      <td>1<\/td>\n",
       "      <td>no<\/td>\n",
       "    <\/tr>\n",
       "  <\/tbody>\n",
       "<\/table>\n",
       "<\/div>"
      ]
     },
     "metadata":{
      
     },
     "output_type":"display_data"
    }
   ],
   "metadata":{
    "datalore":{
     "node_id":"vXwGj74arEt9eWpdZ4iP53",
     "type":"CODE",
     "hide_input_from_viewers":false,
     "hide_output_from_viewers":false,
     "report_properties":{
      "rowId":"9qh51c3wkF78Wy4oCoNmlh"
     }
    }
   }
  },
  {
   "cell_type":"code",
   "source":[
    "df.set_index('index', inplace=True, drop=True)\n",
    "df"
   ],
   "execution_count":99,
   "outputs":[
    {
     "data":{
      "text\/html":[
       "<div>\n",
       "<style scoped>\n",
       "    .dataframe tbody tr th:only-of-type {\n",
       "        vertical-align: middle;\n",
       "    }\n",
       "\n",
       "    .dataframe tbody tr th {\n",
       "        vertical-align: top;\n",
       "    }\n",
       "\n",
       "    .dataframe thead th {\n",
       "        text-align: right;\n",
       "    }\n",
       "<\/style>\n",
       "<table border=\"1\" class=\"dataframe\">\n",
       "  <thead>\n",
       "    <tr style=\"text-align: right;\">\n",
       "      <th><\/th>\n",
       "      <th>level_0<\/th>\n",
       "      <th>animal<\/th>\n",
       "      <th>age<\/th>\n",
       "      <th>name<\/th>\n",
       "      <th>visits<\/th>\n",
       "      <th>priority<\/th>\n",
       "    <\/tr>\n",
       "    <tr>\n",
       "      <th>index<\/th>\n",
       "      <th><\/th>\n",
       "      <th><\/th>\n",
       "      <th><\/th>\n",
       "      <th><\/th>\n",
       "      <th><\/th>\n",
       "      <th><\/th>\n",
       "    <\/tr>\n",
       "  <\/thead>\n",
       "  <tbody>\n",
       "    <tr>\n",
       "      <th>a<\/th>\n",
       "      <td>0<\/td>\n",
       "      <td>cat<\/td>\n",
       "      <td>3.5<\/td>\n",
       "      <td>Murzik<\/td>\n",
       "      <td>1<\/td>\n",
       "      <td>yes<\/td>\n",
       "    <\/tr>\n",
       "    <tr>\n",
       "      <th>b<\/th>\n",
       "      <td>1<\/td>\n",
       "      <td>cat<\/td>\n",
       "      <td>4.0<\/td>\n",
       "      <td>Pushok<\/td>\n",
       "      <td>3<\/td>\n",
       "      <td>yes<\/td>\n",
       "    <\/tr>\n",
       "    <tr>\n",
       "      <th>c<\/th>\n",
       "      <td>2<\/td>\n",
       "      <td>snake<\/td>\n",
       "      <td>1.5<\/td>\n",
       "      <td>Kaa<\/td>\n",
       "      <td>2<\/td>\n",
       "      <td>no<\/td>\n",
       "    <\/tr>\n",
       "    <tr>\n",
       "      <th>d<\/th>\n",
       "      <td>3<\/td>\n",
       "      <td>dog<\/td>\n",
       "      <td>NaN<\/td>\n",
       "      <td>Bobik<\/td>\n",
       "      <td>3<\/td>\n",
       "      <td>yes<\/td>\n",
       "    <\/tr>\n",
       "    <tr>\n",
       "      <th>e<\/th>\n",
       "      <td>4<\/td>\n",
       "      <td>dog<\/td>\n",
       "      <td>6.0<\/td>\n",
       "      <td>Strelka<\/td>\n",
       "      <td>2<\/td>\n",
       "      <td>no<\/td>\n",
       "    <\/tr>\n",
       "    <tr>\n",
       "      <th>f<\/th>\n",
       "      <td>5<\/td>\n",
       "      <td>cat<\/td>\n",
       "      <td>4.0<\/td>\n",
       "      <td>Vaska<\/td>\n",
       "      <td>3<\/td>\n",
       "      <td>no<\/td>\n",
       "    <\/tr>\n",
       "    <tr>\n",
       "      <th>g<\/th>\n",
       "      <td>6<\/td>\n",
       "      <td>snake<\/td>\n",
       "      <td>5.5<\/td>\n",
       "      <td>Kaa2<\/td>\n",
       "      <td>1<\/td>\n",
       "      <td>no<\/td>\n",
       "    <\/tr>\n",
       "    <tr>\n",
       "      <th>h<\/th>\n",
       "      <td>7<\/td>\n",
       "      <td>cat<\/td>\n",
       "      <td>NaN<\/td>\n",
       "      <td>Murka<\/td>\n",
       "      <td>1<\/td>\n",
       "      <td>yes<\/td>\n",
       "    <\/tr>\n",
       "    <tr>\n",
       "      <th>i<\/th>\n",
       "      <td>8<\/td>\n",
       "      <td>dog<\/td>\n",
       "      <td>8.0<\/td>\n",
       "      <td>Graf<\/td>\n",
       "      <td>2<\/td>\n",
       "      <td>no<\/td>\n",
       "    <\/tr>\n",
       "    <tr>\n",
       "      <th>j<\/th>\n",
       "      <td>9<\/td>\n",
       "      <td>dog<\/td>\n",
       "      <td>4.0<\/td>\n",
       "      <td>Muhtar<\/td>\n",
       "      <td>1<\/td>\n",
       "      <td>no<\/td>\n",
       "    <\/tr>\n",
       "  <\/tbody>\n",
       "<\/table>\n",
       "<\/div>"
      ]
     },
     "metadata":{
      
     },
     "output_type":"display_data"
    }
   ],
   "metadata":{
    "datalore":{
     "node_id":"zbWLbWiOW1N3pbsziqsYzw",
     "type":"CODE",
     "hide_input_from_viewers":false,
     "hide_output_from_viewers":false,
     "report_properties":{
      "rowId":"4NdgrRsX7msqMrE5QZglaz"
     }
    }
   }
  },
  {
   "cell_type":"code",
   "source":[
    
   ],
   "execution_count":null,
   "outputs":[
    
   ],
   "metadata":{
    "datalore":{
     "node_id":"G0XAwJ0x5DNwi4yD8wC8jS",
     "type":"CODE",
     "hide_input_from_viewers":false,
     "hide_output_from_viewers":false,
     "report_properties":{
      "rowId":"fxgVIesUyvfVNpUiVAllfi"
     }
    }
   }
  },
  {
   "cell_type":"markdown",
   "source":[
    "Переменная df содержит DataFrame.\n",
    "\n",
    "Выведите на печать сумму всех возрастов в df."
   ],
   "attachments":{
    
   },
   "metadata":{
    "datalore":{
     "node_id":"Vap3bhnUeKMhybtYqORJVv",
     "type":"MD",
     "hide_input_from_viewers":false,
     "hide_output_from_viewers":false,
     "report_properties":{
      "rowId":"Bd3U5OLu2W6JON2tqr88rC"
     }
    }
   }
  },
  {
   "cell_type":"code",
   "source":[
    "sum_= df['age'].sum()\n",
    "sum_"
   ],
   "execution_count":100,
   "outputs":[
    {
     "data":{
      "text\/plain":[
       "36.5"
      ]
     },
     "metadata":{
      
     },
     "output_type":"display_data"
    }
   ],
   "metadata":{
    "datalore":{
     "node_id":"SbHK776QTeeQTdCT165icM",
     "type":"CODE",
     "hide_input_from_viewers":false,
     "hide_output_from_viewers":false,
     "report_properties":{
      "rowId":"CwTsaiD1AZj35Rpqsia93x"
     }
    }
   }
  },
  {
   "cell_type":"markdown",
   "source":[
    "Переменная df содержит DataFrame.\n",
    "\n",
    "Выведите на печать для каждого столбца, содержащего числа его имя и сумму через двоеточие."
   ],
   "attachments":{
    
   },
   "metadata":{
    "datalore":{
     "node_id":"oYzjxv2cPzCdyrMIIin6QY",
     "type":"MD",
     "hide_input_from_viewers":false,
     "hide_output_from_viewers":false,
     "report_properties":{
      "rowId":"jLyGOtpLRYzEaefQvcfJw1"
     }
    }
   }
  },
  {
   "cell_type":"code",
   "source":[
    "for col in df.columns:\n",
    "    if df[col].dtype in [np.int64, np.float64]:\n",
    "        print(col + ':' + str(df[col].sum()))"
   ],
   "execution_count":101,
   "outputs":[
    {
     "name":"stdout",
     "text":[
      "level_0:45\n",
      "age:36.5\n",
      "visits:19\n"
     ],
     "output_type":"stream"
    }
   ],
   "metadata":{
    "datalore":{
     "node_id":"ztI8AaZ0KTAad1pS59EhiY",
     "type":"CODE",
     "hide_input_from_viewers":false,
     "hide_output_from_viewers":false,
     "report_properties":{
      "rowId":"v4u3BL7Lblf5d5xG96LX6q"
     }
    }
   }
  },
  {
   "cell_type":"markdown",
   "source":[
    "Переменная df содержит DataFrame.\n",
    "\n",
    "Переменная group_by содержит имя колонки по которой производится группировка.\n",
    "\n",
    "Найдите средние значение возраста по всем записям, сгруппированным по значению в колонке group_by и выведите на печать."
   ],
   "attachments":{
    
   },
   "metadata":{
    "datalore":{
     "node_id":"dGSCP1BohZA3L2FaEum4la",
     "type":"MD",
     "hide_input_from_viewers":false,
     "hide_output_from_viewers":false,
     "report_properties":{
      "rowId":"SGRV7B8yodSLTH6uAmgWYF"
     }
    }
   }
  },
  {
   "cell_type":"code",
   "source":[
    "df = pd.DataFrame({'animal': ['cat', 'cat', 'snake', 'dog', 'dog', 'cat', 'snake', 'cat', 'dog', 'dog'],\n",
    "                   'age': [2.5, 3, 0.5, np.nan, 5, 2, 4.5, np.nan, 7, 3],\n",
    "                   'name': ['Murzik', 'Pushok', 'Kaa', 'Bobik', 'Strelka', 'Vaska', 'Kaa2', 'Murka', 'Graf', 'Muhtar'],\n",
    "                   'visits': [1, 3, 2, 3, 2, 3, 1, 1, 2, 1],\n",
    "                   'priority': ['yes', 'yes', 'no', 'yes', 'no', 'no', 'no', 'yes', 'no', 'no']}, index = ['a', 'b', 'c', 'd', 'e', 'f', 'g', 'h', 'i', 'j'])\n",
    "group_by = \"animal\""
   ],
   "execution_count":106,
   "outputs":[
    
   ],
   "metadata":{
    "datalore":{
     "node_id":"v206bbziv4cPb4FxFqNtCp",
     "type":"CODE",
     "hide_input_from_viewers":false,
     "hide_output_from_viewers":false,
     "report_properties":{
      "rowId":"qahFwzIaqx8deaEWuPvET3"
     }
    }
   }
  },
  {
   "cell_type":"code",
   "source":[
    "df.groupby(['animal'])['age'].mean().reset_index()"
   ],
   "execution_count":null,
   "outputs":[
    {
     "data":{
      "text\/html":[
       "<div>\n",
       "<style scoped>\n",
       "    .dataframe tbody tr th:only-of-type {\n",
       "        vertical-align: middle;\n",
       "    }\n",
       "\n",
       "    .dataframe tbody tr th {\n",
       "        vertical-align: top;\n",
       "    }\n",
       "\n",
       "    .dataframe thead th {\n",
       "        text-align: right;\n",
       "    }\n",
       "<\/style>\n",
       "<table border=\"1\" class=\"dataframe\">\n",
       "  <thead>\n",
       "    <tr style=\"text-align: right;\">\n",
       "      <th><\/th>\n",
       "      <th>animal<\/th>\n",
       "      <th>age<\/th>\n",
       "    <\/tr>\n",
       "  <\/thead>\n",
       "  <tbody>\n",
       "    <tr>\n",
       "      <th>0<\/th>\n",
       "      <td>cat<\/td>\n",
       "      <td>2.5<\/td>\n",
       "    <\/tr>\n",
       "    <tr>\n",
       "      <th>1<\/th>\n",
       "      <td>dog<\/td>\n",
       "      <td>5.0<\/td>\n",
       "    <\/tr>\n",
       "    <tr>\n",
       "      <th>2<\/th>\n",
       "      <td>snake<\/td>\n",
       "      <td>2.5<\/td>\n",
       "    <\/tr>\n",
       "  <\/tbody>\n",
       "<\/table>\n",
       "<\/div>"
      ]
     },
     "metadata":{
      
     },
     "output_type":"display_data"
    },
    {
     "data":{
      "text\/plain":[
       "  animal  age\n",
       "0    cat  2.5\n",
       "1    dog  5.0\n",
       "2  snake  2.5"
      ]
     },
     "metadata":{
      
     },
     "output_type":"display_data"
    }
   ],
   "metadata":{
    "datalore":{
     "node_id":"GhgojIGvsnjXiYUwrFn0Yh",
     "type":"CODE",
     "hide_input_from_viewers":false,
     "hide_output_from_viewers":false,
     "report_properties":{
      "rowId":"HdFUyGAGnnol6dqOQMEY13"
     }
    }
   }
  },
  {
   "cell_type":"code",
   "source":[
    "res = df.groupby(['animal', 'priority']).agg({'age': ['sum', 'mean', 'std'],\n",
    "                           'visits':'sum'})\n",
    "res"
   ],
   "execution_count":107,
   "outputs":[
    {
     "data":{
      "text\/html":[
       "<div>\n",
       "<style scoped>\n",
       "    .dataframe tbody tr th:only-of-type {\n",
       "        vertical-align: middle;\n",
       "    }\n",
       "\n",
       "    .dataframe tbody tr th {\n",
       "        vertical-align: top;\n",
       "    }\n",
       "\n",
       "    .dataframe thead tr th {\n",
       "        text-align: left;\n",
       "    }\n",
       "\n",
       "    .dataframe thead tr:last-of-type th {\n",
       "        text-align: right;\n",
       "    }\n",
       "<\/style>\n",
       "<table border=\"1\" class=\"dataframe\">\n",
       "  <thead>\n",
       "    <tr>\n",
       "      <th><\/th>\n",
       "      <th><\/th>\n",
       "      <th colspan=\"3\" halign=\"left\">age<\/th>\n",
       "      <th>visits<\/th>\n",
       "    <\/tr>\n",
       "    <tr>\n",
       "      <th><\/th>\n",
       "      <th><\/th>\n",
       "      <th>sum<\/th>\n",
       "      <th>mean<\/th>\n",
       "      <th>std<\/th>\n",
       "      <th>sum<\/th>\n",
       "    <\/tr>\n",
       "    <tr>\n",
       "      <th>animal<\/th>\n",
       "      <th>priority<\/th>\n",
       "      <th><\/th>\n",
       "      <th><\/th>\n",
       "      <th><\/th>\n",
       "      <th><\/th>\n",
       "    <\/tr>\n",
       "  <\/thead>\n",
       "  <tbody>\n",
       "    <tr>\n",
       "      <th rowspan=\"2\" valign=\"top\">cat<\/th>\n",
       "      <th>no<\/th>\n",
       "      <td>2.0<\/td>\n",
       "      <td>2.00<\/td>\n",
       "      <td>NaN<\/td>\n",
       "      <td>3<\/td>\n",
       "    <\/tr>\n",
       "    <tr>\n",
       "      <th>yes<\/th>\n",
       "      <td>5.5<\/td>\n",
       "      <td>2.75<\/td>\n",
       "      <td>0.353553<\/td>\n",
       "      <td>5<\/td>\n",
       "    <\/tr>\n",
       "    <tr>\n",
       "      <th rowspan=\"2\" valign=\"top\">dog<\/th>\n",
       "      <th>no<\/th>\n",
       "      <td>15.0<\/td>\n",
       "      <td>5.00<\/td>\n",
       "      <td>2.000000<\/td>\n",
       "      <td>5<\/td>\n",
       "    <\/tr>\n",
       "    <tr>\n",
       "      <th>yes<\/th>\n",
       "      <td>0.0<\/td>\n",
       "      <td>NaN<\/td>\n",
       "      <td>NaN<\/td>\n",
       "      <td>3<\/td>\n",
       "    <\/tr>\n",
       "    <tr>\n",
       "      <th>snake<\/th>\n",
       "      <th>no<\/th>\n",
       "      <td>5.0<\/td>\n",
       "      <td>2.50<\/td>\n",
       "      <td>2.828427<\/td>\n",
       "      <td>3<\/td>\n",
       "    <\/tr>\n",
       "  <\/tbody>\n",
       "<\/table>\n",
       "<\/div>"
      ]
     },
     "metadata":{
      
     },
     "output_type":"display_data"
    }
   ],
   "metadata":{
    "datalore":{
     "node_id":"efZJ1ymRbkMT0pCvaHXA4q",
     "type":"CODE",
     "hide_input_from_viewers":false,
     "hide_output_from_viewers":false,
     "report_properties":{
      "rowId":"CnU4pfVO5nHAr7qliFodwV"
     }
    }
   }
  },
  {
   "cell_type":"markdown",
   "source":[
    "Переменная df содержит DataFrame.\n",
    "\n",
    "new_index - индекс для строки, которую надо добавить\n",
    "new_data - значения для строки, которую надо добавить\n",
    "del_index - индекс строки, которую надо удалить\n",
    "Добавьте новую строку (с индексом new_index и значениями new_data) и удалите одну из старых (del_index)\n",
    "\n",
    "Выведите df на печать."
   ],
   "attachments":{
    
   },
   "metadata":{
    "datalore":{
     "node_id":"r1DN7oGhGFmehsBui703sZ",
     "type":"MD",
     "hide_input_from_viewers":false,
     "hide_output_from_viewers":false,
     "report_properties":{
      "rowId":"k8SVSFnkKwDui6sl5dISRk"
     }
    }
   }
  },
  {
   "cell_type":"code",
   "source":[
    "res['age']['sum']"
   ],
   "execution_count":null,
   "outputs":[
    {
     "data":{
      "text\/plain":[
       "animal  priority\n",
       "cat     no           2.0\n",
       "        yes          5.5\n",
       "dog     no          15.0\n",
       "        yes          0.0\n",
       "snake   no           5.0\n",
       "Name: sum, dtype: float64"
      ]
     },
     "metadata":{
      
     },
     "output_type":"display_data"
    }
   ],
   "metadata":{
    "datalore":{
     "node_id":"XQ0YEFon3HrUCWRQzeeuZa",
     "type":"CODE",
     "hide_input_from_viewers":false,
     "hide_output_from_viewers":false,
     "report_properties":{
      "rowId":"zCct2yOmeVaSjys2HGrKsh"
     }
    }
   }
  },
  {
   "cell_type":"code",
   "source":[
    "res.reset_index()"
   ],
   "execution_count":null,
   "outputs":[
    {
     "data":{
      "text\/html":[
       "<div>\n",
       "<style scoped>\n",
       "    .dataframe tbody tr th:only-of-type {\n",
       "        vertical-align: middle;\n",
       "    }\n",
       "\n",
       "    .dataframe tbody tr th {\n",
       "        vertical-align: top;\n",
       "    }\n",
       "\n",
       "    .dataframe thead tr th {\n",
       "        text-align: left;\n",
       "    }\n",
       "<\/style>\n",
       "<table border=\"1\" class=\"dataframe\">\n",
       "  <thead>\n",
       "    <tr>\n",
       "      <th><\/th>\n",
       "      <th>animal<\/th>\n",
       "      <th>priority<\/th>\n",
       "      <th colspan=\"2\" halign=\"left\">age<\/th>\n",
       "      <th>visits<\/th>\n",
       "    <\/tr>\n",
       "    <tr>\n",
       "      <th><\/th>\n",
       "      <th><\/th>\n",
       "      <th><\/th>\n",
       "      <th>sum<\/th>\n",
       "      <th>mean<\/th>\n",
       "      <th>std<\/th>\n",
       "    <\/tr>\n",
       "  <\/thead>\n",
       "  <tbody>\n",
       "    <tr>\n",
       "      <th>0<\/th>\n",
       "      <td>cat<\/td>\n",
       "      <td>no<\/td>\n",
       "      <td>2.0<\/td>\n",
       "      <td>2.00<\/td>\n",
       "      <td>NaN<\/td>\n",
       "    <\/tr>\n",
       "    <tr>\n",
       "      <th>1<\/th>\n",
       "      <td>cat<\/td>\n",
       "      <td>yes<\/td>\n",
       "      <td>5.5<\/td>\n",
       "      <td>2.75<\/td>\n",
       "      <td>1.154701<\/td>\n",
       "    <\/tr>\n",
       "    <tr>\n",
       "      <th>2<\/th>\n",
       "      <td>dog<\/td>\n",
       "      <td>no<\/td>\n",
       "      <td>15.0<\/td>\n",
       "      <td>5.00<\/td>\n",
       "      <td>0.577350<\/td>\n",
       "    <\/tr>\n",
       "    <tr>\n",
       "      <th>3<\/th>\n",
       "      <td>dog<\/td>\n",
       "      <td>yes<\/td>\n",
       "      <td>0.0<\/td>\n",
       "      <td>NaN<\/td>\n",
       "      <td>NaN<\/td>\n",
       "    <\/tr>\n",
       "    <tr>\n",
       "      <th>4<\/th>\n",
       "      <td>snake<\/td>\n",
       "      <td>no<\/td>\n",
       "      <td>5.0<\/td>\n",
       "      <td>2.50<\/td>\n",
       "      <td>0.707107<\/td>\n",
       "    <\/tr>\n",
       "  <\/tbody>\n",
       "<\/table>\n",
       "<\/div>"
      ]
     },
     "metadata":{
      
     },
     "output_type":"display_data"
    },
    {
     "data":{
      "text\/plain":[
       "  animal priority   age          visits\n",
       "                    sum  mean       std\n",
       "0    cat       no   2.0  2.00       NaN\n",
       "1    cat      yes   5.5  2.75  1.154701\n",
       "2    dog       no  15.0  5.00  0.577350\n",
       "3    dog      yes   0.0   NaN       NaN\n",
       "4  snake       no   5.0  2.50  0.707107"
      ]
     },
     "metadata":{
      
     },
     "output_type":"display_data"
    }
   ],
   "metadata":{
    "datalore":{
     "node_id":"HCyFiA7kKbqtvioUAuMeVU",
     "type":"CODE",
     "hide_input_from_viewers":false,
     "hide_output_from_viewers":false,
     "report_properties":{
      "rowId":"fF1o2jAtMkRgpwCK5DjjST"
     }
    }
   }
  },
  {
   "cell_type":"markdown",
   "source":[
    "Переменная df содержит DataFrame.\n",
    "\n",
    "new_index - индекс для строки, которую надо добавить new_data - значения для строки, которую надо добавить del_index - индекс строки, которую надо удалить Добавьте новую строку (с индексом new_index и значениями new_data) и удалите одну из старых (del_index)\n",
    "\n",
    "Выведите df на печать."
   ],
   "attachments":{
    
   },
   "metadata":{
    "datalore":{
     "node_id":"61vCNDumvJaNIUDuPrQGz5",
     "type":"MD",
     "hide_input_from_viewers":true,
     "hide_output_from_viewers":true
    }
   }
  },
  {
   "cell_type":"code",
   "source":[
    "df = pd.DataFrame({'animal': ['cat', 'cat', 'snake', 'dog', 'dog', 'cat', 'snake', 'cat', 'dog', 'dog'],\n",
    "                   'age': [2.5, 3, 0.5, np.nan, 5, 2, 4.5, np.nan, 7, 3],\n",
    "                   'name': ['Murzik', 'Pushok', 'Kaa', 'Bobik', 'Strelka', 'Vaska', 'Kaa2', 'Murka', 'Graf', 'Muhtar'],\n",
    "                   'visits': [1, 3, 2, 3, 2, 3, 1, 1, 2, 1],\n",
    "                   'priority': ['yes', 'yes', 'no', 'yes', 'no', 'no', 'no', 'yes', 'no', 'no']}, \n",
    "                    index = ['a', 'b', 'c', 'd', 'e', 'f', 'g', 'h', 'i', 'j'])\n",
    "new_index = \"k\"\n",
    "new_data = [5.5, \"dog\", \"Belka\", \"no\", 2]\n",
    "del_index = \"f\""
   ],
   "execution_count":110,
   "outputs":[
    
   ],
   "metadata":{
    "datalore":{
     "node_id":"UzzB5YvTP5ZkiQ2wHX6Hwi",
     "type":"CODE",
     "hide_input_from_viewers":false,
     "hide_output_from_viewers":false,
     "report_properties":{
      "rowId":"kPlQeNl118J3abnnyaMaUt"
     }
    }
   }
  },
  {
   "cell_type":"code",
   "source":[
    "# Add new row\n",
    "df.loc['k'] = new_data\n",
    "\n",
    "# Remove old row\n",
    "df = df.drop(del_index)\n",
    "df"
   ],
   "execution_count":111,
   "outputs":[
    {
     "data":{
      "text\/html":[
       "<div>\n",
       "<style scoped>\n",
       "    .dataframe tbody tr th:only-of-type {\n",
       "        vertical-align: middle;\n",
       "    }\n",
       "\n",
       "    .dataframe tbody tr th {\n",
       "        vertical-align: top;\n",
       "    }\n",
       "\n",
       "    .dataframe thead th {\n",
       "        text-align: right;\n",
       "    }\n",
       "<\/style>\n",
       "<table border=\"1\" class=\"dataframe\">\n",
       "  <thead>\n",
       "    <tr style=\"text-align: right;\">\n",
       "      <th><\/th>\n",
       "      <th>animal<\/th>\n",
       "      <th>age<\/th>\n",
       "      <th>name<\/th>\n",
       "      <th>visits<\/th>\n",
       "      <th>priority<\/th>\n",
       "    <\/tr>\n",
       "  <\/thead>\n",
       "  <tbody>\n",
       "    <tr>\n",
       "      <th>a<\/th>\n",
       "      <td>cat<\/td>\n",
       "      <td>2.5<\/td>\n",
       "      <td>Murzik<\/td>\n",
       "      <td>1<\/td>\n",
       "      <td>yes<\/td>\n",
       "    <\/tr>\n",
       "    <tr>\n",
       "      <th>b<\/th>\n",
       "      <td>cat<\/td>\n",
       "      <td>3.0<\/td>\n",
       "      <td>Pushok<\/td>\n",
       "      <td>3<\/td>\n",
       "      <td>yes<\/td>\n",
       "    <\/tr>\n",
       "    <tr>\n",
       "      <th>c<\/th>\n",
       "      <td>snake<\/td>\n",
       "      <td>0.5<\/td>\n",
       "      <td>Kaa<\/td>\n",
       "      <td>2<\/td>\n",
       "      <td>no<\/td>\n",
       "    <\/tr>\n",
       "    <tr>\n",
       "      <th>d<\/th>\n",
       "      <td>dog<\/td>\n",
       "      <td>NaN<\/td>\n",
       "      <td>Bobik<\/td>\n",
       "      <td>3<\/td>\n",
       "      <td>yes<\/td>\n",
       "    <\/tr>\n",
       "    <tr>\n",
       "      <th>e<\/th>\n",
       "      <td>dog<\/td>\n",
       "      <td>5.0<\/td>\n",
       "      <td>Strelka<\/td>\n",
       "      <td>2<\/td>\n",
       "      <td>no<\/td>\n",
       "    <\/tr>\n",
       "    <tr>\n",
       "      <th>g<\/th>\n",
       "      <td>snake<\/td>\n",
       "      <td>4.5<\/td>\n",
       "      <td>Kaa2<\/td>\n",
       "      <td>1<\/td>\n",
       "      <td>no<\/td>\n",
       "    <\/tr>\n",
       "    <tr>\n",
       "      <th>h<\/th>\n",
       "      <td>cat<\/td>\n",
       "      <td>NaN<\/td>\n",
       "      <td>Murka<\/td>\n",
       "      <td>1<\/td>\n",
       "      <td>yes<\/td>\n",
       "    <\/tr>\n",
       "    <tr>\n",
       "      <th>i<\/th>\n",
       "      <td>dog<\/td>\n",
       "      <td>7.0<\/td>\n",
       "      <td>Graf<\/td>\n",
       "      <td>2<\/td>\n",
       "      <td>no<\/td>\n",
       "    <\/tr>\n",
       "    <tr>\n",
       "      <th>j<\/th>\n",
       "      <td>dog<\/td>\n",
       "      <td>3.0<\/td>\n",
       "      <td>Muhtar<\/td>\n",
       "      <td>1<\/td>\n",
       "      <td>no<\/td>\n",
       "    <\/tr>\n",
       "    <tr>\n",
       "      <th>k<\/th>\n",
       "      <td>5.5<\/td>\n",
       "      <td>dog<\/td>\n",
       "      <td>Belka<\/td>\n",
       "      <td>no<\/td>\n",
       "      <td>2<\/td>\n",
       "    <\/tr>\n",
       "  <\/tbody>\n",
       "<\/table>\n",
       "<\/div>"
      ]
     },
     "metadata":{
      
     },
     "output_type":"display_data"
    }
   ],
   "metadata":{
    "datalore":{
     "node_id":"jv63L178jKTrfIADGIB0gV",
     "type":"CODE",
     "hide_input_from_viewers":true,
     "hide_output_from_viewers":true
    }
   }
  },
  {
   "cell_type":"markdown",
   "source":[
    "Переменная df содержит DataFrame.\n",
    "\n",
    "Переменная sort_by содержит список из 2 строк - имён столбцов по которым необходимо провести сортировку.\n",
    "\n",
    "Отсортируйте сперва по уменьшению 1 поля из списка sort_by, а при равенстве значений по увеличению 2.\n",
    "\n",
    "Выведите df на печать."
   ],
   "attachments":{
    
   },
   "metadata":{
    "datalore":{
     "node_id":"NbqELvCvVdLmESCAGAqDvB",
     "type":"MD",
     "hide_input_from_viewers":false,
     "hide_output_from_viewers":false,
     "report_properties":{
      "rowId":"5nlzQFTSoC9FJ2zK44qKF3"
     }
    }
   }
  },
  {
   "cell_type":"code",
   "source":[
    "df = pd.DataFrame({'animal': ['cat', 'cat', 'snake', 'dog', 'dog', 'cat', 'snake', 'cat', 'dog', 'dog'],\n",
    "                   'age': [2.5, 3, 0.5, np.nan, 5, 2, 4.5, np.nan, 7, 3],\n",
    "                   'name': ['Murzik', 'Pushok', 'Kaa', 'Bobik', 'Strelka', 'Vaska', 'Kaa2', 'Murka', 'Graf', 'Muhtar'],\n",
    "                   'visits': [1, 3, 2, 3, 2, 3, 1, 1, 2, 1],\n",
    "                   'priority': ['yes', 'yes', 'no', 'yes', 'no', 'no', 'no', 'yes', 'no', 'no']},\n",
    "                  index = ['a', 'b', 'c', 'd', 'e', 'f', 'g', 'h', 'i', 'j'])\n",
    "sort_by = [\"age\", \"visits\"]"
   ],
   "execution_count":114,
   "outputs":[
    
   ],
   "metadata":{
    "datalore":{
     "node_id":"WiUhZ84kREI4D00FeB8Yt0",
     "type":"CODE",
     "hide_input_from_viewers":false,
     "hide_output_from_viewers":false,
     "report_properties":{
      "rowId":"I8p9Cpy8pHIRrDaU7uC8wT"
     }
    }
   }
  },
  {
   "cell_type":"code",
   "source":[
    "df = df.sort_values(by=sort_by, ascending=[False, True])\n",
    "df"
   ],
   "execution_count":115,
   "outputs":[
    {
     "data":{
      "text\/html":[
       "<div>\n",
       "<style scoped>\n",
       "    .dataframe tbody tr th:only-of-type {\n",
       "        vertical-align: middle;\n",
       "    }\n",
       "\n",
       "    .dataframe tbody tr th {\n",
       "        vertical-align: top;\n",
       "    }\n",
       "\n",
       "    .dataframe thead th {\n",
       "        text-align: right;\n",
       "    }\n",
       "<\/style>\n",
       "<table border=\"1\" class=\"dataframe\">\n",
       "  <thead>\n",
       "    <tr style=\"text-align: right;\">\n",
       "      <th><\/th>\n",
       "      <th>animal<\/th>\n",
       "      <th>age<\/th>\n",
       "      <th>name<\/th>\n",
       "      <th>visits<\/th>\n",
       "      <th>priority<\/th>\n",
       "    <\/tr>\n",
       "  <\/thead>\n",
       "  <tbody>\n",
       "    <tr>\n",
       "      <th>i<\/th>\n",
       "      <td>dog<\/td>\n",
       "      <td>7.0<\/td>\n",
       "      <td>Graf<\/td>\n",
       "      <td>2<\/td>\n",
       "      <td>no<\/td>\n",
       "    <\/tr>\n",
       "    <tr>\n",
       "      <th>e<\/th>\n",
       "      <td>dog<\/td>\n",
       "      <td>5.0<\/td>\n",
       "      <td>Strelka<\/td>\n",
       "      <td>2<\/td>\n",
       "      <td>no<\/td>\n",
       "    <\/tr>\n",
       "    <tr>\n",
       "      <th>g<\/th>\n",
       "      <td>snake<\/td>\n",
       "      <td>4.5<\/td>\n",
       "      <td>Kaa2<\/td>\n",
       "      <td>1<\/td>\n",
       "      <td>no<\/td>\n",
       "    <\/tr>\n",
       "    <tr>\n",
       "      <th>j<\/th>\n",
       "      <td>dog<\/td>\n",
       "      <td>3.0<\/td>\n",
       "      <td>Muhtar<\/td>\n",
       "      <td>1<\/td>\n",
       "      <td>no<\/td>\n",
       "    <\/tr>\n",
       "    <tr>\n",
       "      <th>b<\/th>\n",
       "      <td>cat<\/td>\n",
       "      <td>3.0<\/td>\n",
       "      <td>Pushok<\/td>\n",
       "      <td>3<\/td>\n",
       "      <td>yes<\/td>\n",
       "    <\/tr>\n",
       "    <tr>\n",
       "      <th>a<\/th>\n",
       "      <td>cat<\/td>\n",
       "      <td>2.5<\/td>\n",
       "      <td>Murzik<\/td>\n",
       "      <td>1<\/td>\n",
       "      <td>yes<\/td>\n",
       "    <\/tr>\n",
       "    <tr>\n",
       "      <th>f<\/th>\n",
       "      <td>cat<\/td>\n",
       "      <td>2.0<\/td>\n",
       "      <td>Vaska<\/td>\n",
       "      <td>3<\/td>\n",
       "      <td>no<\/td>\n",
       "    <\/tr>\n",
       "    <tr>\n",
       "      <th>c<\/th>\n",
       "      <td>snake<\/td>\n",
       "      <td>0.5<\/td>\n",
       "      <td>Kaa<\/td>\n",
       "      <td>2<\/td>\n",
       "      <td>no<\/td>\n",
       "    <\/tr>\n",
       "    <tr>\n",
       "      <th>h<\/th>\n",
       "      <td>cat<\/td>\n",
       "      <td>NaN<\/td>\n",
       "      <td>Murka<\/td>\n",
       "      <td>1<\/td>\n",
       "      <td>yes<\/td>\n",
       "    <\/tr>\n",
       "    <tr>\n",
       "      <th>d<\/th>\n",
       "      <td>dog<\/td>\n",
       "      <td>NaN<\/td>\n",
       "      <td>Bobik<\/td>\n",
       "      <td>3<\/td>\n",
       "      <td>yes<\/td>\n",
       "    <\/tr>\n",
       "  <\/tbody>\n",
       "<\/table>\n",
       "<\/div>"
      ]
     },
     "metadata":{
      
     },
     "output_type":"display_data"
    }
   ],
   "metadata":{
    "datalore":{
     "node_id":"N8OCvRnNozjxncufL0XWO8",
     "type":"CODE",
     "hide_input_from_viewers":true,
     "hide_output_from_viewers":true
    }
   }
  },
  {
   "cell_type":"markdown",
   "source":[
    "Переменная df содержит DataFrame.\n",
    "\n",
    "Переменная column содержит имя колонки, содержащей строковые значения \"yes\", \"no\", либо числовые 1 или 0.\n",
    "\n",
    "Замените в column:\n",
    "\n",
    "\"yes\" и 1 на True\n",
    "\"no\" и 0 на False\n",
    "Выведите df на печать"
   ],
   "attachments":{
    
   },
   "metadata":{
    "datalore":{
     "node_id":"bRK9v0aaOLW5tvw3a7em3y",
     "type":"MD",
     "hide_input_from_viewers":false,
     "hide_output_from_viewers":false,
     "report_properties":{
      "rowId":"MldvDoXMEPWVcGL6zuxRBH"
     }
    }
   }
  },
  {
   "cell_type":"code",
   "source":[
    "df"
   ],
   "execution_count":116,
   "outputs":[
    {
     "data":{
      "text\/html":[
       "<div>\n",
       "<style scoped>\n",
       "    .dataframe tbody tr th:only-of-type {\n",
       "        vertical-align: middle;\n",
       "    }\n",
       "\n",
       "    .dataframe tbody tr th {\n",
       "        vertical-align: top;\n",
       "    }\n",
       "\n",
       "    .dataframe thead th {\n",
       "        text-align: right;\n",
       "    }\n",
       "<\/style>\n",
       "<table border=\"1\" class=\"dataframe\">\n",
       "  <thead>\n",
       "    <tr style=\"text-align: right;\">\n",
       "      <th><\/th>\n",
       "      <th>animal<\/th>\n",
       "      <th>age<\/th>\n",
       "      <th>name<\/th>\n",
       "      <th>visits<\/th>\n",
       "      <th>priority<\/th>\n",
       "    <\/tr>\n",
       "  <\/thead>\n",
       "  <tbody>\n",
       "    <tr>\n",
       "      <th>i<\/th>\n",
       "      <td>dog<\/td>\n",
       "      <td>7.0<\/td>\n",
       "      <td>Graf<\/td>\n",
       "      <td>2<\/td>\n",
       "      <td>no<\/td>\n",
       "    <\/tr>\n",
       "    <tr>\n",
       "      <th>e<\/th>\n",
       "      <td>dog<\/td>\n",
       "      <td>5.0<\/td>\n",
       "      <td>Strelka<\/td>\n",
       "      <td>2<\/td>\n",
       "      <td>no<\/td>\n",
       "    <\/tr>\n",
       "    <tr>\n",
       "      <th>g<\/th>\n",
       "      <td>snake<\/td>\n",
       "      <td>4.5<\/td>\n",
       "      <td>Kaa2<\/td>\n",
       "      <td>1<\/td>\n",
       "      <td>no<\/td>\n",
       "    <\/tr>\n",
       "    <tr>\n",
       "      <th>j<\/th>\n",
       "      <td>dog<\/td>\n",
       "      <td>3.0<\/td>\n",
       "      <td>Muhtar<\/td>\n",
       "      <td>1<\/td>\n",
       "      <td>no<\/td>\n",
       "    <\/tr>\n",
       "    <tr>\n",
       "      <th>b<\/th>\n",
       "      <td>cat<\/td>\n",
       "      <td>3.0<\/td>\n",
       "      <td>Pushok<\/td>\n",
       "      <td>3<\/td>\n",
       "      <td>yes<\/td>\n",
       "    <\/tr>\n",
       "    <tr>\n",
       "      <th>a<\/th>\n",
       "      <td>cat<\/td>\n",
       "      <td>2.5<\/td>\n",
       "      <td>Murzik<\/td>\n",
       "      <td>1<\/td>\n",
       "      <td>yes<\/td>\n",
       "    <\/tr>\n",
       "    <tr>\n",
       "      <th>f<\/th>\n",
       "      <td>cat<\/td>\n",
       "      <td>2.0<\/td>\n",
       "      <td>Vaska<\/td>\n",
       "      <td>3<\/td>\n",
       "      <td>no<\/td>\n",
       "    <\/tr>\n",
       "    <tr>\n",
       "      <th>c<\/th>\n",
       "      <td>snake<\/td>\n",
       "      <td>0.5<\/td>\n",
       "      <td>Kaa<\/td>\n",
       "      <td>2<\/td>\n",
       "      <td>no<\/td>\n",
       "    <\/tr>\n",
       "    <tr>\n",
       "      <th>h<\/th>\n",
       "      <td>cat<\/td>\n",
       "      <td>NaN<\/td>\n",
       "      <td>Murka<\/td>\n",
       "      <td>1<\/td>\n",
       "      <td>yes<\/td>\n",
       "    <\/tr>\n",
       "    <tr>\n",
       "      <th>d<\/th>\n",
       "      <td>dog<\/td>\n",
       "      <td>NaN<\/td>\n",
       "      <td>Bobik<\/td>\n",
       "      <td>3<\/td>\n",
       "      <td>yes<\/td>\n",
       "    <\/tr>\n",
       "  <\/tbody>\n",
       "<\/table>\n",
       "<\/div>"
      ]
     },
     "metadata":{
      
     },
     "output_type":"display_data"
    }
   ],
   "metadata":{
    "datalore":{
     "node_id":"wLF0sVDwx1zJ578ephCJq4",
     "type":"CODE",
     "hide_input_from_viewers":false,
     "hide_output_from_viewers":false,
     "report_properties":{
      "rowId":"LEtatZ4mxzgQe3Qb069tNN"
     }
    }
   }
  },
  {
   "cell_type":"code",
   "source":[
    "df['priority'] = df['priority'].map(lambda v: 1 if v == 'yes' else 0)\n",
    "df"
   ],
   "execution_count":117,
   "outputs":[
    {
     "data":{
      "text\/html":[
       "<div>\n",
       "<style scoped>\n",
       "    .dataframe tbody tr th:only-of-type {\n",
       "        vertical-align: middle;\n",
       "    }\n",
       "\n",
       "    .dataframe tbody tr th {\n",
       "        vertical-align: top;\n",
       "    }\n",
       "\n",
       "    .dataframe thead th {\n",
       "        text-align: right;\n",
       "    }\n",
       "<\/style>\n",
       "<table border=\"1\" class=\"dataframe\">\n",
       "  <thead>\n",
       "    <tr style=\"text-align: right;\">\n",
       "      <th><\/th>\n",
       "      <th>animal<\/th>\n",
       "      <th>age<\/th>\n",
       "      <th>name<\/th>\n",
       "      <th>visits<\/th>\n",
       "      <th>priority<\/th>\n",
       "    <\/tr>\n",
       "  <\/thead>\n",
       "  <tbody>\n",
       "    <tr>\n",
       "      <th>i<\/th>\n",
       "      <td>dog<\/td>\n",
       "      <td>7.0<\/td>\n",
       "      <td>Graf<\/td>\n",
       "      <td>2<\/td>\n",
       "      <td>0<\/td>\n",
       "    <\/tr>\n",
       "    <tr>\n",
       "      <th>e<\/th>\n",
       "      <td>dog<\/td>\n",
       "      <td>5.0<\/td>\n",
       "      <td>Strelka<\/td>\n",
       "      <td>2<\/td>\n",
       "      <td>0<\/td>\n",
       "    <\/tr>\n",
       "    <tr>\n",
       "      <th>g<\/th>\n",
       "      <td>snake<\/td>\n",
       "      <td>4.5<\/td>\n",
       "      <td>Kaa2<\/td>\n",
       "      <td>1<\/td>\n",
       "      <td>0<\/td>\n",
       "    <\/tr>\n",
       "    <tr>\n",
       "      <th>j<\/th>\n",
       "      <td>dog<\/td>\n",
       "      <td>3.0<\/td>\n",
       "      <td>Muhtar<\/td>\n",
       "      <td>1<\/td>\n",
       "      <td>0<\/td>\n",
       "    <\/tr>\n",
       "    <tr>\n",
       "      <th>b<\/th>\n",
       "      <td>cat<\/td>\n",
       "      <td>3.0<\/td>\n",
       "      <td>Pushok<\/td>\n",
       "      <td>3<\/td>\n",
       "      <td>1<\/td>\n",
       "    <\/tr>\n",
       "    <tr>\n",
       "      <th>a<\/th>\n",
       "      <td>cat<\/td>\n",
       "      <td>2.5<\/td>\n",
       "      <td>Murzik<\/td>\n",
       "      <td>1<\/td>\n",
       "      <td>1<\/td>\n",
       "    <\/tr>\n",
       "    <tr>\n",
       "      <th>f<\/th>\n",
       "      <td>cat<\/td>\n",
       "      <td>2.0<\/td>\n",
       "      <td>Vaska<\/td>\n",
       "      <td>3<\/td>\n",
       "      <td>0<\/td>\n",
       "    <\/tr>\n",
       "    <tr>\n",
       "      <th>c<\/th>\n",
       "      <td>snake<\/td>\n",
       "      <td>0.5<\/td>\n",
       "      <td>Kaa<\/td>\n",
       "      <td>2<\/td>\n",
       "      <td>0<\/td>\n",
       "    <\/tr>\n",
       "    <tr>\n",
       "      <th>h<\/th>\n",
       "      <td>cat<\/td>\n",
       "      <td>NaN<\/td>\n",
       "      <td>Murka<\/td>\n",
       "      <td>1<\/td>\n",
       "      <td>1<\/td>\n",
       "    <\/tr>\n",
       "    <tr>\n",
       "      <th>d<\/th>\n",
       "      <td>dog<\/td>\n",
       "      <td>NaN<\/td>\n",
       "      <td>Bobik<\/td>\n",
       "      <td>3<\/td>\n",
       "      <td>1<\/td>\n",
       "    <\/tr>\n",
       "  <\/tbody>\n",
       "<\/table>\n",
       "<\/div>"
      ]
     },
     "metadata":{
      
     },
     "output_type":"display_data"
    }
   ],
   "metadata":{
    "datalore":{
     "node_id":"V0TSmPCPr1UPni1wGhD7K4",
     "type":"CODE",
     "hide_input_from_viewers":false,
     "hide_output_from_viewers":false,
     "report_properties":{
      "rowId":"zFFgM6jBi4OGVRyJuKmG3f"
     }
    }
   }
  },
  {
   "cell_type":"markdown",
   "source":[
    "Переменная df содержит DataFrame.\n",
    "\n",
    "Переменная column содержит имя колонки, значения в которой надо модифицировать.\n",
    "\n",
    "Переменные old_value и new_value содержат старое и новое значения, соответственно.\n",
    "\n",
    "Замените все старые значения на новые в соответсвующей колонке.\n",
    "\n",
    "Выведите df на печать"
   ],
   "attachments":{
    
   },
   "metadata":{
    "datalore":{
     "node_id":"FLb4ujtKk0hpwMIETZOo40",
     "type":"MD",
     "hide_input_from_viewers":false,
     "hide_output_from_viewers":false,
     "report_properties":{
      "rowId":"rVJs1MHWsF8MM5DmNGJdTW"
     }
    }
   }
  },
  {
   "cell_type":"code",
   "source":[
    "df = pd.DataFrame({'animal': ['cat', 'cat', 'snake', 'dog', 'dog', 'cat', 'snake', 'cat', 'dog', 'dog'],\n",
    "                   'age': [2.5, 3, 0.5, np.nan, 5, 2, 4.5, np.nan, 7, 3],\n",
    "                   'name': ['Murzik', 'Pushok', 'Kaa', 'Bobik', 'Strelka', 'Vaska', 'Kaa2', 'Murka', 'Graf', 'Muhtar'],\n",
    "                   'visits': [1, 3, 2, 3, 2, 3, 1, 1, 2, 1],\n",
    "                   'priority': ['yes', 'yes', 'no', 'yes', 'no', 'no', 'no', 'yes', 'no', 'no']}, \n",
    "                  index = ['a', 'b', 'c', 'd', 'e', 'f', 'g', 'h', 'i', 'j'])\n",
    "column = 'animal'\n",
    "old_value = 'snake'\n",
    "new_value = 'python'"
   ],
   "execution_count":119,
   "outputs":[
    
   ],
   "metadata":{
    "datalore":{
     "node_id":"EL6GdPPw56nHLzwTtNCXT2",
     "type":"CODE",
     "hide_input_from_viewers":false,
     "hide_output_from_viewers":false,
     "report_properties":{
      "rowId":"HKXCT9sXu0aIr5IG03oOqz"
     }
    }
   }
  },
  {
   "cell_type":"code",
   "source":[
    "df['animal'] = df['animal'].replace(old_value, new_value)\n",
    "df"
   ],
   "execution_count":123,
   "outputs":[
    {
     "data":{
      "text\/html":[
       "<div>\n",
       "<style scoped>\n",
       "    .dataframe tbody tr th:only-of-type {\n",
       "        vertical-align: middle;\n",
       "    }\n",
       "\n",
       "    .dataframe tbody tr th {\n",
       "        vertical-align: top;\n",
       "    }\n",
       "\n",
       "    .dataframe thead th {\n",
       "        text-align: right;\n",
       "    }\n",
       "<\/style>\n",
       "<table border=\"1\" class=\"dataframe\">\n",
       "  <thead>\n",
       "    <tr style=\"text-align: right;\">\n",
       "      <th><\/th>\n",
       "      <th>animal<\/th>\n",
       "      <th>age<\/th>\n",
       "      <th>name<\/th>\n",
       "      <th>visits<\/th>\n",
       "      <th>priority<\/th>\n",
       "    <\/tr>\n",
       "  <\/thead>\n",
       "  <tbody>\n",
       "    <tr>\n",
       "      <th>a<\/th>\n",
       "      <td>cat<\/td>\n",
       "      <td>2.5<\/td>\n",
       "      <td>Murzik<\/td>\n",
       "      <td>1<\/td>\n",
       "      <td>yes<\/td>\n",
       "    <\/tr>\n",
       "    <tr>\n",
       "      <th>b<\/th>\n",
       "      <td>cat<\/td>\n",
       "      <td>3.0<\/td>\n",
       "      <td>Pushok<\/td>\n",
       "      <td>3<\/td>\n",
       "      <td>yes<\/td>\n",
       "    <\/tr>\n",
       "    <tr>\n",
       "      <th>c<\/th>\n",
       "      <td>python<\/td>\n",
       "      <td>0.5<\/td>\n",
       "      <td>Kaa<\/td>\n",
       "      <td>2<\/td>\n",
       "      <td>no<\/td>\n",
       "    <\/tr>\n",
       "    <tr>\n",
       "      <th>d<\/th>\n",
       "      <td>dog<\/td>\n",
       "      <td>NaN<\/td>\n",
       "      <td>Bobik<\/td>\n",
       "      <td>3<\/td>\n",
       "      <td>yes<\/td>\n",
       "    <\/tr>\n",
       "    <tr>\n",
       "      <th>e<\/th>\n",
       "      <td>dog<\/td>\n",
       "      <td>5.0<\/td>\n",
       "      <td>Strelka<\/td>\n",
       "      <td>2<\/td>\n",
       "      <td>no<\/td>\n",
       "    <\/tr>\n",
       "    <tr>\n",
       "      <th>f<\/th>\n",
       "      <td>cat<\/td>\n",
       "      <td>2.0<\/td>\n",
       "      <td>Vaska<\/td>\n",
       "      <td>3<\/td>\n",
       "      <td>no<\/td>\n",
       "    <\/tr>\n",
       "    <tr>\n",
       "      <th>g<\/th>\n",
       "      <td>python<\/td>\n",
       "      <td>4.5<\/td>\n",
       "      <td>Kaa2<\/td>\n",
       "      <td>1<\/td>\n",
       "      <td>no<\/td>\n",
       "    <\/tr>\n",
       "    <tr>\n",
       "      <th>h<\/th>\n",
       "      <td>cat<\/td>\n",
       "      <td>NaN<\/td>\n",
       "      <td>Murka<\/td>\n",
       "      <td>1<\/td>\n",
       "      <td>yes<\/td>\n",
       "    <\/tr>\n",
       "    <tr>\n",
       "      <th>i<\/th>\n",
       "      <td>dog<\/td>\n",
       "      <td>7.0<\/td>\n",
       "      <td>Graf<\/td>\n",
       "      <td>2<\/td>\n",
       "      <td>no<\/td>\n",
       "    <\/tr>\n",
       "    <tr>\n",
       "      <th>j<\/th>\n",
       "      <td>dog<\/td>\n",
       "      <td>3.0<\/td>\n",
       "      <td>Muhtar<\/td>\n",
       "      <td>1<\/td>\n",
       "      <td>no<\/td>\n",
       "    <\/tr>\n",
       "  <\/tbody>\n",
       "<\/table>\n",
       "<\/div>"
      ]
     },
     "metadata":{
      
     },
     "output_type":"display_data"
    }
   ],
   "metadata":{
    "datalore":{
     "node_id":"GcVdU5rE34feeJXIx8gaaK",
     "type":"CODE",
     "hide_input_from_viewers":false,
     "hide_output_from_viewers":false,
     "report_properties":{
      "rowId":"WaNCcOh8b7X8FX3yudeb7x"
     }
    }
   }
  }
 ],
 "metadata":{
  "kernelspec":{
   "display_name":"Python",
   "language":"python",
   "name":"python"
  },
  "datalore":{
   "computation_mode":"JUPYTER",
   "package_manager":"pip",
   "base_environment":"default",
   "packages":[
    
   ],
   "report_row_ids":[
    "g90zkAfYDknId5ReQZRjma",
    "U8pr4GkWtIlHJzn9bsGCBp",
    "Iu7TvtZPYnx0BrSIqXeElp",
    "ZyY3KY6AM7Eq2rOch8NRsP",
    "rXPvgwOAP5nwtDyf0FvqFU",
    "0665nghD0b78fqG6ujfh5W",
    "VBD0fGjsPOzp3NobuzBS46",
    "aMKVgRjmrrAOm6ohyekZuj",
    "iXev0DaAooGqFhe7bbNVZy",
    "j4SLLDNjazyxNXtOkHb0TR",
    "RDZcm7VQDTpvbCGzg1WY3o",
    "M5T4jisFVEzvmnOeuQkfd9",
    "pBElv3maAnZt2QDTTSqmxq",
    "lKkW0jMelL7lsVzRVKL3NF",
    "QcARosRxXSCDdY1dVJjYIM",
    "bMP1vGtwJqLzlKqLf8W9KQ",
    "ZYZXpd5X80jStoNgf8X2xF",
    "ZzCik15i4D8rrZarUGmZtG",
    "ciqR5Ou0vffWcY4GusKChE",
    "slDnLiWJ8C8FqSpGJd4zNM",
    "oUjC1QyhJ5v3ZzcWsKYqnK",
    "eWbnjOoZhzvbYkfURsBhpa",
    "ewr9m31H4cMVBbUdDj0AZr",
    "plLWUTf9hq5d99XMvxdUak",
    "nsZCKMbRrZiNI5gIECB3X1",
    "ffLnghVU9wdrQRK7IY9OgY",
    "3cO5axk4T6lKgPOHdA2c3r",
    "If25i3IoiL5rNy4J2PDZWl",
    "ghWEhQCNMxCUQlcKO6bTGk",
    "dRMZCmlwX8HKCgQn7uYHUH",
    "RSFmq5hzl0WVpzWzVkdXTR",
    "4rBeYkycsfVGOO6dsDl2ml",
    "djcLIjYXFJ6B3scS1H00Qj",
    "KUrocO13xTfo9Wp4FdfnuR",
    "8tKy73RQRGFvTDx3XHgu9T",
    "CPa5k1DlhOVGeFZA1rO6gP",
    "CdW9fkOKeosyoABnzpuWIJ",
    "dq2UTDfLlZkSdGIDrSx8S3",
    "pj6Ea7s4dCLAGryRy56U2a",
    "14YFQCL9FQL3hnmjE2D7IB",
    "Wc5Uj2M4ps7rsY3nhjx3D9",
    "VKVT0gQu2iRRD7h1rWyJch",
    "LStwAXDFp1JROSc35ydNVb",
    "p7ovUTsP7lYVqanYXXCEZJ",
    "21vTLOcfBZN9qQVBLkrB2E",
    "69EZoBtyGKkwIPs7ZxlXpU",
    "KKwwOHBPK6H4rTgp1BD8FS",
    "zTVKUiKAqROQDHi7cS3qVH",
    "H63MjU7lSUqrd69LnRZPyZ",
    "HouEujr3QfMidfWxYL3FBt",
    "cgpwcC0PGPLMpH1dwii0Dq",
    "NoIRcpeYfrXdMG20zw7nBr",
    "A6UhaYnjJa5WY2RlrbUxdv",
    "bMSPjkpldMevyw6OYNmJZD",
    "7NPHtChmdrd65aGrkQaLqA",
    "gOAq97g7dRN6IDP817G6Hk",
    "QhEwzfwQ4gB2OVUub5zRGM",
    "R4eNoGeufADOvpdNEbYILy",
    "nZC55OrwaODtXQOnUJLHlX",
    "M3eGBzQRg10jfy9OdvuS1g",
    "fQQUzrgvxFNxhjvv3ooJxd",
    "bj1oQap0e4VcNJ3rE0649B",
    "wsCBn26nB3SNS6xUJxQpHB",
    "587bkrPxBViFuao4lAsnYg",
    "HdhphALIMd5vDOylYsfdcG",
    "YrNaVDO4Pm7dnb1UmTyvg3",
    "HUEKJyxnCDOz8Vg0DrYrYu",
    "Ik7UgjWutzLupDtnfstMHG",
    "enB3sfnMfmzKlGIcFG3HN1",
    "cEi4LAbugbSXSyuHxg5XbC",
    "mSKvBrdnOPfCVp1yAFnej3",
    "gCNC1mewSK94ErTV2s8vvI",
    "GxgQAiv6m07slvxsXJ0kxG",
    "myhrrenCO7ROqnY71opGMx",
    "9JrACe7ENwwTQopLYvEx4D",
    "dGOZAISQGK6tinF4xu4DN9",
    "Is8xf7Aeo9DtDfFhRmHBHt",
    "gkJaTaoSQMzNbwEzpO8258",
    "GNlnnyUIFU0iyZg5cb3daS",
    "klqoaBTEbm31Jiayk5p9zb",
    "hTjUaSmBbMDE0q4bKhMMpY",
    "gqogau9hIKbLlKE8gXfo2j",
    "whZUXCrtKlLralv0aQHqgn",
    "RCyiwoxjR6NrggL3HCxWEz",
    "mkh0x6qJTUTB2n12RxLLer",
    "6BGSLQSIoB7aBNiMzXAO2p",
    "t0foWVJ9esF8U3IV7z6L8X",
    "1Ffhzr4BieXwbUhIL8e2Qh",
    "g1FbunjGtGH2sfvxBb92Hl",
    "E4S6NTDCU57NpleweTEhs0",
    "ombRqB7D3jBB29ej34aX75",
    "UDULXF5DyLVu0wDzTC8KdN",
    "5XZF0RoqUpb3YRk76Jc9Nh",
    "8xhARMpY2wwg97mUvIs8DU",
    "BEdLLJSeLBLZaOJrkpJiVs",
    "BhnoOzGFonEGaJt6tPMYzP",
    "hK9nvNTlGFb7mnqHg0MAq8",
    "qdtWU3CTjGnAlsTXsLVjgn",
    "9qh51c3wkF78Wy4oCoNmlh",
    "4NdgrRsX7msqMrE5QZglaz",
    "fxgVIesUyvfVNpUiVAllfi",
    "Bd3U5OLu2W6JON2tqr88rC",
    "CwTsaiD1AZj35Rpqsia93x",
    "jLyGOtpLRYzEaefQvcfJw1",
    "v4u3BL7Lblf5d5xG96LX6q",
    "SGRV7B8yodSLTH6uAmgWYF",
    "qahFwzIaqx8deaEWuPvET3",
    "HdFUyGAGnnol6dqOQMEY13",
    "CnU4pfVO5nHAr7qliFodwV",
    "k8SVSFnkKwDui6sl5dISRk",
    "zCct2yOmeVaSjys2HGrKsh",
    "fF1o2jAtMkRgpwCK5DjjST",
    "kPlQeNl118J3abnnyaMaUt",
    "Q882a5MTUeYqVjlYKX0Jwr",
    "6ekjBUVOIy1NXCz5GvybT8",
    "5nlzQFTSoC9FJ2zK44qKF3",
    "I8p9Cpy8pHIRrDaU7uC8wT",
    "MldvDoXMEPWVcGL6zuxRBH",
    "LEtatZ4mxzgQe3Qb069tNN",
    "zFFgM6jBi4OGVRyJuKmG3f",
    "A9ytXuvsvM8vmEMlBMCUDG",
    "QmhgaTgIvplpFvdc4ALopS",
    "rVJs1MHWsF8MM5DmNGJdTW",
    "HKXCT9sXu0aIr5IG03oOqz",
    "WaNCcOh8b7X8FX3yudeb7x"
   ],
   "version":2
  }
 },
 "nbformat":4,
 "nbformat_minor":4
}