{
 "cells": [
  {
   "cell_type": "code",
   "execution_count": 1,
   "id": "efb75283",
   "metadata": {},
   "outputs": [],
   "source": [
    "import numpy as np \n",
    "\n",
    "x = np.array([0.5, 0.5])\n",
    "y = np.array([0.3, 0.7])"
   ]
  },
  {
   "cell_type": "code",
   "execution_count": 2,
   "id": "172ad1c4",
   "metadata": {},
   "outputs": [
    {
     "data": {
      "text/plain": [
       "0.5"
      ]
     },
     "execution_count": 2,
     "metadata": {},
     "output_type": "execute_result"
    }
   ],
   "source": [
    "# скалярний добуток\n",
    " \n",
    "x @ y"
   ]
  },
  {
   "cell_type": "code",
   "execution_count": 3,
   "id": "92b92604",
   "metadata": {},
   "outputs": [
    {
     "data": {
      "text/plain": [
       "0.7071067811865476"
      ]
     },
     "execution_count": 3,
     "metadata": {},
     "output_type": "execute_result"
    }
   ],
   "source": [
    "#Евклідова норма\n",
    "np.linalg.norm(x)"
   ]
  },
  {
   "cell_type": "code",
   "execution_count": 4,
   "id": "37f15a0d",
   "metadata": {},
   "outputs": [
    {
     "data": {
      "text/plain": [
       "0.7615773105863908"
      ]
     },
     "execution_count": 4,
     "metadata": {},
     "output_type": "execute_result"
    }
   ],
   "source": [
    "np.linalg.norm(y)"
   ]
  },
  {
   "cell_type": "code",
   "execution_count": 5,
   "id": "2c35e03b",
   "metadata": {},
   "outputs": [
    {
     "data": {
      "text/plain": [
       "1.0"
      ]
     },
     "execution_count": 5,
     "metadata": {},
     "output_type": "execute_result"
    }
   ],
   "source": [
    "#Мангеттенська норма\n",
    "np.sum(np.abs(x))"
   ]
  },
  {
   "cell_type": "code",
   "execution_count": 6,
   "id": "d24d7fe5",
   "metadata": {},
   "outputs": [
    {
     "data": {
      "text/plain": [
       "1.0"
      ]
     },
     "execution_count": 6,
     "metadata": {},
     "output_type": "execute_result"
    }
   ],
   "source": [
    "np.linalg.norm(y, ord=1)"
   ]
  },
  {
   "cell_type": "code",
   "execution_count": 7,
   "id": "75b2d5dd",
   "metadata": {},
   "outputs": [
    {
     "data": {
      "text/plain": [
       "1.0"
      ]
     },
     "execution_count": 7,
     "metadata": {},
     "output_type": "execute_result"
    }
   ],
   "source": [
    "np.linalg.norm(x, ord=1)"
   ]
  },
  {
   "cell_type": "code",
   "execution_count": null,
   "id": "fac155aa",
   "metadata": {},
   "outputs": [],
   "source": [
    "#Кут між векторами"
   ]
  },
  {
   "cell_type": "code",
   "execution_count": 8,
   "id": "bfb2a5cd",
   "metadata": {},
   "outputs": [],
   "source": [
    "cos_a = (x @ y) / (np.linalg.norm(x) * np.linalg.norm(y))"
   ]
  },
  {
   "cell_type": "code",
   "execution_count": 9,
   "id": "eae5715b",
   "metadata": {},
   "outputs": [
    {
     "data": {
      "text/plain": [
       "21.801409486351798"
      ]
     },
     "execution_count": 9,
     "metadata": {},
     "output_type": "execute_result"
    }
   ],
   "source": [
    "np.degrees(np.arccos(cos_a))"
   ]
  },
  {
   "cell_type": "code",
   "execution_count": 10,
   "id": "c0fb7747",
   "metadata": {},
   "outputs": [
    {
     "data": {
      "text/plain": [
       "0.282842712474619"
      ]
     },
     "execution_count": 10,
     "metadata": {},
     "output_type": "execute_result"
    }
   ],
   "source": [
    "np.linalg.norm(x-y)"
   ]
  },
  {
   "cell_type": "markdown",
   "id": "35f247ed",
   "metadata": {},
   "source": [
    "Solving Linear Equations\n",
    "Систему рівнянь називають сумісною, якщо вона має хоча б один розв’язок, і несумісною, якщо вона не має жодного розв’язку.\n",
    "\n",
    "Сумісна система називається визначеною, якщо вона має єдиний розв’язок. Сумісна система називається невизначеною, якщо вона має більше, ніж один розв’зок.\n",
    "\n",
    "Матриця має бути квадратною та мати повний ранг, тобто має існувати обернена матриця.\n",
    "\n",
    "\n"
   ]
  },
  {
   "cell_type": "code",
   "execution_count": null,
   "id": "bd90b130",
   "metadata": {},
   "outputs": [],
   "source": [
    "#equation with the given coefficients\n",
    "x1 + 2x2 = 5\n",
    "3x1 + 4x2 = 6"
   ]
  },
  {
   "cell_type": "code",
   "execution_count": 12,
   "id": "5781b167",
   "metadata": {},
   "outputs": [],
   "source": [
    "A = np.array(\n",
    "     [[1 , 2],\n",
    "     [3 , 4]]\n",
    ")\n",
    "\n",
    "b = np.array(\n",
    "    [  [5], \n",
    "        [6]]\n",
    ")\n",
    "     "
   ]
  },
  {
   "cell_type": "code",
   "execution_count": 13,
   "id": "32302196",
   "metadata": {},
   "outputs": [
    {
     "data": {
      "text/plain": [
       "2"
      ]
     },
     "execution_count": 13,
     "metadata": {},
     "output_type": "execute_result"
    }
   ],
   "source": [
    "from numpy.linalg import matrix_rank\n",
    "matrix_rank(A) "
   ]
  },
  {
   "cell_type": "code",
   "execution_count": 14,
   "id": "b89fb00b",
   "metadata": {},
   "outputs": [
    {
     "data": {
      "text/plain": [
       "array([[-4. ],\n",
       "       [ 4.5]])"
      ]
     },
     "execution_count": 14,
     "metadata": {},
     "output_type": "execute_result"
    }
   ],
   "source": [
    "x = np.linalg.solve(A, b)\n",
    "x"
   ]
  },
  {
   "cell_type": "markdown",
   "id": "8ab214a2",
   "metadata": {},
   "source": [
    "# <b>  Апроксимація функцій\n"
   ]
  },
  {
   "cell_type": "markdown",
   "id": "4ba41b4a",
   "metadata": {},
   "source": [
    "Розглянемо складну математичну функцію на відрізку\n",
    "\n",
    "f(x) = sin(x / 5) exp(x / 10) + 5 exp(-x / 2)\n",
    "\n",
    "Вона може описувати, наприклад, залежність оцінок, які виставляють певному ґатунку вина експерти, \n",
    "залежно від віку цього вина. По суті завдання машинного навчання полягає в тому, \n",
    "щоб наблизити складну залежність за допомогою функції. Як варіант, можна наблизити цю функцію за допомогою многочленів"
   ]
  },
  {
   "cell_type": "code",
   "execution_count": 15,
   "id": "a7d82774",
   "metadata": {},
   "outputs": [],
   "source": [
    "%matplotlib inline\n",
    "import math\n",
    "import scipy\n",
    "import numpy as np\n",
    "from matplotlib import pyplot as plt\n",
    "\n",
    "def f(x):\n",
    "    return math.sin(x/5.)*math.exp(x/10.) + 5*math.exp(-x/2.)\n",
    "\n",
    "#First, it defines the function f(x) using math and numpy functions, \n",
    "# and creates an array of x values using the numpy.arange function. It then maps the function\n",
    "# to every element of the x array using the map() function and stores the resulting y values in a list."
   ]
  },
  {
   "cell_type": "code",
   "execution_count": 17,
   "id": "e4366e39",
   "metadata": {},
   "outputs": [],
   "source": [
    "# we create an any atrificial matrix to solve the equation better\n",
    "x = np.arange(1, 16, 0.1)\n",
    "\n",
    "# we map the function to every element of the matrix - because we need the y values\n",
    "y = list(map(f, x))"
   ]
  },
  {
   "cell_type": "code",
   "execution_count": 18,
   "id": "986ad436",
   "metadata": {},
   "outputs": [
    {
     "data": {
      "text/plain": [
       "array([ 1. ,  1.1,  1.2,  1.3,  1.4,  1.5,  1.6,  1.7,  1.8,  1.9,  2. ,\n",
       "        2.1,  2.2,  2.3,  2.4,  2.5,  2.6,  2.7,  2.8,  2.9,  3. ,  3.1,\n",
       "        3.2,  3.3,  3.4,  3.5,  3.6,  3.7,  3.8,  3.9,  4. ,  4.1,  4.2,\n",
       "        4.3,  4.4,  4.5,  4.6,  4.7,  4.8,  4.9,  5. ,  5.1,  5.2,  5.3,\n",
       "        5.4,  5.5,  5.6,  5.7,  5.8,  5.9,  6. ,  6.1,  6.2,  6.3,  6.4,\n",
       "        6.5,  6.6,  6.7,  6.8,  6.9,  7. ,  7.1,  7.2,  7.3,  7.4,  7.5,\n",
       "        7.6,  7.7,  7.8,  7.9,  8. ,  8.1,  8.2,  8.3,  8.4,  8.5,  8.6,\n",
       "        8.7,  8.8,  8.9,  9. ,  9.1,  9.2,  9.3,  9.4,  9.5,  9.6,  9.7,\n",
       "        9.8,  9.9, 10. , 10.1, 10.2, 10.3, 10.4, 10.5, 10.6, 10.7, 10.8,\n",
       "       10.9, 11. , 11.1, 11.2, 11.3, 11.4, 11.5, 11.6, 11.7, 11.8, 11.9,\n",
       "       12. , 12.1, 12.2, 12.3, 12.4, 12.5, 12.6, 12.7, 12.8, 12.9, 13. ,\n",
       "       13.1, 13.2, 13.3, 13.4, 13.5, 13.6, 13.7, 13.8, 13.9, 14. , 14.1,\n",
       "       14.2, 14.3, 14.4, 14.5, 14.6, 14.7, 14.8, 14.9, 15. , 15.1, 15.2,\n",
       "       15.3, 15.4, 15.5, 15.6, 15.7, 15.8, 15.9])"
      ]
     },
     "execution_count": 18,
     "metadata": {},
     "output_type": "execute_result"
    }
   ],
   "source": [
    "x"
   ]
  },
  {
   "cell_type": "code",
   "execution_count": 19,
   "id": "a5d1711d",
   "metadata": {},
   "outputs": [
    {
     "data": {
      "text/plain": [
       "[3.252216865271419,\n",
       " 3.128353994472113,\n",
       " 3.012067143378875,\n",
       " 2.902999513100624,\n",
       " 2.800811180666543,\n",
       " 2.7051782592223566,\n",
       " 2.615792099119626,\n",
       " 2.532358527910862,\n",
       " 2.4545971273603557,\n",
       " 2.382240545672994,\n",
       " 2.315033843231158,\n",
       " 2.2527338702133894,\n",
       " 2.195108674547976,\n",
       " 2.141936938730242,\n",
       " 2.093007444104239,\n",
       " 2.0481185612779567,\n",
       " 2.007077765406241,\n",
       " 1.9697011751375206,\n",
       " 1.9358131140793269,\n",
       " 1.9052456936935815,\n",
       " 1.877838416585936,\n",
       " 1.853437799204098,\n",
       " 1.8318970130082928,\n",
       " 1.8130755432228618,\n",
       " 1.7968388643216162,\n",
       " 1.7830581314410332,\n",
       " 1.7716098869548658,\n",
       " 1.7623757814812482,\n",
       " 1.7552423086290903,\n",
       " 1.7501005528245133,\n",
       " 1.7468459495903674,\n",
       " 1.745378057682602,\n",
       " 1.7456003425164714,\n",
       " 1.747419970343361,\n",
       " 1.7507476126654336,\n",
       " 1.7554972604004604,\n",
       " 1.7615860473330907,\n",
       " 1.7689340824115731,\n",
       " 1.777464290470557,\n",
       " 1.7871022609811882,\n",
       " 1.7977761044492575,\n",
       " 1.8094163161007963,\n",
       " 1.8219556465121665,\n",
       " 1.8353289788585654,\n",
       " 1.8494732124708275,\n",
       " 1.8643271524056555,\n",
       " 1.8798314047488585,\n",
       " 1.8959282773849524,\n",
       " 1.9125616859795525,\n",
       " 1.9296770649334385,\n",
       " 1.9472212830789895,\n",
       " 1.9651425639009426,\n",
       " 1.9833904100741233,\n",
       " 2.0019155321209565,\n",
       " 2.0206697810012306,\n",
       " 2.0396060844557864,\n",
       " 2.058678386934517,\n",
       " 2.077841592947393,\n",
       " 2.0970515136850816,\n",
       " 2.116264816763273,\n",
       " 2.135438978951905,\n",
       " 2.154532241757296,\n",
       " 2.173503569731596,\n",
       " 2.1923126113900997,\n",
       " 2.210919662622779,\n",
       " 2.2292856324918895,\n",
       " 2.2473720113127724,\n",
       " 2.2651408409199383,\n",
       " 2.2825546870252555,\n",
       " 2.2995766135795566,\n",
       " 2.316170159053225,\n",
       " 2.332299314555404,\n",
       " 2.347928503715282,\n",
       " 2.3630225642525704,\n",
       " 2.3775467311677416,\n",
       " 2.3914666214859,\n",
       " 2.404748220491237,\n",
       " 2.41735786939202,\n",
       " 2.429262254358822,\n",
       " 2.4404283968813902,\n",
       " 2.450823645392046,\n",
       " 2.4604156681059117,\n",
       " 2.469172447030506,\n",
       " 2.4770622730993868,\n",
       " 2.484053742386578,\n",
       " 2.4901157533603837,\n",
       " 2.495217505137059,\n",
       " 2.4993284966964877,\n",
       " 2.502418527023665,\n",
       " 2.5044576961412885,\n",
       " 2.505416407000246,\n",
       " 2.505265368196135,\n",
       " 2.5039755974812303,\n",
       " 2.5015184260425696,\n",
       " 2.4978655035179407,\n",
       " 2.492988803722656,\n",
       " 2.4868606310610146,\n",
       " 2.4794536275973087,\n",
       " 2.4707407807621373,\n",
       " 2.4606954316706324,\n",
       " 2.449291284030007,\n",
       " 2.4365024136145674,\n",
       " 2.422303278287037,\n",
       " 2.406668728545711,\n",
       " 2.3895740185775276,\n",
       " 2.370994817797768,\n",
       " 2.3509072228575816,\n",
       " 2.3292877701010655,\n",
       " 2.3061134484540586,\n",
       " 2.28136171272726,\n",
       " 2.255010497316657,\n",
       " 2.227038230284645,\n",
       " 2.1974238478055126,\n",
       " 2.166146808959323,\n",
       " 2.133187110858468,\n",
       " 2.098525304091467,\n",
       " 2.0621425084687783,\n",
       " 2.0240204290556365,\n",
       " 1.9841413724771189,\n",
       " 1.942488263480802,\n",
       " 1.8990446617425305,\n",
       " 1.8537947789009694,\n",
       " 1.8067234958067102,\n",
       " 1.7578163799718247,\n",
       " 1.7070597032058352,\n",
       " 1.6544404594241413,\n",
       " 1.5999463826150224,\n",
       " 1.5435659649513778,\n",
       " 1.4852884750333695,\n",
       " 1.4251039762482165,\n",
       " 1.3630033452333508,\n",
       " 1.298978290429184,\n",
       " 1.2330213707077116,\n",
       " 1.1651260140631614,\n",
       " 1.095286536350893,\n",
       " 1.0234981600607345,\n",
       " 0.9497570331108295,\n",
       " 0.8740602476481493,\n",
       " 0.7964058588416564,\n",
       " 0.7167929036541442,\n",
       " 0.6352214195786546,\n",
       " 0.5516924633253347,\n",
       " 0.46620812944454126,\n",
       " 0.37877156887193375,\n",
       " 0.28938700738114703,\n",
       " 0.1980597639296873,\n",
       " 0.10479626888348963,\n",
       " 0.009604082105593147,\n",
       " -0.08750808910576707,\n",
       " -0.18653037224440583]"
      ]
     },
     "execution_count": 19,
     "metadata": {},
     "output_type": "execute_result"
    }
   ],
   "source": [
    "y"
   ]
  },
  {
   "cell_type": "code",
   "execution_count": 20,
   "id": "62c8b2d1",
   "metadata": {},
   "outputs": [
    {
     "data": {
      "text/plain": [
       "[<matplotlib.lines.Line2D at 0x1d559870d00>]"
      ]
     },
     "execution_count": 20,
     "metadata": {},
     "output_type": "execute_result"
    },
    {
     "data": {
      "image/png": "[encoded data removed]",
      "text/plain": [
       "<Figure size 640x480 with 1 Axes>"
      ]
     },
     "metadata": {},
     "output_type": "display_data"
    }
   ],
   "source": [
    "# and so we can make a plot \n",
    "plt.plot(x, y)"
   ]
  },
  {
   "cell_type": "code",
   "execution_count": 24,
   "id": "71a01bc1",
   "metadata": {},
   "outputs": [],
   "source": [
    "# Next, the code defines a set of x points at which to evaluate the function more accurately. \n",
    "# It then defines a function get_matrixe(x_points) that generates a matrix of polynomial terms of the \n",
    "# same length as the x_points array. \n",
    "# It also generates a corresponding array of y values for the x_points using the original function f(x).\n",
    "\n",
    "# we take the x values\n",
    "x_points = [2, 4, 8, 10,  16]\n"
   ]
  },
  {
   "cell_type": "code",
   "execution_count": null,
   "id": "2ea2aef9",
   "metadata": {},
   "outputs": [],
   "source": [
    "#and make matrix with them"
   ]
  },
  {
   "cell_type": "code",
   "execution_count": 25,
   "id": "d29ad612",
   "metadata": {},
   "outputs": [],
   "source": [
    "def get_matrixe(x_points):\n",
    "    \"\"\"Матриця з многочленів степеня len(x_points)\"\"\"\n",
    "    matrixe = []\n",
    "    \n",
    "    for x in x_points:\n",
    "        row = []\n",
    "        for i in range(len(x_points)):\n",
    "            row.append(x**i)\n",
    "        \n",
    "        matrixe.append(row)\n",
    "    \n",
    "    return matrixe"
   ]
  },
  {
   "cell_type": "code",
   "execution_count": 26,
   "id": "84f8982a",
   "metadata": {},
   "outputs": [
    {
     "data": {
      "text/plain": [
       "[[1, 2, 4, 8, 16],\n",
       " [1, 4, 16, 64, 256],\n",
       " [1, 8, 64, 512, 4096],\n",
       " [1, 10, 100, 1000, 10000],\n",
       " [1, 16, 256, 4096, 65536]]"
      ]
     },
     "execution_count": 26,
     "metadata": {},
     "output_type": "execute_result"
    }
   ],
   "source": [
    "A = get_matrixe(x_points)\n",
    "A"
   ]
  },
  {
   "cell_type": "code",
   "execution_count": 27,
   "id": "5c7e2864",
   "metadata": {},
   "outputs": [
    {
     "data": {
      "text/plain": [
       "[2.3150338432311584,\n",
       " 1.7468459495903677,\n",
       " 2.316170159053224,\n",
       " 2.5054164070002463,\n",
       " -0.28745171200358255]"
      ]
     },
     "execution_count": 27,
     "metadata": {},
     "output_type": "execute_result"
    }
   ],
   "source": [
    "#we repeat the action for the first plot - we map our primare function to this matrix\n",
    "y_points = list(map(f, x_points))\n",
    "y_points"
   ]
  },
  {
   "cell_type": "code",
   "execution_count": 28,
   "id": "35a4f49e",
   "metadata": {},
   "outputs": [
    {
     "data": {
      "text/plain": [
       "array([ 4.29909673e+00, -1.47342684e+00,  2.75243499e-01, -1.79451851e-02,\n",
       "        3.36142323e-04])"
      ]
     },
     "execution_count": 28,
     "metadata": {},
     "output_type": "execute_result"
    }
   ],
   "source": [
    "#The code then uses the numpy.linalg.solve function to \n",
    "# solve for the weights of the polynomial approximation, w, \n",
    "# using the x_points and y_points generated earlier.\n",
    "\n",
    "\n",
    "#now we solve the equations with y points\n",
    "w = np.linalg.solve(A, y_points)\n",
    "w"
   ]
  },
  {
   "cell_type": "code",
   "execution_count": 29,
   "id": "e436a724",
   "metadata": {},
   "outputs": [],
   "source": [
    "#Finally, the code defines a function get_app(w, x_points) that calculates\n",
    "# the polynomial approximation of the function using the weights w and the x points. \n",
    "\n",
    "\n",
    "#after we apply the new function to x points\n",
    "def get_app(w, x_points):\n",
    "    y = []\n",
    "    \n",
    "    for x in x_points:\n",
    "        y_row = 0\n",
    "        \n",
    "        for j in range(len(w)):\n",
    "            y_row += w[j] * (x**j)\n",
    "        y.append(y_row)\n",
    "        \n",
    "    return y\n",
    "\n",
    "\n",
    "y_app = get_app(w, x)"
   ]
  },
  {
   "cell_type": "code",
   "execution_count": 30,
   "id": "1c16129f",
   "metadata": {},
   "outputs": [
    {
     "data": {
      "text/plain": [
       "[3.0833043445671304,\n",
       " 2.9879789429768238,\n",
       " 2.8970229042470037,\n",
       " 2.81033783479529,\n",
       " 2.7278261477808754,\n",
       " 2.649391063104532,\n",
       " 2.5749366074086053,\n",
       " 2.5043676140770184,\n",
       " 2.4375897232352695,\n",
       " 2.3745093817504324,\n",
       " 2.3150338432311575,\n",
       " 2.259071168027672,\n",
       " 2.206530223231777,\n",
       " 2.157320682676852,\n",
       " 2.1113530269378487,\n",
       " 2.0685385433312997,\n",
       " 2.028789325915309,\n",
       " 1.9920182754895608,\n",
       " 1.9581390995953116,\n",
       " 1.9270663125153955,\n",
       " 1.8987152352742231,\n",
       " 1.8730019956377797,\n",
       " 1.8498435281136265,\n",
       " 1.8291575739509025,\n",
       " 1.8108626811403215,\n",
       " 1.7948782044141718,\n",
       " 1.7811243052463204,\n",
       " 1.769521951852208,\n",
       " 1.7599929191888535,\n",
       " 1.7524597889548503,\n",
       " 1.7468459495903665,\n",
       " 1.7430755962771474,\n",
       " 1.7410737309385174,\n",
       " 1.74076616223937,\n",
       " 1.7420795055861813,\n",
       " 1.7449411831269996,\n",
       " 1.749279423751451,\n",
       " 1.7550232630907363,\n",
       " 1.7621025435176312,\n",
       " 1.7704479141464928,\n",
       " 1.7799908308332464,\n",
       " 1.790663556175399,\n",
       " 1.8023991595120306,\n",
       " 1.8151315169237994,\n",
       " 1.8287953112329363,\n",
       " 1.843326032003253,\n",
       " 1.8586599755401338,\n",
       " 1.8747342448905375,\n",
       " 1.8914867498430046,\n",
       " 1.9088562069276431,\n",
       " 1.926782139416146,\n",
       " 1.9452048773217727,\n",
       " 1.9640655573993715,\n",
       " 1.983306123145356,\n",
       " 2.0028693247977167,\n",
       " 2.022698719336023,\n",
       " 2.0427386704814188,\n",
       " 2.0629343486966283,\n",
       " 2.0832317311859434,\n",
       " 2.1035776018952403,\n",
       " 2.123919551511963,\n",
       " 2.1442059774651394,\n",
       " 2.1643860839253715,\n",
       " 2.1844098818048288,\n",
       " 2.204228188757271,\n",
       " 2.22379262917802,\n",
       " 2.2430556342039845,\n",
       " 2.2619704417136397,\n",
       " 2.2804910963270517,\n",
       " 2.2985724494058397,\n",
       " 2.3161701590532227,\n",
       " 2.3332406901139757,\n",
       " 2.349741314174465,\n",
       " 2.3656301095626215,\n",
       " 2.3808659613479684,\n",
       " 2.395408561341572,\n",
       " 2.4092184080961188,\n",
       " 2.4222568069058332,\n",
       " 2.4344858698065406,\n",
       " 2.4458685155756266,\n",
       " 2.456368469732062,\n",
       " 2.4659502645363855,\n",
       " 2.474579238990726,\n",
       " 2.4822215388387687,\n",
       " 2.4888441165657897,\n",
       " 2.494414731398641,\n",
       " 2.49890194930574,\n",
       " 2.502275142997087,\n",
       " 2.5045044919242527,\n",
       " 2.5055609822803953,\n",
       " 2.5054164070002476,\n",
       " 2.5040433657601002,\n",
       " 2.5014152649778345,\n",
       " 2.4975063178129107,\n",
       " 2.4922915441663624,\n",
       " 2.4857467706807856,\n",
       " 2.477848630740378,\n",
       " 2.4685745644708854,\n",
       " 2.457902818739642,\n",
       " 2.4458124471555776,\n",
       " 2.432283310069156,\n",
       " 2.4172960745724543,\n",
       " 2.400832214499098,\n",
       " 2.3828740104243247,\n",
       " 2.363404549664903,\n",
       " 2.3424077262792116,\n",
       " 2.3198682410671925,\n",
       " 2.29577160157035,\n",
       " 2.2701041220718015,\n",
       " 2.242852923596195,\n",
       " 2.2140059339097933,\n",
       " 2.1835518875204176,\n",
       " 2.1514803256774444,\n",
       " 2.1177815963718993,\n",
       " 2.082446854336262,\n",
       " 2.0454680610447173,\n",
       " 2.0068379847129414,\n",
       " 1.9665502002982205,\n",
       " 1.9245990894994023,\n",
       " 1.8809798407569218,\n",
       " 1.8356884492527836,\n",
       " 1.78872171691056,\n",
       " 1.7400772523954373,\n",
       " 1.6897534711141162,\n",
       " 1.6377495952149275,\n",
       " 1.58406565358775,\n",
       " 1.52870248186405,\n",
       " 1.4716617224168598,\n",
       " 1.4129458243607882,\n",
       " 1.3525580435520332,\n",
       " 1.2905024425883749,\n",
       " 1.2267838908091253,\n",
       " 1.1614080642952143,\n",
       " 1.0943814458691374,\n",
       " 1.025711325094969,\n",
       " 0.9554057982783579,\n",
       " 0.8834737684665193,\n",
       " 0.8099249454482429,\n",
       " 0.7347698457538918,\n",
       " 0.6580197926554483,\n",
       " 0.5796869161664162,\n",
       " 0.4997841530419045,\n",
       " 0.4183252467785863,\n",
       " 0.33532474761471676,\n",
       " 0.2507980125301117,\n",
       " 0.16476120524621862,\n",
       " 0.07723129622597114,\n",
       " -0.011773937326054806,\n",
       " -0.10223591146373323,\n",
       " -0.19413523549934197]"
      ]
     },
     "execution_count": 30,
     "metadata": {},
     "output_type": "execute_result"
    }
   ],
   "source": [
    "y_app"
   ]
  },
  {
   "cell_type": "code",
   "execution_count": 31,
   "id": "1e5d1ab1",
   "metadata": {},
   "outputs": [
    {
     "data": {
      "text/plain": [
       "[<matplotlib.lines.Line2D at 0x1d5598ef8e0>]"
      ]
     },
     "execution_count": 31,
     "metadata": {},
     "output_type": "execute_result"
    },
    {
     "data": {
      "image/png": "[encoded data removed]",
      "text/plain": [
       "<Figure size 640x480 with 1 Axes>"
      ]
     },
     "metadata": {},
     "output_type": "display_data"
    }
   ],
   "source": [
    "# It then plots two graphs using matplotlib:\n",
    "# the original function f(x) plotted against the x and y values from earlier, \n",
    "# and the polynomial approximation of the function plotted against the same x values.\n",
    "\n",
    "# The resulting plot shows two lines: one in blue representing the original \n",
    "#     function and one in orange representing the polynomial approximation of the function. \n",
    "#     The two plots are created in the same figure using the plt.subplots() function, \n",
    "#     but with two separate plot axes - one for each plot.\n",
    "\n",
    "\n",
    "fig, ax = plt.subplots()\n",
    "\n",
    "ax.plot(x, y)\n",
    "ax.plot(x, y_app)"
   ]
  },
  {
   "cell_type": "code",
   "execution_count": null,
   "id": "dc2c7f50",
   "metadata": {},
   "outputs": [],
   "source": [
    "# The resulting polynomial function can then be evaluated for any x value to get an approximate value of the\n",
    "# original function."
   ]
  },
  {
   "cell_type": "code",
   "execution_count": null,
   "id": "3551837e",
   "metadata": {},
   "outputs": [],
   "source": [
    "# # f we remove the plotting code from the function above, the remaining code will perform the polynomial \n",
    "# approximation and return the polynomial approximation of the \n",
    "# function f(x) = sin(x/5) exp(x/10) + 5 exp(-x/2) evaluated at a set of x-values. Specifically, \n",
    "# it will return the y-values of the polynomial approximation at the same x-values used for the original function.\n",
    "\n",
    "# The resulting y-values can be used for further analysis or processing, such as numerical \n",
    "# integration, optimization, or comparison to the original function using some error metric."
   ]
  },
  {
   "cell_type": "code",
   "execution_count": null,
   "id": "8739e56b",
   "metadata": {},
   "outputs": [],
   "source": [
    "# The y_app variable will contain the y-values of the polynomial approximation of the function evaluated at\n",
    "# the same x-values as the original function."
   ]
  },
  {
   "cell_type": "code",
   "execution_count": null,
   "id": "35b60799",
   "metadata": {},
   "outputs": [],
   "source": [
    "# So, the polynomial approximation method used in the code above gives the polynomial function in terms of its coefficients and the corresponding y-values at the \n",
    "# given x-values"
   ]
  },
  {
   "cell_type": "markdown",
   "id": "484065a9",
   "metadata": {},
   "source": [
    "## <b> Задачі оптимізації"
   ]
  },
  {
   "cell_type": "markdown",
   "id": "67367268",
   "metadata": {},
   "source": [
    "У багатьох задачах вимагається не просто знайти який-небудь розв'язок, а підібрати серед усіх розв'язків найкращий \n",
    "(оптимальний). Йдеться про такі задачі, як підбір збалансованого раціону харчування, оптимізація асортименту продукції, \n",
    "оптимізація транспортних перевезень та багато інших – їх ще називають оптимізаційними. \n",
    "Перш ніж приступати до розв'язування оптимізаційної задачі, потрібно описати її в математичному вигляді, \n",
    "тобто побудувати її математичну модель. \n",
    "Модель оптимізаційної задачі складається з таких елементів:"
   ]
  },
  {
   "cell_type": "markdown",
   "id": "322a1fcb",
   "metadata": {},
   "source": [
    "змінні – невідомі величини, значення яких потрібно знайти в результаті\n",
    "розв'язання задачі;\n",
    "\n",
    "цільова функція – величина, яка залежить від змінних і значення якої\n",
    "потрібно максимізувати чи мінімізувати;\n",
    "\n",
    "критерій – вимога мінімізації чи максимізації цільової функції.\n",
    "\n",
    "обмеження – умови, яким мають задовольняти змінні."
   ]
  },
  {
   "cell_type": "markdown",
   "id": "22a46bcb",
   "metadata": {},
   "source": [
    "Найпростішою оптимізаційною задачею вважається задача пошуку максимального або мінімального значення функції однієї змінної.\n",
    "Добре дослідженим та важливим для планування виробничих процесів різновидом оптимізаційних задач є задачі лінійного \n",
    "програмування (ЗЛП), тобто задачі, в яких цільова функція та обмеження є лінійними. \n",
    "Загалом алгоритм розв'язання оптимізаційної задачі такий."
   ]
  },
  {
   "cell_type": "markdown",
   "id": "06324ac7",
   "metadata": {},
   "source": [
    "1. Введення позначень. Потрібно визначити, яка змінна яку величину\n",
    "позначатиме. \n",
    "2. Створення цільової функції та критерію. \n",
    "Слід визначити, яка величина максимізуватиметься чи мінімізуватиметься, та записати формулу залежності цієї величини \n",
    "від змінних, тобто формулу цільової функції. \n",
    "Нею може бути вартість продукції, обсяг прибутку, обсяг витрат на виробництво та перевезення. \n",
    "3. Складання системи обмежень. Обмеження – це нерівності або рівності, \n",
    "яким мають задовольняти значення змінних. \n",
    "4. Розв'язання задачі. \n",
    "Деякі оптимізаційні задачі можна розв’язати аналітично, \n",
    "без використання комп'ютера, проте цей спосіб надто трудомісткий."
   ]
  },
  {
   "cell_type": "markdown",
   "id": "4c265444",
   "metadata": {},
   "source": [
    "Задача 1\n",
    "Витрати на рекламу в місяць не повинні перевищувати 10 000 $.\n",
    "\n",
    "Хвилина радіореклами коштує 5, а телереклами 90\n",
    "\n",
    "Фірма має намір використовувати радіорекламу в три рази частіше ніж телерекламу.\n",
    "\n",
    "Практика показує, що 1 хвилина телереклами забезпечує обсяг продажів в 30 разів більший ніж 1 хвилина радіореклами."
   ]
  },
  {
   "cell_type": "markdown",
   "id": "4d58358d",
   "metadata": {},
   "source": [
    "Умови:"
   ]
  },
  {
   "cell_type": "markdown",
   "id": "e85d80d1",
   "metadata": {},
   "source": [
    "x1 -  к-сть хв на радіорекламу"
   ]
  },
  {
   "cell_type": "markdown",
   "id": "3978671c",
   "metadata": {},
   "source": [
    "x2 - к-сть хв на телерекламу"
   ]
  },
  {
   "cell_type": "markdown",
   "id": "64f09ad6",
   "metadata": {},
   "source": [
    "30x1 + x2 -> max\n",
    "\n",
    "5x1 + 90x2 <= 10000\n",
    "\n",
    "3x2 = x1"
   ]
  },
  {
   "cell_type": "code",
   "execution_count": 37,
   "id": "aa72d8a1",
   "metadata": {},
   "outputs": [
    {
     "data": {
      "text/plain": [
       "[[1, 2]]"
      ]
     },
     "execution_count": 37,
     "metadata": {},
     "output_type": "execute_result"
    }
   ],
   "source": [
    "L =  [ [1, 2] ]\n",
    "L"
   ]
  },
  {
   "cell_type": "code",
   "execution_count": 41,
   "id": "c55d0cde",
   "metadata": {},
   "outputs": [
    {
     "name": "stdout",
     "output_type": "stream",
     "text": [
      "           con: array([0.])\n",
      " crossover_nit: 0\n",
      "         eqlin:  marginals: array([0.21818182])\n",
      "  residual: array([0.])\n",
      "           fun: -3309.0909090909095\n",
      "       ineqlin:  marginals: array([-0.33090909])\n",
      "  residual: array([0.])\n",
      "         lower:  marginals: array([0., 0.])\n",
      "  residual: array([ 36.36363636, 109.09090909])\n",
      "       message: 'Optimization terminated successfully. (HiGHS Status 7: Optimal)'\n",
      "           nit: 0\n",
      "         slack: array([0.])\n",
      "        status: 0\n",
      "       success: True\n",
      "         upper:  marginals: array([0., 0.])\n",
      "  residual: array([inf, inf])\n",
      "             x: array([ 36.36363636, 109.09090909])\n"
     ]
    }
   ],
   "source": [
    "from scipy.optimize import linprog\n",
    "\n",
    "c = [-1,-30] # Objective function\n",
    "A_ub = [[5, 90]]  # Inequality constraints matrix\n",
    "b_ub = [10000] # Inequality constraints vector\n",
    "A_eq = [[3,-1]] # Equality constraints matrix\n",
    "b_eq = [0] # Equality constraints vector\n",
    "\n",
    "result = linprog(c=c, A_ub=A_ub, b_ub=b_ub, A_eq=A_eq, b_eq=b_eq)\n",
    "\n",
    "print(result)"
   ]
  },
  {
   "cell_type": "code",
   "execution_count": 43,
   "id": "7cf306a2",
   "metadata": {},
   "outputs": [],
   "source": [
    "# the optimal amount of radio advertising is 36.36363636 minutes\n",
    "# and the optimal amount of TV advertising is 109.09090909 minutes."
   ]
  },
  {
   "cell_type": "markdown",
   "id": "078ca927",
   "metadata": {},
   "source": [
    "Задача 2\n",
    "Скільки потрібно працівників на роботу в ресторан, якщо один працівник працює 5 днів в тижень. Враховуючи наплив клієнтів, в кожен день тижня потрібна певна к-сть працівників:\n",
    "Д1 = 14\n",
    "\n",
    "Д2 = 13\n",
    "\n",
    "Д3 = 15\n",
    "\n",
    "Д4 = 16\n",
    "\n",
    "Д5 = 19\n",
    "\n",
    "Д6 = 18\n",
    "\n",
    "Д7 = 11\n",
    "\n",
    "Дану задачу можна представити такою системою:\n"
   ]
  },
  {
   "cell_type": "markdown",
   "id": "a584d48d",
   "metadata": {},
   "source": [
    "The problem can be formulated as follows:\n",
    "\n",
    "minimize x1 + x2 + x3 + x4 + x5 + x6 + x7\n",
    "\n",
    "subject to:\n",
    "\n",
    "x1 + x4 + x5 + x6 + x7 >= 14\n",
    "\n",
    "x1 + x2 + x5 + x6 + x7 >= 13\n",
    "\n",
    "x1 + x2 + x3 + x6 + x7 >= 15\n",
    "\n",
    "x1 + x2 + x3 + x4 + x7 >= 16\n",
    "\n",
    "x1 + x2 + x3 + x4 + x5 >= 19\n",
    "\n",
    "x2 + x3 + x4 + x5 + x6 >= 18\n",
    "\n",
    "x3 + x4 + x5 + x6 + x7 >= 11\n",
    "\n",
    "x1, x2, x3, x4, x5, x6, x7 >= 0"
   ]
  },
  {
   "cell_type": "code",
   "execution_count": 49,
   "id": "a3638bf6",
   "metadata": {},
   "outputs": [
    {
     "name": "stdout",
     "output_type": "stream",
     "text": [
      "           con: array([], dtype=float64)\n",
      " crossover_nit: 0\n",
      "         eqlin:  marginals: array([], dtype=float64)\n",
      "  residual: array([], dtype=float64)\n",
      "           fun: 22.0\n",
      "       ineqlin:  marginals: array([-0.33333333, -0.        , -0.33333333, -0.        , -0.33333333,\n",
      "       -0.33333333, -0.        ])\n",
      "  residual: array([0., 0., 0., 0., 0., 0., 4.])\n",
      "         lower:  marginals: array([0.        , 0.        , 0.        , 0.        , 0.        ,\n",
      "       0.        , 0.33333333])\n",
      "  residual: array([4., 3., 5., 4., 3., 3., 0.])\n",
      "       message: 'Optimization terminated successfully. (HiGHS Status 7: Optimal)'\n",
      "           nit: 6\n",
      "         slack: array([0., 0., 0., 0., 0., 0., 4.])\n",
      "        status: 0\n",
      "       success: True\n",
      "         upper:  marginals: array([0., 0., 0., 0., 0., 0., 0.])\n",
      "  residual: array([inf, inf, inf, inf, inf, inf, inf])\n",
      "             x: array([4., 3., 5., 4., 3., 3., 0.])\n"
     ]
    }
   ],
   "source": [
    "from scipy.optimize import linprog\n",
    "\n",
    "c = [1, 1, 1, 1, 1, 1, 1]\n",
    "A_ub = [[-1, 0, 0, -1, -1, -1, -1],\n",
    "        [-1, -1, 0, 0, -1, -1, -1],\n",
    "        [-1, -1, -1, 0, 0, -1, -1],\n",
    "        [-1, -1, -1, -1, 0, 0, -1],\n",
    "        [-1, -1, -1, -1, -1, 0, 0],\n",
    "        [0, -1, -1, -1, -1, -1, 0],\n",
    "        [0, 0, -1, -1, -1, -1, -1]]\n",
    "b_ub = [-14, -13, -15, -16, -19, -18, -11]\n",
    "res = linprog(c, A_ub, b_ub, bounds=(0, None))\n",
    "print(res)"
   ]
  },
  {
   "cell_type": "code",
   "execution_count": 53,
   "id": "fe079dea",
   "metadata": {},
   "outputs": [
    {
     "data": {
      "text/plain": [
       "22.0"
      ]
     },
     "execution_count": 53,
     "metadata": {},
     "output_type": "execute_result"
    }
   ],
   "source": [
    "total_workers = sum([4., 3., 5., 4., 3., 3., 0.])\n",
    "total_workers "
   ]
  },
  {
   "cell_type": "code",
   "execution_count": null,
   "id": "3ba21e1c",
   "metadata": {},
   "outputs": [],
   "source": [
    "# c: the objective function coefficients, which are set to [-1, -30] because we want to maximize the objective function.\n",
    "# A_ub: the matrix of coefficients for the inequality constraints, which is set to [[5, 90]] to represent the constraint\n",
    "#     5x1 + 90x2 <= 10000.\n",
    "# b_ub: the right-hand side vector for the inequality constraints, which is set to [10000].\n",
    "# A_eq: the matrix of coefficients for the equality constraints, which is set to [[3, -1]] to represent the constraint\n",
    "#     3x2 = x1.\n",
    "# b_eq: the right-hand side vector for the equality constraints, which is set to [0].\n",
    "# Finally, the code calls the linprog() function with these inputs to solve the optimization problem and returns \n",
    "# the optimal values of the decision variables x1 and x2, as well as the optimal value of the\n",
    "# objective function."
   ]
  }
 ],
 "metadata": {
  "kernelspec": {
   "display_name": "Python 3 (ipykernel)",
   "language": "python",
   "name": "python3"
  },
  "language_info": {
   "codemirror_mode": {
    "name": "ipython",
    "version": 3
   },
   "file_extension": ".py",
   "mimetype": "text/x-python",
   "name": "python",
   "nbconvert_exporter": "python",
   "pygments_lexer": "ipython3",
   "version": "3.9.13"
  }
 },
 "nbformat": 4,
 "nbformat_minor": 5
}
